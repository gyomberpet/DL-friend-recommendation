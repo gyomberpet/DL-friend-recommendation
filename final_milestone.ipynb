{
  "cells": [
    {
      "cell_type": "markdown",
      "metadata": {
        "id": "r7IsFFBOIIkc"
      },
      "source": [
        "# **Friend recommendation**"
      ]
    },
    {
      "cell_type": "markdown",
      "metadata": {
        "id": "yqieVsJAJqyr"
      },
      "source": [
        "Related materials:\n",
        "\n",
        "* https://snap.stanford.edu/data/ego-Facebook.html\n",
        "* https://snap.stanford.edu/data/ego-Gplus.html\n",
        "* https://snap.stanford.edu/data/ego-Twitter.html\n",
        "* https://github.com/aditya-grover/node2vec\n",
        "* https://github.com/pyg-team/pytorch_geometric\n",
        "* https://arxiv.org/abs/1607.00653 -> https://arxiv.org/pdf/1607.00653.pdf\n",
        "* https://arxiv.org/abs/1611.07308 -> https://arxiv.org/pdf/1611.07308.pdf\n"
      ]
    },
    {
      "cell_type": "markdown",
      "metadata": {
        "id": "595V_NfZI0Ua"
      },
      "source": [
        "## Imports"
      ]
    },
    {
      "cell_type": "code",
      "execution_count": 13,
      "metadata": {
        "colab": {
          "base_uri": "https://localhost:8080/"
        },
        "id": "hpImoLglOj4R",
        "outputId": "ef39d03a-3382-4b61-8542-5cbe80f0c3ee"
      },
      "outputs": [
        {
          "output_type": "stream",
          "name": "stdout",
          "text": [
            "Requirement already satisfied: fastapi==0.104.1 in /usr/local/lib/python3.10/dist-packages (0.104.1)\n",
            "Requirement already satisfied: typing_extensions==4.8.0 in /usr/local/lib/python3.10/dist-packages (4.8.0)\n",
            "Requirement already satisfied: gradio==3.41.0 in /usr/local/lib/python3.10/dist-packages (3.41.0)\n",
            "Requirement already satisfied: anyio<4.0.0,>=3.7.1 in /usr/local/lib/python3.10/dist-packages (from fastapi==0.104.1) (3.7.1)\n",
            "Requirement already satisfied: pydantic!=1.8,!=1.8.1,!=2.0.0,!=2.0.1,!=2.1.0,<3.0.0,>=1.7.4 in /usr/local/lib/python3.10/dist-packages (from fastapi==0.104.1) (1.10.13)\n",
            "Requirement already satisfied: starlette<0.28.0,>=0.27.0 in /usr/local/lib/python3.10/dist-packages (from fastapi==0.104.1) (0.27.0)\n",
            "Requirement already satisfied: aiofiles<24.0,>=22.0 in /usr/local/lib/python3.10/dist-packages (from gradio==3.41.0) (23.2.1)\n",
            "Requirement already satisfied: altair<6.0,>=4.2.0 in /usr/local/lib/python3.10/dist-packages (from gradio==3.41.0) (4.2.2)\n",
            "Requirement already satisfied: ffmpy in /usr/local/lib/python3.10/dist-packages (from gradio==3.41.0) (0.3.1)\n",
            "Requirement already satisfied: gradio-client==0.5.0 in /usr/local/lib/python3.10/dist-packages (from gradio==3.41.0) (0.5.0)\n",
            "Requirement already satisfied: httpx in /usr/local/lib/python3.10/dist-packages (from gradio==3.41.0) (0.25.2)\n",
            "Requirement already satisfied: huggingface-hub>=0.14.0 in /usr/local/lib/python3.10/dist-packages (from gradio==3.41.0) (0.19.4)\n",
            "Requirement already satisfied: importlib-resources<7.0,>=1.3 in /usr/local/lib/python3.10/dist-packages (from gradio==3.41.0) (6.1.1)\n",
            "Requirement already satisfied: jinja2<4.0 in /usr/local/lib/python3.10/dist-packages (from gradio==3.41.0) (3.1.2)\n",
            "Requirement already satisfied: markupsafe~=2.0 in /usr/local/lib/python3.10/dist-packages (from gradio==3.41.0) (2.1.3)\n",
            "Requirement already satisfied: matplotlib~=3.0 in /usr/local/lib/python3.10/dist-packages (from gradio==3.41.0) (3.7.1)\n",
            "Requirement already satisfied: numpy~=1.0 in /usr/local/lib/python3.10/dist-packages (from gradio==3.41.0) (1.23.5)\n",
            "Requirement already satisfied: orjson~=3.0 in /usr/local/lib/python3.10/dist-packages (from gradio==3.41.0) (3.9.10)\n",
            "Requirement already satisfied: packaging in /usr/local/lib/python3.10/dist-packages (from gradio==3.41.0) (23.2)\n",
            "Requirement already satisfied: pandas<3.0,>=1.0 in /usr/local/lib/python3.10/dist-packages (from gradio==3.41.0) (1.5.3)\n",
            "Requirement already satisfied: pillow<11.0,>=8.0 in /usr/local/lib/python3.10/dist-packages (from gradio==3.41.0) (9.4.0)\n",
            "Requirement already satisfied: pydub in /usr/local/lib/python3.10/dist-packages (from gradio==3.41.0) (0.25.1)\n",
            "Requirement already satisfied: python-multipart in /usr/local/lib/python3.10/dist-packages (from gradio==3.41.0) (0.0.6)\n",
            "Requirement already satisfied: pyyaml<7.0,>=5.0 in /usr/local/lib/python3.10/dist-packages (from gradio==3.41.0) (6.0.1)\n",
            "Requirement already satisfied: requests~=2.0 in /usr/local/lib/python3.10/dist-packages (from gradio==3.41.0) (2.31.0)\n",
            "Requirement already satisfied: semantic-version~=2.0 in /usr/local/lib/python3.10/dist-packages (from gradio==3.41.0) (2.10.0)\n",
            "Requirement already satisfied: uvicorn>=0.14.0 in /usr/local/lib/python3.10/dist-packages (from gradio==3.41.0) (0.24.0.post1)\n",
            "Requirement already satisfied: websockets<12.0,>=10.0 in /usr/local/lib/python3.10/dist-packages (from gradio==3.41.0) (11.0.3)\n",
            "Requirement already satisfied: fsspec in /usr/local/lib/python3.10/dist-packages (from gradio-client==0.5.0->gradio==3.41.0) (2023.6.0)\n",
            "Requirement already satisfied: entrypoints in /usr/local/lib/python3.10/dist-packages (from altair<6.0,>=4.2.0->gradio==3.41.0) (0.4)\n",
            "Requirement already satisfied: jsonschema>=3.0 in /usr/local/lib/python3.10/dist-packages (from altair<6.0,>=4.2.0->gradio==3.41.0) (4.19.2)\n",
            "Requirement already satisfied: toolz in /usr/local/lib/python3.10/dist-packages (from altair<6.0,>=4.2.0->gradio==3.41.0) (0.12.0)\n",
            "Requirement already satisfied: idna>=2.8 in /usr/local/lib/python3.10/dist-packages (from anyio<4.0.0,>=3.7.1->fastapi==0.104.1) (3.6)\n",
            "Requirement already satisfied: sniffio>=1.1 in /usr/local/lib/python3.10/dist-packages (from anyio<4.0.0,>=3.7.1->fastapi==0.104.1) (1.3.0)\n",
            "Requirement already satisfied: exceptiongroup in /usr/local/lib/python3.10/dist-packages (from anyio<4.0.0,>=3.7.1->fastapi==0.104.1) (1.2.0)\n",
            "Requirement already satisfied: filelock in /usr/local/lib/python3.10/dist-packages (from huggingface-hub>=0.14.0->gradio==3.41.0) (3.13.1)\n",
            "Requirement already satisfied: tqdm>=4.42.1 in /usr/local/lib/python3.10/dist-packages (from huggingface-hub>=0.14.0->gradio==3.41.0) (4.66.1)\n",
            "Requirement already satisfied: contourpy>=1.0.1 in /usr/local/lib/python3.10/dist-packages (from matplotlib~=3.0->gradio==3.41.0) (1.2.0)\n",
            "Requirement already satisfied: cycler>=0.10 in /usr/local/lib/python3.10/dist-packages (from matplotlib~=3.0->gradio==3.41.0) (0.12.1)\n",
            "Requirement already satisfied: fonttools>=4.22.0 in /usr/local/lib/python3.10/dist-packages (from matplotlib~=3.0->gradio==3.41.0) (4.45.1)\n",
            "Requirement already satisfied: kiwisolver>=1.0.1 in /usr/local/lib/python3.10/dist-packages (from matplotlib~=3.0->gradio==3.41.0) (1.4.5)\n",
            "Requirement already satisfied: pyparsing>=2.3.1 in /usr/local/lib/python3.10/dist-packages (from matplotlib~=3.0->gradio==3.41.0) (3.1.1)\n",
            "Requirement already satisfied: python-dateutil>=2.7 in /usr/local/lib/python3.10/dist-packages (from matplotlib~=3.0->gradio==3.41.0) (2.8.2)\n",
            "Requirement already satisfied: pytz>=2020.1 in /usr/local/lib/python3.10/dist-packages (from pandas<3.0,>=1.0->gradio==3.41.0) (2023.3.post1)\n",
            "Requirement already satisfied: charset-normalizer<4,>=2 in /usr/local/lib/python3.10/dist-packages (from requests~=2.0->gradio==3.41.0) (3.3.2)\n",
            "Requirement already satisfied: urllib3<3,>=1.21.1 in /usr/local/lib/python3.10/dist-packages (from requests~=2.0->gradio==3.41.0) (2.0.7)\n",
            "Requirement already satisfied: certifi>=2017.4.17 in /usr/local/lib/python3.10/dist-packages (from requests~=2.0->gradio==3.41.0) (2023.11.17)\n",
            "Requirement already satisfied: click>=7.0 in /usr/local/lib/python3.10/dist-packages (from uvicorn>=0.14.0->gradio==3.41.0) (8.1.7)\n",
            "Requirement already satisfied: h11>=0.8 in /usr/local/lib/python3.10/dist-packages (from uvicorn>=0.14.0->gradio==3.41.0) (0.14.0)\n",
            "Requirement already satisfied: httpcore==1.* in /usr/local/lib/python3.10/dist-packages (from httpx->gradio==3.41.0) (1.0.2)\n",
            "Requirement already satisfied: attrs>=22.2.0 in /usr/local/lib/python3.10/dist-packages (from jsonschema>=3.0->altair<6.0,>=4.2.0->gradio==3.41.0) (23.1.0)\n",
            "Requirement already satisfied: jsonschema-specifications>=2023.03.6 in /usr/local/lib/python3.10/dist-packages (from jsonschema>=3.0->altair<6.0,>=4.2.0->gradio==3.41.0) (2023.11.2)\n",
            "Requirement already satisfied: referencing>=0.28.4 in /usr/local/lib/python3.10/dist-packages (from jsonschema>=3.0->altair<6.0,>=4.2.0->gradio==3.41.0) (0.31.1)\n",
            "Requirement already satisfied: rpds-py>=0.7.1 in /usr/local/lib/python3.10/dist-packages (from jsonschema>=3.0->altair<6.0,>=4.2.0->gradio==3.41.0) (0.13.2)\n",
            "Requirement already satisfied: six>=1.5 in /usr/local/lib/python3.10/dist-packages (from python-dateutil>=2.7->matplotlib~=3.0->gradio==3.41.0) (1.16.0)\n",
            "Looking in links: https://pytorch-geometric.com/whl/torch-2.1.0+cu118.html\n",
            "Requirement already satisfied: torch-scatter in /usr/local/lib/python3.10/dist-packages (2.1.2+pt21cu118)\n",
            "Looking in links: https://pytorch-geometric.com/whl/torch-2.1.0+cu118.html\n",
            "Requirement already satisfied: torch-sparse in /usr/local/lib/python3.10/dist-packages (0.6.18+pt21cu118)\n",
            "Requirement already satisfied: scipy in /usr/local/lib/python3.10/dist-packages (from torch-sparse) (1.11.4)\n",
            "Requirement already satisfied: numpy<1.28.0,>=1.21.6 in /usr/local/lib/python3.10/dist-packages (from scipy->torch-sparse) (1.23.5)\n",
            "Looking in links: https://pytorch-geometric.com/whl/torch-2.1.0+cu118.html\n",
            "Requirement already satisfied: torch-cluster in /usr/local/lib/python3.10/dist-packages (1.6.3+pt21cu118)\n",
            "Requirement already satisfied: scipy in /usr/local/lib/python3.10/dist-packages (from torch-cluster) (1.11.4)\n",
            "Requirement already satisfied: numpy<1.28.0,>=1.21.6 in /usr/local/lib/python3.10/dist-packages (from scipy->torch-cluster) (1.23.5)\n",
            "Looking in links: https://pytorch-geometric.com/whl/torch-2.1.0+cu118.html\n",
            "Requirement already satisfied: torch-spline-conv in /usr/local/lib/python3.10/dist-packages (1.2.2+pt21cu118)\n",
            "Looking in links: https://pytorch-geometric.com/whl/torch-2.1.0+cu118.html\n",
            "Requirement already satisfied: pyg-lib in /usr/local/lib/python3.10/dist-packages (0.3.1+pt21cu118)\n",
            "Requirement already satisfied: torch-geometric in /usr/local/lib/python3.10/dist-packages (2.4.0)\n",
            "Requirement already satisfied: tqdm in /usr/local/lib/python3.10/dist-packages (from torch-geometric) (4.66.1)\n",
            "Requirement already satisfied: numpy in /usr/local/lib/python3.10/dist-packages (from torch-geometric) (1.23.5)\n",
            "Requirement already satisfied: scipy in /usr/local/lib/python3.10/dist-packages (from torch-geometric) (1.11.4)\n",
            "Requirement already satisfied: jinja2 in /usr/local/lib/python3.10/dist-packages (from torch-geometric) (3.1.2)\n",
            "Requirement already satisfied: requests in /usr/local/lib/python3.10/dist-packages (from torch-geometric) (2.31.0)\n",
            "Requirement already satisfied: pyparsing in /usr/local/lib/python3.10/dist-packages (from torch-geometric) (3.1.1)\n",
            "Requirement already satisfied: scikit-learn in /usr/local/lib/python3.10/dist-packages (from torch-geometric) (1.2.2)\n",
            "Requirement already satisfied: psutil>=5.8.0 in /usr/local/lib/python3.10/dist-packages (from torch-geometric) (5.9.5)\n",
            "Requirement already satisfied: MarkupSafe>=2.0 in /usr/local/lib/python3.10/dist-packages (from jinja2->torch-geometric) (2.1.3)\n",
            "Requirement already satisfied: charset-normalizer<4,>=2 in /usr/local/lib/python3.10/dist-packages (from requests->torch-geometric) (3.3.2)\n",
            "Requirement already satisfied: idna<4,>=2.5 in /usr/local/lib/python3.10/dist-packages (from requests->torch-geometric) (3.6)\n",
            "Requirement already satisfied: urllib3<3,>=1.21.1 in /usr/local/lib/python3.10/dist-packages (from requests->torch-geometric) (2.0.7)\n",
            "Requirement already satisfied: certifi>=2017.4.17 in /usr/local/lib/python3.10/dist-packages (from requests->torch-geometric) (2023.11.17)\n",
            "Requirement already satisfied: joblib>=1.1.1 in /usr/local/lib/python3.10/dist-packages (from scikit-learn->torch-geometric) (1.3.2)\n",
            "Requirement already satisfied: threadpoolctl>=2.0.0 in /usr/local/lib/python3.10/dist-packages (from scikit-learn->torch-geometric) (3.2.0)\n",
            "Requirement already satisfied: wandb in /usr/local/lib/python3.10/dist-packages (0.16.1)\n",
            "Requirement already satisfied: Click!=8.0.0,>=7.1 in /usr/local/lib/python3.10/dist-packages (from wandb) (8.1.7)\n",
            "Requirement already satisfied: GitPython!=3.1.29,>=1.0.0 in /usr/local/lib/python3.10/dist-packages (from wandb) (3.1.40)\n",
            "Requirement already satisfied: requests<3,>=2.0.0 in /usr/local/lib/python3.10/dist-packages (from wandb) (2.31.0)\n",
            "Requirement already satisfied: psutil>=5.0.0 in /usr/local/lib/python3.10/dist-packages (from wandb) (5.9.5)\n",
            "Requirement already satisfied: sentry-sdk>=1.0.0 in /usr/local/lib/python3.10/dist-packages (from wandb) (1.38.0)\n",
            "Requirement already satisfied: docker-pycreds>=0.4.0 in /usr/local/lib/python3.10/dist-packages (from wandb) (0.4.0)\n",
            "Requirement already satisfied: PyYAML in /usr/local/lib/python3.10/dist-packages (from wandb) (6.0.1)\n",
            "Requirement already satisfied: setproctitle in /usr/local/lib/python3.10/dist-packages (from wandb) (1.3.3)\n",
            "Requirement already satisfied: setuptools in /usr/local/lib/python3.10/dist-packages (from wandb) (67.7.2)\n",
            "Requirement already satisfied: appdirs>=1.4.3 in /usr/local/lib/python3.10/dist-packages (from wandb) (1.4.4)\n",
            "Requirement already satisfied: protobuf!=4.21.0,<5,>=3.19.0 in /usr/local/lib/python3.10/dist-packages (from wandb) (3.20.3)\n",
            "Requirement already satisfied: six>=1.4.0 in /usr/local/lib/python3.10/dist-packages (from docker-pycreds>=0.4.0->wandb) (1.16.0)\n",
            "Requirement already satisfied: gitdb<5,>=4.0.1 in /usr/local/lib/python3.10/dist-packages (from GitPython!=3.1.29,>=1.0.0->wandb) (4.0.11)\n",
            "Requirement already satisfied: charset-normalizer<4,>=2 in /usr/local/lib/python3.10/dist-packages (from requests<3,>=2.0.0->wandb) (3.3.2)\n",
            "Requirement already satisfied: idna<4,>=2.5 in /usr/local/lib/python3.10/dist-packages (from requests<3,>=2.0.0->wandb) (3.6)\n",
            "Requirement already satisfied: urllib3<3,>=1.21.1 in /usr/local/lib/python3.10/dist-packages (from requests<3,>=2.0.0->wandb) (2.0.7)\n",
            "Requirement already satisfied: certifi>=2017.4.17 in /usr/local/lib/python3.10/dist-packages (from requests<3,>=2.0.0->wandb) (2023.11.17)\n",
            "Requirement already satisfied: smmap<6,>=3.0.1 in /usr/local/lib/python3.10/dist-packages (from gitdb<5,>=4.0.1->GitPython!=3.1.29,>=1.0.0->wandb) (5.0.1)\n"
          ]
        }
      ],
      "source": [
        "!pip install fastapi==0.104.1 typing_extensions==4.8.0 gradio==3.41.0\n",
        "import gradio as gr\n",
        "\n",
        "import pandas as pd\n",
        "import numpy as np\n",
        "\n",
        "import networkx as nx\n",
        "\n",
        "from bokeh.plotting import show\n",
        "from bokeh.models import BoxSelectTool, Circle, EdgesAndLinkedNodes, HoverTool, ColumnDataSource, MultiLine, NodesAndLinkedEdges, Plot, Range1d, TapTool, PanTool, WheelZoomTool\n",
        "from bokeh.palettes import Spectral4\n",
        "from bokeh.plotting import from_networkx\n",
        "\n",
        "\n",
        "import torch\n",
        "\n",
        "def format_pytorch_version(version):\n",
        "  return version.split('+')[0]\n",
        "\n",
        "TORCH_version = torch.__version__\n",
        "TORCH = format_pytorch_version(TORCH_version)\n",
        "\n",
        "def format_cuda_version(version):\n",
        "  return 'cu' + version.replace('.', '')\n",
        "\n",
        "CUDA_version = torch.version.cuda\n",
        "CUDA = format_cuda_version(CUDA_version)\n",
        "\n",
        "!pip install torch-scatter -f https://pytorch-geometric.com/whl/torch-{TORCH}+{CUDA}.html\n",
        "!pip install torch-sparse -f https://pytorch-geometric.com/whl/torch-{TORCH}+{CUDA}.html\n",
        "!pip install torch-cluster -f https://pytorch-geometric.com/whl/torch-{TORCH}+{CUDA}.html\n",
        "!pip install torch-spline-conv -f https://pytorch-geometric.com/whl/torch-{TORCH}+{CUDA}.html\n",
        "!pip install pyg-lib -f https://pytorch-geometric.com/whl/torch-{TORCH}+{CUDA}.html\n",
        "!pip install torch-geometric\n",
        "\n",
        "import requests\n",
        "import pandas as pd\n",
        "import io\n",
        "import gzip\n",
        "import random\n",
        "from sklearn.metrics import roc_auc_score\n",
        "from sklearn.metrics import average_precision_score\n",
        "from torch_geometric.data import Data\n",
        "import networkx as nx\n",
        "import numpy as np\n",
        "import torch.nn as nn\n",
        "import torch.nn.functional as F\n",
        "from torch_geometric.nn.models import InnerProductDecoder, VGAE\n",
        "from torch_geometric.nn.conv import GCNConv\n",
        "from torch_geometric.utils import negative_sampling, remove_self_loops, add_self_loops\n",
        "import os\n",
        "from torch.optim import Adam\n",
        "import torch_geometric.transforms as T\n",
        "from torch_geometric.utils import train_test_split_edges\n",
        "from torch_geometric.nn.models import Node2Vec\n",
        "from torch_geometric.transforms import RandomLinkSplit\n",
        "\n",
        "%matplotlib inline\n",
        "import matplotlib.pyplot as plt\n",
        "from sklearn.metrics import roc_curve, roc_auc_score\n",
        "\n",
        "!pip install wandb\n",
        "import wandb\n",
        "\n",
        "!pip freeze > requirements.txt"
      ]
    },
    {
      "cell_type": "markdown",
      "metadata": {
        "id": "d51CqgrSKAVk"
      },
      "source": [
        "## Data acquisition and analysis"
      ]
    },
    {
      "cell_type": "code",
      "execution_count": 2,
      "metadata": {
        "id": "V-dQXwTXj_fG"
      },
      "outputs": [],
      "source": [
        "# Define the URL for the data\n",
        "url = \"https://snap.stanford.edu/data/facebook_combined.txt.gz\"\n",
        "\n",
        "# Send an HTTP GET request to the URL\n",
        "response = requests.get(url)\n",
        "\n",
        "# Check if the request was successful (status code 200)\n",
        "if response.status_code == 200:\n",
        "    # Extract the content from the response\n",
        "    content = response.content\n",
        "\n",
        "    # Decompress the content using gzip\n",
        "    with gzip.open(io.BytesIO(content), 'rt') as f:\n",
        "        # Read the data into a Pandas DataFrame\n",
        "        df = pd.read_csv(f, sep=\" \", header=None, names=[\"source\", \"target\"])\n",
        "\n",
        "else:\n",
        "    print(\"Failed to download the data. Status code:\", response.status_code)"
      ]
    },
    {
      "cell_type": "markdown",
      "metadata": {
        "id": "IWrkui_Qm-aq"
      },
      "source": [
        "## Data cleansing"
      ]
    },
    {
      "cell_type": "code",
      "execution_count": 3,
      "metadata": {
        "id": "WMzsJvyRkAAL"
      },
      "outputs": [],
      "source": [
        "# Remove duplicate edges and self-edges\n",
        "condition = df['source'] > df['target']\n",
        "df.loc[condition, ['source', 'target']] = (df.loc[condition, ['target', 'source']].values)\n",
        "df = df.drop_duplicates()\n",
        "df = df[df['source'] != df['target']]"
      ]
    },
    {
      "cell_type": "markdown",
      "metadata": {
        "id": "9bHdCO5NfM-F"
      },
      "source": [
        "## Baseline Model"
      ]
    },
    {
      "cell_type": "code",
      "execution_count": 4,
      "metadata": {
        "colab": {
          "base_uri": "https://localhost:8080/"
        },
        "id": "PDmmgqoNfP6y",
        "outputId": "fb811ed7-2312-4210-88c6-5f1f15149840"
      },
      "outputs": [
        {
          "output_type": "stream",
          "name": "stderr",
          "text": [
            "<ipython-input-4-79e53eb79277>:4: DeprecationWarning: Sampling from a set deprecated\n",
            "since Python 3.9 and will be removed in a subsequent version.\n",
            "  train_edges = random.sample(g.edges(), k = int(0.8 * g.number_of_edges()))\n"
          ]
        }
      ],
      "source": [
        "g = nx.from_pandas_edgelist(df)\n",
        "\n",
        "all_edges = g.edges()\n",
        "train_edges = random.sample(g.edges(), k = int(0.8 * g.number_of_edges()))\n",
        "test_edges = list(all_edges - train_edges)\n",
        "\n",
        "all_negative_edges = list(nx.non_edges(g))\n",
        "test_edges_false = random.sample(all_negative_edges, len(test_edges))\n",
        "\n",
        "g_train = g.copy()\n",
        "g_train.remove_edges_from(test_edges)\n",
        "\n",
        "# Compute Preferential Attachment values from g_train\n",
        "aa_matrix = np.zeros((g.number_of_nodes(), g.number_of_nodes()))\n",
        "for u, v, p in nx.preferential_attachment(g_train): # (u, v) = node indices, p = Preferential Attachment value\n",
        "  aa_matrix[u][v] = p\n",
        "  aa_matrix[v][u] = p # make sure it's symmetric\n",
        "\n",
        "# Normalize array\n",
        "aa_matrix = aa_matrix / aa_matrix.max()\n",
        "\n",
        "adj_sparse = nx.to_scipy_sparse_array(g)\n",
        "\n",
        "def get_baseline_roc_score(edges_pos, edges_neg, score_matrix):\n",
        "  # Store positive edge predictions, actual values\n",
        "  preds_pos = []\n",
        "  pos = []\n",
        "  for edge in edges_pos:\n",
        "    preds_pos.append(score_matrix[edge[0], edge[1]]) # predicted score\n",
        "    pos.append(adj_sparse[edge[0], edge[1]]) # actual value (1 for positive)\n",
        "\n",
        "  # Store negative edge predictions, actual values\n",
        "  preds_neg = []\n",
        "  neg = []\n",
        "  for edge in edges_neg:\n",
        "    preds_neg.append(score_matrix[edge[0], edge[1]]) # predicted score\n",
        "    neg.append(adj_sparse[edge[0], edge[1]]) # actual value (0 for negative)\n",
        "\n",
        "  # Calculate scores\n",
        "  preds_all = np.hstack([preds_pos, preds_neg])\n",
        "  labels_all = np.hstack([np.ones(len(preds_pos)), np.zeros(len(preds_neg))])\n",
        "  roc_score = roc_auc_score(labels_all, preds_all)\n",
        "  ap_score = average_precision_score(labels_all, preds_all)\n",
        "  return roc_score, ap_score\n",
        "\n",
        "# Calculate ROC AUC and Average Precision\n",
        "baseline_roc_auc, baseline_ap = get_baseline_roc_score(test_edges, test_edges_false, aa_matrix)"
      ]
    },
    {
      "cell_type": "markdown",
      "metadata": {
        "id": "Z3aEHuHLmrpX"
      },
      "source": [
        "## Model"
      ]
    },
    {
      "cell_type": "code",
      "execution_count": 5,
      "metadata": {
        "id": "Fli6gQ5SmkJJ"
      },
      "outputs": [],
      "source": [
        "class GCNEncoder(nn.Module):\n",
        "  def __init__(self, in_channels, hidden_channels, out_channels):\n",
        "    super(GCNEncoder, self).__init__()\n",
        "    self.gcn_shared = GCNConv(in_channels, hidden_channels)\n",
        "    self.gcn_mu = GCNConv(hidden_channels, out_channels)\n",
        "    self.gcn_logvar = GCNConv(hidden_channels, out_channels)\n",
        "\n",
        "  def forward(self, x, edge_index):\n",
        "    x = F.relu(self.gcn_shared(x, edge_index))\n",
        "    mu = self.gcn_mu(x, edge_index)\n",
        "    logvar = self.gcn_logvar(x, edge_index)\n",
        "    return mu, logvar\n",
        "\n",
        "\n",
        "class DeepVGAE(VGAE):\n",
        "  def __init__(self, in_channels, hidden_channels, out_channels):\n",
        "    super(DeepVGAE, self).__init__(encoder = GCNEncoder(in_channels, hidden_channels, out_channels), decoder = InnerProductDecoder())\n",
        "\n",
        "  def forward(self, x, edge_index):\n",
        "    z = self.encode(x, edge_index)\n",
        "    adj_pred = self.decoder.forward_all(z)\n",
        "    return adj_pred\n",
        "\n",
        "  def loss(self, x, pos_edge_index, neg_edge_index):\n",
        "    z = self.encode(x, pos_edge_index)\n",
        "\n",
        "    pos_loss = -torch.log(self.decoder(z, pos_edge_index, sigmoid = True) + 1e-15).mean()\n",
        "    neg_loss = -torch.log(1 - self.decoder(z, neg_edge_index, sigmoid = True) + 1e-15).mean()\n",
        "\n",
        "    kl_loss = 1 / x.size(0) * self.kl_loss()\n",
        "\n",
        "    return pos_loss + neg_loss + kl_loss\n",
        "\n",
        "  def single_test(self, x, train_pos_edge_index, test_pos_edge_index, test_neg_edge_index):\n",
        "    with torch.no_grad():\n",
        "      z = self.encode(x, train_pos_edge_index)\n",
        "    roc_auc_score, average_precision_score = self.test(z, test_pos_edge_index, test_neg_edge_index)\n",
        "    return roc_auc_score, average_precision_score"
      ]
    },
    {
      "cell_type": "code",
      "execution_count": 6,
      "metadata": {
        "id": "lc1ZqZV3LhSt"
      },
      "outputs": [],
      "source": [
        "torch.manual_seed(42)\n",
        "device = torch.device('cuda' if torch.cuda.is_available() else 'cpu')\n",
        "\n",
        "def create_input(config):\n",
        "  # Hyperparameters\n",
        "  learning_rate = config[\"learning_rate\"]\n",
        "  num_features = config[\"num_features\"]\n",
        "  num_epoch = config[\"num_epoch\"]\n",
        "  hidden_channels = config[\"hidden_channels\"]\n",
        "  out_channels = config[\"out_channels\"]\n",
        "  walk_length = config[\"walk_length\"]\n",
        "  context_size = config[\"context_size\"]\n",
        "  walks_per_node = config[\"walks_per_node\"]\n",
        "\n",
        "  edge_index = torch.tensor(df[['source', 'target']].values.T, dtype=torch.long)\n",
        "  num_nodes = len(np.unique(np.array(df.values).reshape(1,-1)))\n",
        "  train_n2v_model = Node2Vec(edge_index = edge_index, embedding_dim = num_features, walk_length = walk_length, context_size = context_size, walks_per_node = walks_per_node, sparse = True)\n",
        "  x = train_n2v_model.forward()\n",
        "\n",
        "  # split data before using node2vec\n",
        "  data = Data(edge_index = edge_index, num_nodes = num_nodes)\n",
        "  transform = RandomLinkSplit(is_undirected = True, neg_sampling_ratio = 1, num_test = 0.2, num_val = 0.1)\n",
        "  train_data, val_data, test_data = transform(data)\n",
        "\n",
        "  # use node2vec to create embeddings for train, test and val data seperately\n",
        "  train_positive_edges_mask = (train_data.edge_label == 1)\n",
        "  train_positive_edges = train_data.edge_index[:, train_positive_edges_mask]\n",
        "  train_data = Data(x = x, edge_index = train_positive_edges)\n",
        "  train_neg_edge_index = negative_sampling(train_data.edge_index, num_nodes = train_data.num_nodes, num_neg_samples = train_positive_edges.size(1))\n",
        "  train_data.pos_edge_index = train_data.edge_index\n",
        "  train_data.neg_edge_index = train_neg_edge_index\n",
        "  train_data.edge_index = torch.cat([train_data.pos_edge_index, train_data.neg_edge_index], dim=1)\n",
        "\n",
        "\n",
        "  test_positive_edges_mask = (test_data.edge_label == 1)\n",
        "  test_positive_edges = test_data.edge_label_index[:, test_positive_edges_mask]\n",
        "  test_data = Data(x = x, edge_index = test_positive_edges)\n",
        "  test_neg_edge_index = negative_sampling(test_data.edge_index, num_nodes = test_data.num_nodes, num_neg_samples = test_positive_edges.size(1))\n",
        "  test_data.pos_edge_index = test_data.edge_index\n",
        "  test_data.neg_edge_index = test_neg_edge_index\n",
        "  test_data.edge_index = torch.cat([test_data.pos_edge_index, test_data.neg_edge_index], dim=1)\n",
        "\n",
        "\n",
        "  val_positive_edges_mask = (val_data.edge_label == 1)\n",
        "  val_positive_edges = val_data.edge_label_index[:, val_positive_edges_mask]\n",
        "  val_data = Data(x = x, edge_index = val_positive_edges)\n",
        "  val_neg_edge_index = negative_sampling(val_data.edge_index, num_nodes = val_data.num_nodes, num_neg_samples = val_positive_edges.size(1))\n",
        "  val_data.pos_edge_index = val_data.edge_index\n",
        "  val_data.neg_edge_index = val_neg_edge_index\n",
        "  val_data.edge_index = torch.cat([val_data.pos_edge_index, val_data.neg_edge_index], dim=1)\n",
        "\n",
        "  return train_data, test_data, val_data\n",
        "\n",
        "def train_model(config, train_data, test_data, val_data, log_wandb):\n",
        "  learning_rate = config[\"learning_rate\"]\n",
        "  num_features = config[\"num_features\"]\n",
        "  num_epoch = config[\"num_epoch\"]\n",
        "  hidden_channels = config[\"hidden_channels\"]\n",
        "  out_channels = config[\"out_channels\"]\n",
        "  walk_length = config[\"walk_length\"]\n",
        "  context_size = config[\"context_size\"]\n",
        "  walks_per_node = config[\"walks_per_node\"]\n",
        "\n",
        "  model = DeepVGAE(num_features, hidden_channels, out_channels).to(device)\n",
        "  optimizer = Adam(model.parameters(), lr = learning_rate)\n",
        "\n",
        "  for epoch in range(num_epoch):\n",
        "    model.train()\n",
        "    optimizer.zero_grad()\n",
        "    val_loss = model.loss(val_data.x, val_data.pos_edge_index, val_data.neg_edge_index)\n",
        "    train_loss = model.loss(train_data.x, train_data.pos_edge_index, train_data.neg_edge_index)\n",
        "    train_loss.backward()\n",
        "    optimizer.step()\n",
        "    model.eval()\n",
        "    roc_auc, ap = model.single_test(train_data.x, train_data.pos_edge_index, test_data.pos_edge_index, test_data.neg_edge_index)\n",
        "\n",
        "    if(log_wandb == True):\n",
        "      wandb.log({\"Training Loss\" : train_loss, \"Validation Loss\" : val_loss, \"ROC / AUC\" : roc_auc, \"Precision\" : ap})\n",
        "\n",
        "  return model, roc_auc, ap\n",
        "\n",
        "def wandb_train_model():\n",
        "  wandb.init()\n",
        "\n",
        "  train_data, test_data, val_data = create_input(wandb.config)\n",
        "\n",
        "  train_data = train_data.to(device)\n",
        "  test_data = test_data.to(device)\n",
        "  val_data = val_data.to(device)\n",
        "\n",
        "  model, roc_auc, ap = train_model(wandb.config, train_data, test_data, val_data, True)"
      ]
    },
    {
      "cell_type": "markdown",
      "metadata": {
        "id": "gExs9AQ3KhbL"
      },
      "source": [
        "##  Training the model"
      ]
    },
    {
      "cell_type": "code",
      "execution_count": 7,
      "metadata": {
        "colab": {
          "base_uri": "https://localhost:8080/",
          "height": 1000,
          "referenced_widgets": [
            "080861083bab41d386ffb7b1383da360",
            "dff8e1fe6a74459aa43c49cabb8ca38a",
            "864855428dd840c99898833b299dbf1b",
            "54420b3b23ab413d9d49e7edd351a176",
            "b544cad049474baa81440450a9b89843",
            "633abc78ef37412dbe11e4f346d945ff",
            "9a6cc864eb1141c0ab39a8d8532c8767",
            "80c4ab7b4468465594f0ffcd45acd7eb",
            "4a92f783005b4258be744d93dd4af1b1",
            "c2096eb27e82424187b719507efe3a36",
            "6e51126209ca4f48995c751f0e36c573",
            "da1bfe6503584919b2c0ec0d8772858f",
            "af48d3db0d0e46dea50317d15af7dea1",
            "ee53aa5b99dd470baaad7948860a2efd",
            "30e902a7a86a49b28a68b429a3a03b22",
            "967e4f1fff654bbc92d2eef4df719f9b",
            "5fe3eb1d83c34625bc183954d1c98e8e",
            "ce36e3e87c57425abb400a926469cb24",
            "c011d17371ed490385c3350576a34c6f",
            "91c23b6403c0422babf676239b6bfef8",
            "d187472f8a9349b2bab09c7c2d93a982",
            "9aba712183b54512a26f33e45de41e74",
            "6d1e82ce3661417cab0c78f46da25a98",
            "3f534ea68f974c09afbb4a09d69bca40",
            "c36ac1c708574d9b8592c2ec1d384c9c",
            "e4b048ff849b402cb293beb87802d751",
            "9b29aba94e674b838ac79d6baf244c8f",
            "a83e1fcb3dcb4012b434133cf4f081cc",
            "b49cee045ff8419292cf6b9ab701c190",
            "5892ef6170114271947811ddfd7e8c5b",
            "fbe85b577916433eb7f33d7e736863a7",
            "e678a1cf315242cda3e263340865d14e",
            "64e8c48e8b2c4343907ccf6a8f9aef0e",
            "e3445a38001743e4987aed6346c0001b",
            "d5dc5e25e2394f6bba9308576dfcd363",
            "face69002d6b4c439b2fa36e1e8764ca",
            "d459554d81fb45d3bbb1bceb8d759634",
            "d0c36ddea2ae4dee871f7a73a2329c9f",
            "8a789eb4fe1b4fcb945e8d3d039ad0f9",
            "a318c4fab98146719cb2f96a9353555c",
            "97ac3402727c4e60929282140ce023d6",
            "171aa88839fe441186d425f1b1bb5344",
            "d1526af77e3f4ffebc4745959df9aaeb",
            "5d2b32351f8a46d68b3083ec3a85ddbb",
            "86fe1794dd404ab396ea0a3a6f9bf597",
            "25dbf890d4a24793b2007f4e72e3d122",
            "8bcc84d480034282940cf72225b8b37b",
            "c9d616e51465429e927c486479ff8a9a",
            "27961ed1b0604314b755a171c856ea34",
            "d2b966ae41d049b098f7888eabeb8b27",
            "7f8d5842b98d41d685c2ee78c4e39f0c",
            "34ddfdc4055144539aaabf84898cd98e",
            "4828f21473c94dbc84aa4811a9efbe38",
            "a28848118526411caefc7d504d572286",
            "52a592a28bae4d12a7be84549c1d5a6b",
            "6cf7d15633304cee8a4001c2597c1caf",
            "abe349f9fce449a5847f882a8cfe4284",
            "331f19962f61420e981a959f9d5d5a51",
            "75d7224d35c1415ab849b9a556ce3536",
            "d30707eab02f494bbc4a12656d231c81",
            "8d8d7255e14842979d5ee0fc182c468a",
            "57ef984f052e464aa0dd11e60d58ff63",
            "bca34c98120747d9bcbb539bb9954dfd",
            "db952141ec21475e91ea8780fb07ed57",
            "ab1dfb507f124a5cacc83d0aa11198a6",
            "d77b45f3e62342698a6dfa8325f1449b",
            "e4f3a73d8161447cac23828ee3008fc2",
            "418ff3d9d4a34ab7be0b2656dde35f64",
            "5374b6611d974d7899d0c853a7c665f0",
            "2c9c7590d625402a9d6fccddb93531f0",
            "4c4327b84281456d9e72aacdd06d3188",
            "c719c43d5164489999e3828c5435ae01",
            "d3b58e50eb71494dbaa715afeac0840f",
            "835c1d0e12ba4c8ea5b38c6ee3af9930",
            "c52d34cc8d684e6aa691f45cb15c403f",
            "121044ddafb944c69f3f3f113d5cdc7f",
            "1b13c4bacf454d328b606ca1bd7fd423",
            "1e656c8530ad46b48df635aefcdd09c5",
            "f190e0e7103746aca2706c5569c7de44",
            "9b36399a00c64faa8f3b74ada75b1abd",
            "d73ff50670ab41739c6726e312365790",
            "b0cf16209f384edeb6f439a8f8f62bef",
            "811431d7949644e6b15b09b83281f5a9",
            "5564e17467344bd98df2df1b16c873fd",
            "fbb9f73329654c1fa74df0fdd2b75dc4",
            "9df27ea375ad490c828601c8323f37cb",
            "c44fc9151dd449f399d1db1170d7cffb",
            "0d97714d6a424d7daa18e100ed3f17f0"
          ]
        },
        "id": "HM-qQtcAnLKK",
        "outputId": "b291c2c8-ccf5-4acc-cc37-f6a2a230810c"
      },
      "outputs": [
        {
          "output_type": "stream",
          "name": "stdout",
          "text": [
            "Create sweep with ID: satzlnvg\n",
            "Sweep URL: https://wandb.ai/szabolcsrikli/Deep%20Learning%20Homework/sweeps/satzlnvg\n"
          ]
        },
        {
          "output_type": "stream",
          "name": "stderr",
          "text": [
            "\u001b[34m\u001b[1mwandb\u001b[0m: Agent Starting Run: gso4gh2y with config:\n",
            "\u001b[34m\u001b[1mwandb\u001b[0m: \tcontext_size: 6\n",
            "\u001b[34m\u001b[1mwandb\u001b[0m: \thidden_channels: 33\n",
            "\u001b[34m\u001b[1mwandb\u001b[0m: \tlearning_rate: 0.0759076182767705\n",
            "\u001b[34m\u001b[1mwandb\u001b[0m: \tnum_epoch: 183\n",
            "\u001b[34m\u001b[1mwandb\u001b[0m: \tnum_features: 95\n",
            "\u001b[34m\u001b[1mwandb\u001b[0m: \tout_channels: 15\n",
            "\u001b[34m\u001b[1mwandb\u001b[0m: \twalk_length: 37\n",
            "\u001b[34m\u001b[1mwandb\u001b[0m: \twalks_per_node: 4\n",
            "\u001b[34m\u001b[1mwandb\u001b[0m: Currently logged in as: \u001b[33mszabolcsrikli\u001b[0m. Use \u001b[1m`wandb login --relogin`\u001b[0m to force relogin\n"
          ]
        },
        {
          "output_type": "display_data",
          "data": {
            "text/plain": [
              "<IPython.core.display.HTML object>"
            ],
            "text/html": [
              "Tracking run with wandb version 0.16.1"
            ]
          },
          "metadata": {}
        },
        {
          "output_type": "display_data",
          "data": {
            "text/plain": [
              "<IPython.core.display.HTML object>"
            ],
            "text/html": [
              "Run data is saved locally in <code>/content/wandb/run-20231210_143432-gso4gh2y</code>"
            ]
          },
          "metadata": {}
        },
        {
          "output_type": "display_data",
          "data": {
            "text/plain": [
              "<IPython.core.display.HTML object>"
            ],
            "text/html": [
              "Syncing run <strong><a href='https://wandb.ai/szabolcsrikli/Deep%20Learning%20Homework/runs/gso4gh2y' target=\"_blank\">comic-sweep-1</a></strong> to <a href='https://wandb.ai/szabolcsrikli/Deep%20Learning%20Homework' target=\"_blank\">Weights & Biases</a> (<a href='https://wandb.me/run' target=\"_blank\">docs</a>)<br/>Sweep page: <a href='https://wandb.ai/szabolcsrikli/Deep%20Learning%20Homework/sweeps/satzlnvg' target=\"_blank\">https://wandb.ai/szabolcsrikli/Deep%20Learning%20Homework/sweeps/satzlnvg</a>"
            ]
          },
          "metadata": {}
        },
        {
          "output_type": "display_data",
          "data": {
            "text/plain": [
              "<IPython.core.display.HTML object>"
            ],
            "text/html": [
              " View project at <a href='https://wandb.ai/szabolcsrikli/Deep%20Learning%20Homework' target=\"_blank\">https://wandb.ai/szabolcsrikli/Deep%20Learning%20Homework</a>"
            ]
          },
          "metadata": {}
        },
        {
          "output_type": "display_data",
          "data": {
            "text/plain": [
              "<IPython.core.display.HTML object>"
            ],
            "text/html": [
              " View sweep at <a href='https://wandb.ai/szabolcsrikli/Deep%20Learning%20Homework/sweeps/satzlnvg' target=\"_blank\">https://wandb.ai/szabolcsrikli/Deep%20Learning%20Homework/sweeps/satzlnvg</a>"
            ]
          },
          "metadata": {}
        },
        {
          "output_type": "display_data",
          "data": {
            "text/plain": [
              "<IPython.core.display.HTML object>"
            ],
            "text/html": [
              " View run at <a href='https://wandb.ai/szabolcsrikli/Deep%20Learning%20Homework/runs/gso4gh2y' target=\"_blank\">https://wandb.ai/szabolcsrikli/Deep%20Learning%20Homework/runs/gso4gh2y</a>"
            ]
          },
          "metadata": {}
        },
        {
          "output_type": "display_data",
          "data": {
            "text/plain": [
              "VBox(children=(Label(value='0.011 MB of 0.011 MB uploaded\\r'), FloatProgress(value=1.0, max=1.0)))"
            ],
            "application/vnd.jupyter.widget-view+json": {
              "version_major": 2,
              "version_minor": 0,
              "model_id": "080861083bab41d386ffb7b1383da360"
            }
          },
          "metadata": {}
        },
        {
          "output_type": "display_data",
          "data": {
            "text/plain": [
              "<IPython.core.display.HTML object>"
            ],
            "text/html": [
              "<style>\n",
              "    table.wandb td:nth-child(1) { padding: 0 10px; text-align: left ; width: auto;} td:nth-child(2) {text-align: left ; width: 100%}\n",
              "    .wandb-row { display: flex; flex-direction: row; flex-wrap: wrap; justify-content: flex-start; width: 100% }\n",
              "    .wandb-col { display: flex; flex-direction: column; flex-basis: 100%; flex: 1; padding: 10px; }\n",
              "    </style>\n",
              "<div class=\"wandb-row\"><div class=\"wandb-col\"><h3>Run history:</h3><br/><table class=\"wandb\"><tr><td>Precision</td><td>▄▁▃▄▅▆▆▇▇▇▇▇▇▇██████████████████████████</td></tr><tr><td>ROC / AUC</td><td>▃▁▄▅▆▆▆▇▇▇▇▇▇▇██████████████████████████</td></tr><tr><td>Training Loss</td><td>█▂▁▁▁▁▁▁▁▁▁▁▁▁▁▁▁▁▁▁▁▁▁▁▁▁▁▁▁▁▁▁▁▁▁▁▁▁▁▁</td></tr><tr><td>Validation Loss</td><td>█▇▄▄▂▃▃▁▁▂▁▁▁▁▁▁▁▁▁▁▁▁▁▁▁▁▁▁▁▁▁▁▁▁▁▁▁▁▁▁</td></tr></table><br/></div><div class=\"wandb-col\"><h3>Run summary:</h3><br/><table class=\"wandb\"><tr><td>Precision</td><td>0.95374</td></tr><tr><td>ROC / AUC</td><td>0.95796</td></tr><tr><td>Training Loss</td><td>0.82676</td></tr><tr><td>Validation Loss</td><td>2.77557</td></tr></table><br/></div></div>"
            ]
          },
          "metadata": {}
        },
        {
          "output_type": "display_data",
          "data": {
            "text/plain": [
              "<IPython.core.display.HTML object>"
            ],
            "text/html": [
              " View run <strong style=\"color:#cdcd00\">comic-sweep-1</strong> at: <a href='https://wandb.ai/szabolcsrikli/Deep%20Learning%20Homework/runs/gso4gh2y' target=\"_blank\">https://wandb.ai/szabolcsrikli/Deep%20Learning%20Homework/runs/gso4gh2y</a><br/>Synced 4 W&B file(s), 0 media file(s), 0 artifact file(s) and 0 other file(s)"
            ]
          },
          "metadata": {}
        },
        {
          "output_type": "display_data",
          "data": {
            "text/plain": [
              "<IPython.core.display.HTML object>"
            ],
            "text/html": [
              "Find logs at: <code>./wandb/run-20231210_143432-gso4gh2y/logs</code>"
            ]
          },
          "metadata": {}
        },
        {
          "output_type": "stream",
          "name": "stderr",
          "text": [
            "\u001b[34m\u001b[1mwandb\u001b[0m: Agent Starting Run: cxfe3qfg with config:\n",
            "\u001b[34m\u001b[1mwandb\u001b[0m: \tcontext_size: 2\n",
            "\u001b[34m\u001b[1mwandb\u001b[0m: \thidden_channels: 21\n",
            "\u001b[34m\u001b[1mwandb\u001b[0m: \tlearning_rate: 0.03216692692355599\n",
            "\u001b[34m\u001b[1mwandb\u001b[0m: \tnum_epoch: 101\n",
            "\u001b[34m\u001b[1mwandb\u001b[0m: \tnum_features: 2\n",
            "\u001b[34m\u001b[1mwandb\u001b[0m: \tout_channels: 16\n",
            "\u001b[34m\u001b[1mwandb\u001b[0m: \twalk_length: 79\n",
            "\u001b[34m\u001b[1mwandb\u001b[0m: \twalks_per_node: 10\n"
          ]
        },
        {
          "output_type": "display_data",
          "data": {
            "text/plain": [
              "<IPython.core.display.HTML object>"
            ],
            "text/html": [
              "Tracking run with wandb version 0.16.1"
            ]
          },
          "metadata": {}
        },
        {
          "output_type": "display_data",
          "data": {
            "text/plain": [
              "<IPython.core.display.HTML object>"
            ],
            "text/html": [
              "Run data is saved locally in <code>/content/wandb/run-20231210_143458-cxfe3qfg</code>"
            ]
          },
          "metadata": {}
        },
        {
          "output_type": "display_data",
          "data": {
            "text/plain": [
              "<IPython.core.display.HTML object>"
            ],
            "text/html": [
              "Syncing run <strong><a href='https://wandb.ai/szabolcsrikli/Deep%20Learning%20Homework/runs/cxfe3qfg' target=\"_blank\">expert-sweep-2</a></strong> to <a href='https://wandb.ai/szabolcsrikli/Deep%20Learning%20Homework' target=\"_blank\">Weights & Biases</a> (<a href='https://wandb.me/run' target=\"_blank\">docs</a>)<br/>Sweep page: <a href='https://wandb.ai/szabolcsrikli/Deep%20Learning%20Homework/sweeps/satzlnvg' target=\"_blank\">https://wandb.ai/szabolcsrikli/Deep%20Learning%20Homework/sweeps/satzlnvg</a>"
            ]
          },
          "metadata": {}
        },
        {
          "output_type": "display_data",
          "data": {
            "text/plain": [
              "<IPython.core.display.HTML object>"
            ],
            "text/html": [
              " View project at <a href='https://wandb.ai/szabolcsrikli/Deep%20Learning%20Homework' target=\"_blank\">https://wandb.ai/szabolcsrikli/Deep%20Learning%20Homework</a>"
            ]
          },
          "metadata": {}
        },
        {
          "output_type": "display_data",
          "data": {
            "text/plain": [
              "<IPython.core.display.HTML object>"
            ],
            "text/html": [
              " View sweep at <a href='https://wandb.ai/szabolcsrikli/Deep%20Learning%20Homework/sweeps/satzlnvg' target=\"_blank\">https://wandb.ai/szabolcsrikli/Deep%20Learning%20Homework/sweeps/satzlnvg</a>"
            ]
          },
          "metadata": {}
        },
        {
          "output_type": "display_data",
          "data": {
            "text/plain": [
              "<IPython.core.display.HTML object>"
            ],
            "text/html": [
              " View run at <a href='https://wandb.ai/szabolcsrikli/Deep%20Learning%20Homework/runs/cxfe3qfg' target=\"_blank\">https://wandb.ai/szabolcsrikli/Deep%20Learning%20Homework/runs/cxfe3qfg</a>"
            ]
          },
          "metadata": {}
        },
        {
          "output_type": "display_data",
          "data": {
            "text/plain": [
              "VBox(children=(Label(value='0.001 MB of 0.010 MB uploaded\\r'), FloatProgress(value=0.11414805892708237, max=1.…"
            ],
            "application/vnd.jupyter.widget-view+json": {
              "version_major": 2,
              "version_minor": 0,
              "model_id": "4a92f783005b4258be744d93dd4af1b1"
            }
          },
          "metadata": {}
        },
        {
          "output_type": "display_data",
          "data": {
            "text/plain": [
              "<IPython.core.display.HTML object>"
            ],
            "text/html": [
              "<style>\n",
              "    table.wandb td:nth-child(1) { padding: 0 10px; text-align: left ; width: auto;} td:nth-child(2) {text-align: left ; width: 100%}\n",
              "    .wandb-row { display: flex; flex-direction: row; flex-wrap: wrap; justify-content: flex-start; width: 100% }\n",
              "    .wandb-col { display: flex; flex-direction: column; flex-basis: 100%; flex: 1; padding: 10px; }\n",
              "    </style>\n",
              "<div class=\"wandb-row\"><div class=\"wandb-col\"><h3>Run history:</h3><br/><table class=\"wandb\"><tr><td>Precision</td><td>▁▂▂▂▃▃▄▅▆▆▆▇▇▇▆▇▇▇▇▇▇▇▇█▇▇██████▇█▇█████</td></tr><tr><td>ROC / AUC</td><td>▁▃▂▃▄▄▅▅▆▆▆▇▇▇▇▇▇▇▇▇▇▇██████████▇███████</td></tr><tr><td>Training Loss</td><td>█▅▃▂▁▁▁▁▁▁▁▁▁▁▁▁▁▁▁▁▁▁▁▁▁▁▁▁▁▁▁▁▁▁▁▁▁▁▁▁</td></tr><tr><td>Validation Loss</td><td>█▃▁▁▂▁▁▁▁▁▁▁▁▂▂▂▂▂▂▂▂▁▁▁▁▁▁▂▂▂▂▂▁▁▁▁▁▂▁▁</td></tr></table><br/></div><div class=\"wandb-col\"><h3>Run summary:</h3><br/><table class=\"wandb\"><tr><td>Precision</td><td>0.81029</td></tr><tr><td>ROC / AUC</td><td>0.81668</td></tr><tr><td>Training Loss</td><td>1.1296</td></tr><tr><td>Validation Loss</td><td>1.77445</td></tr></table><br/></div></div>"
            ]
          },
          "metadata": {}
        },
        {
          "output_type": "display_data",
          "data": {
            "text/plain": [
              "<IPython.core.display.HTML object>"
            ],
            "text/html": [
              " View run <strong style=\"color:#cdcd00\">expert-sweep-2</strong> at: <a href='https://wandb.ai/szabolcsrikli/Deep%20Learning%20Homework/runs/cxfe3qfg' target=\"_blank\">https://wandb.ai/szabolcsrikli/Deep%20Learning%20Homework/runs/cxfe3qfg</a><br/>Synced 4 W&B file(s), 0 media file(s), 0 artifact file(s) and 0 other file(s)"
            ]
          },
          "metadata": {}
        },
        {
          "output_type": "display_data",
          "data": {
            "text/plain": [
              "<IPython.core.display.HTML object>"
            ],
            "text/html": [
              "Find logs at: <code>./wandb/run-20231210_143458-cxfe3qfg/logs</code>"
            ]
          },
          "metadata": {}
        },
        {
          "output_type": "stream",
          "name": "stderr",
          "text": [
            "\u001b[34m\u001b[1mwandb\u001b[0m: Sweep Agent: Waiting for job.\n",
            "\u001b[34m\u001b[1mwandb\u001b[0m: Job received.\n",
            "\u001b[34m\u001b[1mwandb\u001b[0m: Agent Starting Run: nql6ldd7 with config:\n",
            "\u001b[34m\u001b[1mwandb\u001b[0m: \tcontext_size: 6\n",
            "\u001b[34m\u001b[1mwandb\u001b[0m: \thidden_channels: 20\n",
            "\u001b[34m\u001b[1mwandb\u001b[0m: \tlearning_rate: 0.07286589407309188\n",
            "\u001b[34m\u001b[1mwandb\u001b[0m: \tnum_epoch: 144\n",
            "\u001b[34m\u001b[1mwandb\u001b[0m: \tnum_features: 111\n",
            "\u001b[34m\u001b[1mwandb\u001b[0m: \tout_channels: 8\n",
            "\u001b[34m\u001b[1mwandb\u001b[0m: \twalk_length: 87\n",
            "\u001b[34m\u001b[1mwandb\u001b[0m: \twalks_per_node: 2\n"
          ]
        },
        {
          "output_type": "display_data",
          "data": {
            "text/plain": [
              "<IPython.core.display.HTML object>"
            ],
            "text/html": [
              "Tracking run with wandb version 0.16.1"
            ]
          },
          "metadata": {}
        },
        {
          "output_type": "display_data",
          "data": {
            "text/plain": [
              "<IPython.core.display.HTML object>"
            ],
            "text/html": [
              "Run data is saved locally in <code>/content/wandb/run-20231210_143553-nql6ldd7</code>"
            ]
          },
          "metadata": {}
        },
        {
          "output_type": "display_data",
          "data": {
            "text/plain": [
              "<IPython.core.display.HTML object>"
            ],
            "text/html": [
              "Syncing run <strong><a href='https://wandb.ai/szabolcsrikli/Deep%20Learning%20Homework/runs/nql6ldd7' target=\"_blank\">good-sweep-3</a></strong> to <a href='https://wandb.ai/szabolcsrikli/Deep%20Learning%20Homework' target=\"_blank\">Weights & Biases</a> (<a href='https://wandb.me/run' target=\"_blank\">docs</a>)<br/>Sweep page: <a href='https://wandb.ai/szabolcsrikli/Deep%20Learning%20Homework/sweeps/satzlnvg' target=\"_blank\">https://wandb.ai/szabolcsrikli/Deep%20Learning%20Homework/sweeps/satzlnvg</a>"
            ]
          },
          "metadata": {}
        },
        {
          "output_type": "display_data",
          "data": {
            "text/plain": [
              "<IPython.core.display.HTML object>"
            ],
            "text/html": [
              " View project at <a href='https://wandb.ai/szabolcsrikli/Deep%20Learning%20Homework' target=\"_blank\">https://wandb.ai/szabolcsrikli/Deep%20Learning%20Homework</a>"
            ]
          },
          "metadata": {}
        },
        {
          "output_type": "display_data",
          "data": {
            "text/plain": [
              "<IPython.core.display.HTML object>"
            ],
            "text/html": [
              " View sweep at <a href='https://wandb.ai/szabolcsrikli/Deep%20Learning%20Homework/sweeps/satzlnvg' target=\"_blank\">https://wandb.ai/szabolcsrikli/Deep%20Learning%20Homework/sweeps/satzlnvg</a>"
            ]
          },
          "metadata": {}
        },
        {
          "output_type": "display_data",
          "data": {
            "text/plain": [
              "<IPython.core.display.HTML object>"
            ],
            "text/html": [
              " View run at <a href='https://wandb.ai/szabolcsrikli/Deep%20Learning%20Homework/runs/nql6ldd7' target=\"_blank\">https://wandb.ai/szabolcsrikli/Deep%20Learning%20Homework/runs/nql6ldd7</a>"
            ]
          },
          "metadata": {}
        },
        {
          "output_type": "display_data",
          "data": {
            "text/plain": [
              "VBox(children=(Label(value='0.001 MB of 0.010 MB uploaded\\r'), FloatProgress(value=0.11414805892708237, max=1.…"
            ],
            "application/vnd.jupyter.widget-view+json": {
              "version_major": 2,
              "version_minor": 0,
              "model_id": "5fe3eb1d83c34625bc183954d1c98e8e"
            }
          },
          "metadata": {}
        },
        {
          "output_type": "display_data",
          "data": {
            "text/plain": [
              "<IPython.core.display.HTML object>"
            ],
            "text/html": [
              "<style>\n",
              "    table.wandb td:nth-child(1) { padding: 0 10px; text-align: left ; width: auto;} td:nth-child(2) {text-align: left ; width: 100%}\n",
              "    .wandb-row { display: flex; flex-direction: row; flex-wrap: wrap; justify-content: flex-start; width: 100% }\n",
              "    .wandb-col { display: flex; flex-direction: column; flex-basis: 100%; flex: 1; padding: 10px; }\n",
              "    </style>\n",
              "<div class=\"wandb-row\"><div class=\"wandb-col\"><h3>Run history:</h3><br/><table class=\"wandb\"><tr><td>Precision</td><td>▁▂▅▅▆▆▇▇▇▇▇▇▇███████████████████████████</td></tr><tr><td>ROC / AUC</td><td>▁▂▄▅▆▆▆▆▇▇▇▇▇▇▇▇████████████████████████</td></tr><tr><td>Training Loss</td><td>█▃▂▂▂▂▂▁▁▁▁▁▁▁▁▁▁▁▁▁▁▁▁▁▁▁▁▁▁▁▁▁▁▁▁▁▁▁▁▁</td></tr><tr><td>Validation Loss</td><td>▄▆▄█▅▄▅▄▃▂▂▂▂▂▂▂▂▂▁▁▁▁▁▁▁▁▁▁▁▁▁▁▁▁▁▁▁▁▁▁</td></tr></table><br/></div><div class=\"wandb-col\"><h3>Run summary:</h3><br/><table class=\"wandb\"><tr><td>Precision</td><td>0.95354</td></tr><tr><td>ROC / AUC</td><td>0.95864</td></tr><tr><td>Training Loss</td><td>0.84306</td></tr><tr><td>Validation Loss</td><td>1.77227</td></tr></table><br/></div></div>"
            ]
          },
          "metadata": {}
        },
        {
          "output_type": "display_data",
          "data": {
            "text/plain": [
              "<IPython.core.display.HTML object>"
            ],
            "text/html": [
              " View run <strong style=\"color:#cdcd00\">good-sweep-3</strong> at: <a href='https://wandb.ai/szabolcsrikli/Deep%20Learning%20Homework/runs/nql6ldd7' target=\"_blank\">https://wandb.ai/szabolcsrikli/Deep%20Learning%20Homework/runs/nql6ldd7</a><br/>Synced 4 W&B file(s), 0 media file(s), 0 artifact file(s) and 0 other file(s)"
            ]
          },
          "metadata": {}
        },
        {
          "output_type": "display_data",
          "data": {
            "text/plain": [
              "<IPython.core.display.HTML object>"
            ],
            "text/html": [
              "Find logs at: <code>./wandb/run-20231210_143553-nql6ldd7/logs</code>"
            ]
          },
          "metadata": {}
        },
        {
          "output_type": "stream",
          "name": "stderr",
          "text": [
            "\u001b[34m\u001b[1mwandb\u001b[0m: Sweep Agent: Waiting for job.\n",
            "\u001b[34m\u001b[1mwandb\u001b[0m: Job received.\n",
            "\u001b[34m\u001b[1mwandb\u001b[0m: Agent Starting Run: jd1z4y18 with config:\n",
            "\u001b[34m\u001b[1mwandb\u001b[0m: \tcontext_size: 3\n",
            "\u001b[34m\u001b[1mwandb\u001b[0m: \thidden_channels: 55\n",
            "\u001b[34m\u001b[1mwandb\u001b[0m: \tlearning_rate: 0.02226121651986763\n",
            "\u001b[34m\u001b[1mwandb\u001b[0m: \tnum_epoch: 33\n",
            "\u001b[34m\u001b[1mwandb\u001b[0m: \tnum_features: 101\n",
            "\u001b[34m\u001b[1mwandb\u001b[0m: \tout_channels: 8\n",
            "\u001b[34m\u001b[1mwandb\u001b[0m: \twalk_length: 27\n",
            "\u001b[34m\u001b[1mwandb\u001b[0m: \twalks_per_node: 9\n"
          ]
        },
        {
          "output_type": "display_data",
          "data": {
            "text/plain": [
              "<IPython.core.display.HTML object>"
            ],
            "text/html": [
              "Tracking run with wandb version 0.16.1"
            ]
          },
          "metadata": {}
        },
        {
          "output_type": "display_data",
          "data": {
            "text/plain": [
              "<IPython.core.display.HTML object>"
            ],
            "text/html": [
              "Run data is saved locally in <code>/content/wandb/run-20231210_143617-jd1z4y18</code>"
            ]
          },
          "metadata": {}
        },
        {
          "output_type": "display_data",
          "data": {
            "text/plain": [
              "<IPython.core.display.HTML object>"
            ],
            "text/html": [
              "Syncing run <strong><a href='https://wandb.ai/szabolcsrikli/Deep%20Learning%20Homework/runs/jd1z4y18' target=\"_blank\">worthy-sweep-4</a></strong> to <a href='https://wandb.ai/szabolcsrikli/Deep%20Learning%20Homework' target=\"_blank\">Weights & Biases</a> (<a href='https://wandb.me/run' target=\"_blank\">docs</a>)<br/>Sweep page: <a href='https://wandb.ai/szabolcsrikli/Deep%20Learning%20Homework/sweeps/satzlnvg' target=\"_blank\">https://wandb.ai/szabolcsrikli/Deep%20Learning%20Homework/sweeps/satzlnvg</a>"
            ]
          },
          "metadata": {}
        },
        {
          "output_type": "display_data",
          "data": {
            "text/plain": [
              "<IPython.core.display.HTML object>"
            ],
            "text/html": [
              " View project at <a href='https://wandb.ai/szabolcsrikli/Deep%20Learning%20Homework' target=\"_blank\">https://wandb.ai/szabolcsrikli/Deep%20Learning%20Homework</a>"
            ]
          },
          "metadata": {}
        },
        {
          "output_type": "display_data",
          "data": {
            "text/plain": [
              "<IPython.core.display.HTML object>"
            ],
            "text/html": [
              " View sweep at <a href='https://wandb.ai/szabolcsrikli/Deep%20Learning%20Homework/sweeps/satzlnvg' target=\"_blank\">https://wandb.ai/szabolcsrikli/Deep%20Learning%20Homework/sweeps/satzlnvg</a>"
            ]
          },
          "metadata": {}
        },
        {
          "output_type": "display_data",
          "data": {
            "text/plain": [
              "<IPython.core.display.HTML object>"
            ],
            "text/html": [
              " View run at <a href='https://wandb.ai/szabolcsrikli/Deep%20Learning%20Homework/runs/jd1z4y18' target=\"_blank\">https://wandb.ai/szabolcsrikli/Deep%20Learning%20Homework/runs/jd1z4y18</a>"
            ]
          },
          "metadata": {}
        },
        {
          "output_type": "display_data",
          "data": {
            "text/plain": [
              "VBox(children=(Label(value='0.011 MB of 0.011 MB uploaded\\r'), FloatProgress(value=1.0, max=1.0)))"
            ],
            "application/vnd.jupyter.widget-view+json": {
              "version_major": 2,
              "version_minor": 0,
              "model_id": "c36ac1c708574d9b8592c2ec1d384c9c"
            }
          },
          "metadata": {}
        },
        {
          "output_type": "display_data",
          "data": {
            "text/plain": [
              "<IPython.core.display.HTML object>"
            ],
            "text/html": [
              "<style>\n",
              "    table.wandb td:nth-child(1) { padding: 0 10px; text-align: left ; width: auto;} td:nth-child(2) {text-align: left ; width: 100%}\n",
              "    .wandb-row { display: flex; flex-direction: row; flex-wrap: wrap; justify-content: flex-start; width: 100% }\n",
              "    .wandb-col { display: flex; flex-direction: column; flex-basis: 100%; flex: 1; padding: 10px; }\n",
              "    </style>\n",
              "<div class=\"wandb-row\"><div class=\"wandb-col\"><h3>Run history:</h3><br/><table class=\"wandb\"><tr><td>Precision</td><td>▁▄▅▅▆▆▆▆▆▆▇▇▇▇▇▇▇▇▇▇█████████████</td></tr><tr><td>ROC / AUC</td><td>▁▃▃▅▅▅▅▆▆▆▆▆▆▆▆▇▇▇▇▇▇▇▇▇█████████</td></tr><tr><td>Training Loss</td><td>█▂▂▂▁▁▁▁▁▁▁▁▁▁▁▁▁▁▁▁▁▁▁▁▁▁▁▁▁▁▁▁▁</td></tr><tr><td>Validation Loss</td><td>█▂▁▁▁▁▁▁▁▁▁▁▁▁▁▁▁▁▁▁▁▁▁▁▁▁▁▁▁▁▁▁▁</td></tr></table><br/></div><div class=\"wandb-col\"><h3>Run summary:</h3><br/><table class=\"wandb\"><tr><td>Precision</td><td>0.94744</td></tr><tr><td>ROC / AUC</td><td>0.94849</td></tr><tr><td>Training Loss</td><td>0.89029</td></tr><tr><td>Validation Loss</td><td>1.44719</td></tr></table><br/></div></div>"
            ]
          },
          "metadata": {}
        },
        {
          "output_type": "display_data",
          "data": {
            "text/plain": [
              "<IPython.core.display.HTML object>"
            ],
            "text/html": [
              " View run <strong style=\"color:#cdcd00\">worthy-sweep-4</strong> at: <a href='https://wandb.ai/szabolcsrikli/Deep%20Learning%20Homework/runs/jd1z4y18' target=\"_blank\">https://wandb.ai/szabolcsrikli/Deep%20Learning%20Homework/runs/jd1z4y18</a><br/>Synced 4 W&B file(s), 0 media file(s), 0 artifact file(s) and 0 other file(s)"
            ]
          },
          "metadata": {}
        },
        {
          "output_type": "display_data",
          "data": {
            "text/plain": [
              "<IPython.core.display.HTML object>"
            ],
            "text/html": [
              "Find logs at: <code>./wandb/run-20231210_143617-jd1z4y18/logs</code>"
            ]
          },
          "metadata": {}
        },
        {
          "output_type": "stream",
          "name": "stderr",
          "text": [
            "\u001b[34m\u001b[1mwandb\u001b[0m: Sweep Agent: Waiting for job.\n",
            "\u001b[34m\u001b[1mwandb\u001b[0m: Job received.\n",
            "\u001b[34m\u001b[1mwandb\u001b[0m: Agent Starting Run: 86y8jmrp with config:\n",
            "\u001b[34m\u001b[1mwandb\u001b[0m: \tcontext_size: 1\n",
            "\u001b[34m\u001b[1mwandb\u001b[0m: \thidden_channels: 61\n",
            "\u001b[34m\u001b[1mwandb\u001b[0m: \tlearning_rate: 0.07178834799997559\n",
            "\u001b[34m\u001b[1mwandb\u001b[0m: \tnum_epoch: 88\n",
            "\u001b[34m\u001b[1mwandb\u001b[0m: \tnum_features: 108\n",
            "\u001b[34m\u001b[1mwandb\u001b[0m: \tout_channels: 9\n",
            "\u001b[34m\u001b[1mwandb\u001b[0m: \twalk_length: 44\n",
            "\u001b[34m\u001b[1mwandb\u001b[0m: \twalks_per_node: 10\n"
          ]
        },
        {
          "output_type": "display_data",
          "data": {
            "text/plain": [
              "<IPython.core.display.HTML object>"
            ],
            "text/html": [
              "Tracking run with wandb version 0.16.1"
            ]
          },
          "metadata": {}
        },
        {
          "output_type": "display_data",
          "data": {
            "text/plain": [
              "<IPython.core.display.HTML object>"
            ],
            "text/html": [
              "Run data is saved locally in <code>/content/wandb/run-20231210_143638-86y8jmrp</code>"
            ]
          },
          "metadata": {}
        },
        {
          "output_type": "display_data",
          "data": {
            "text/plain": [
              "<IPython.core.display.HTML object>"
            ],
            "text/html": [
              "Syncing run <strong><a href='https://wandb.ai/szabolcsrikli/Deep%20Learning%20Homework/runs/86y8jmrp' target=\"_blank\">classic-sweep-5</a></strong> to <a href='https://wandb.ai/szabolcsrikli/Deep%20Learning%20Homework' target=\"_blank\">Weights & Biases</a> (<a href='https://wandb.me/run' target=\"_blank\">docs</a>)<br/>Sweep page: <a href='https://wandb.ai/szabolcsrikli/Deep%20Learning%20Homework/sweeps/satzlnvg' target=\"_blank\">https://wandb.ai/szabolcsrikli/Deep%20Learning%20Homework/sweeps/satzlnvg</a>"
            ]
          },
          "metadata": {}
        },
        {
          "output_type": "display_data",
          "data": {
            "text/plain": [
              "<IPython.core.display.HTML object>"
            ],
            "text/html": [
              " View project at <a href='https://wandb.ai/szabolcsrikli/Deep%20Learning%20Homework' target=\"_blank\">https://wandb.ai/szabolcsrikli/Deep%20Learning%20Homework</a>"
            ]
          },
          "metadata": {}
        },
        {
          "output_type": "display_data",
          "data": {
            "text/plain": [
              "<IPython.core.display.HTML object>"
            ],
            "text/html": [
              " View sweep at <a href='https://wandb.ai/szabolcsrikli/Deep%20Learning%20Homework/sweeps/satzlnvg' target=\"_blank\">https://wandb.ai/szabolcsrikli/Deep%20Learning%20Homework/sweeps/satzlnvg</a>"
            ]
          },
          "metadata": {}
        },
        {
          "output_type": "display_data",
          "data": {
            "text/plain": [
              "<IPython.core.display.HTML object>"
            ],
            "text/html": [
              " View run at <a href='https://wandb.ai/szabolcsrikli/Deep%20Learning%20Homework/runs/86y8jmrp' target=\"_blank\">https://wandb.ai/szabolcsrikli/Deep%20Learning%20Homework/runs/86y8jmrp</a>"
            ]
          },
          "metadata": {}
        },
        {
          "output_type": "display_data",
          "data": {
            "text/plain": [
              "VBox(children=(Label(value='0.001 MB of 0.011 MB uploaded\\r'), FloatProgress(value=0.10492250042582184, max=1.…"
            ],
            "application/vnd.jupyter.widget-view+json": {
              "version_major": 2,
              "version_minor": 0,
              "model_id": "64e8c48e8b2c4343907ccf6a8f9aef0e"
            }
          },
          "metadata": {}
        },
        {
          "output_type": "display_data",
          "data": {
            "text/plain": [
              "<IPython.core.display.HTML object>"
            ],
            "text/html": [
              "<style>\n",
              "    table.wandb td:nth-child(1) { padding: 0 10px; text-align: left ; width: auto;} td:nth-child(2) {text-align: left ; width: 100%}\n",
              "    .wandb-row { display: flex; flex-direction: row; flex-wrap: wrap; justify-content: flex-start; width: 100% }\n",
              "    .wandb-col { display: flex; flex-direction: column; flex-basis: 100%; flex: 1; padding: 10px; }\n",
              "    </style>\n",
              "<div class=\"wandb-row\"><div class=\"wandb-col\"><h3>Run history:</h3><br/><table class=\"wandb\"><tr><td>Precision</td><td>▂▁▂▂▂▄▃▄▅▅▅▅▅▅▆▆▆▆▆▇▇▇▇▇▇▇▇█████████████</td></tr><tr><td>ROC / AUC</td><td>▁▁▂▂▃▄▄▃▄▅▄▄▄▅▅▅▅▅▆▆▆▆▇▇▇▇▇▇▇▇██████████</td></tr><tr><td>Training Loss</td><td>▅█▆▅▅▄▃▂▂▁▁▁▁▁▁▁▁▁▁▁▁▁▁▁▁▁▁▁▁▁▁▁▁▁▁▁▁▁▁▁</td></tr><tr><td>Validation Loss</td><td>██▇▆▇▆▅▅▅▃▂▂▃▃▂▂▂▂▁▁▁▁▁▁▁▁▁▁▁▁▁▁▁▁▁▁▁▁▁▁</td></tr></table><br/></div><div class=\"wandb-col\"><h3>Run summary:</h3><br/><table class=\"wandb\"><tr><td>Precision</td><td>0.94338</td></tr><tr><td>ROC / AUC</td><td>0.94691</td></tr><tr><td>Training Loss</td><td>0.90257</td></tr><tr><td>Validation Loss</td><td>1.80054</td></tr></table><br/></div></div>"
            ]
          },
          "metadata": {}
        },
        {
          "output_type": "display_data",
          "data": {
            "text/plain": [
              "<IPython.core.display.HTML object>"
            ],
            "text/html": [
              " View run <strong style=\"color:#cdcd00\">classic-sweep-5</strong> at: <a href='https://wandb.ai/szabolcsrikli/Deep%20Learning%20Homework/runs/86y8jmrp' target=\"_blank\">https://wandb.ai/szabolcsrikli/Deep%20Learning%20Homework/runs/86y8jmrp</a><br/>Synced 4 W&B file(s), 0 media file(s), 0 artifact file(s) and 0 other file(s)"
            ]
          },
          "metadata": {}
        },
        {
          "output_type": "display_data",
          "data": {
            "text/plain": [
              "<IPython.core.display.HTML object>"
            ],
            "text/html": [
              "Find logs at: <code>./wandb/run-20231210_143638-86y8jmrp/logs</code>"
            ]
          },
          "metadata": {}
        },
        {
          "output_type": "stream",
          "name": "stderr",
          "text": [
            "\u001b[34m\u001b[1mwandb\u001b[0m: Agent Starting Run: zc2qt98b with config:\n",
            "\u001b[34m\u001b[1mwandb\u001b[0m: \tcontext_size: 3\n",
            "\u001b[34m\u001b[1mwandb\u001b[0m: \thidden_channels: 51\n",
            "\u001b[34m\u001b[1mwandb\u001b[0m: \tlearning_rate: 0.03172427694373001\n",
            "\u001b[34m\u001b[1mwandb\u001b[0m: \tnum_epoch: 71\n",
            "\u001b[34m\u001b[1mwandb\u001b[0m: \tnum_features: 97\n",
            "\u001b[34m\u001b[1mwandb\u001b[0m: \tout_channels: 10\n",
            "\u001b[34m\u001b[1mwandb\u001b[0m: \twalk_length: 24\n",
            "\u001b[34m\u001b[1mwandb\u001b[0m: \twalks_per_node: 6\n"
          ]
        },
        {
          "output_type": "display_data",
          "data": {
            "text/plain": [
              "<IPython.core.display.HTML object>"
            ],
            "text/html": [
              "Tracking run with wandb version 0.16.1"
            ]
          },
          "metadata": {}
        },
        {
          "output_type": "display_data",
          "data": {
            "text/plain": [
              "<IPython.core.display.HTML object>"
            ],
            "text/html": [
              "Run data is saved locally in <code>/content/wandb/run-20231210_143654-zc2qt98b</code>"
            ]
          },
          "metadata": {}
        },
        {
          "output_type": "display_data",
          "data": {
            "text/plain": [
              "<IPython.core.display.HTML object>"
            ],
            "text/html": [
              "Syncing run <strong><a href='https://wandb.ai/szabolcsrikli/Deep%20Learning%20Homework/runs/zc2qt98b' target=\"_blank\">comic-sweep-6</a></strong> to <a href='https://wandb.ai/szabolcsrikli/Deep%20Learning%20Homework' target=\"_blank\">Weights & Biases</a> (<a href='https://wandb.me/run' target=\"_blank\">docs</a>)<br/>Sweep page: <a href='https://wandb.ai/szabolcsrikli/Deep%20Learning%20Homework/sweeps/satzlnvg' target=\"_blank\">https://wandb.ai/szabolcsrikli/Deep%20Learning%20Homework/sweeps/satzlnvg</a>"
            ]
          },
          "metadata": {}
        },
        {
          "output_type": "display_data",
          "data": {
            "text/plain": [
              "<IPython.core.display.HTML object>"
            ],
            "text/html": [
              " View project at <a href='https://wandb.ai/szabolcsrikli/Deep%20Learning%20Homework' target=\"_blank\">https://wandb.ai/szabolcsrikli/Deep%20Learning%20Homework</a>"
            ]
          },
          "metadata": {}
        },
        {
          "output_type": "display_data",
          "data": {
            "text/plain": [
              "<IPython.core.display.HTML object>"
            ],
            "text/html": [
              " View sweep at <a href='https://wandb.ai/szabolcsrikli/Deep%20Learning%20Homework/sweeps/satzlnvg' target=\"_blank\">https://wandb.ai/szabolcsrikli/Deep%20Learning%20Homework/sweeps/satzlnvg</a>"
            ]
          },
          "metadata": {}
        },
        {
          "output_type": "display_data",
          "data": {
            "text/plain": [
              "<IPython.core.display.HTML object>"
            ],
            "text/html": [
              " View run at <a href='https://wandb.ai/szabolcsrikli/Deep%20Learning%20Homework/runs/zc2qt98b' target=\"_blank\">https://wandb.ai/szabolcsrikli/Deep%20Learning%20Homework/runs/zc2qt98b</a>"
            ]
          },
          "metadata": {}
        },
        {
          "output_type": "display_data",
          "data": {
            "text/plain": [
              "VBox(children=(Label(value='0.001 MB of 0.011 MB uploaded\\r'), FloatProgress(value=0.10497614178595774, max=1.…"
            ],
            "application/vnd.jupyter.widget-view+json": {
              "version_major": 2,
              "version_minor": 0,
              "model_id": "97ac3402727c4e60929282140ce023d6"
            }
          },
          "metadata": {}
        },
        {
          "output_type": "display_data",
          "data": {
            "text/plain": [
              "<IPython.core.display.HTML object>"
            ],
            "text/html": [
              "<style>\n",
              "    table.wandb td:nth-child(1) { padding: 0 10px; text-align: left ; width: auto;} td:nth-child(2) {text-align: left ; width: 100%}\n",
              "    .wandb-row { display: flex; flex-direction: row; flex-wrap: wrap; justify-content: flex-start; width: 100% }\n",
              "    .wandb-col { display: flex; flex-direction: column; flex-basis: 100%; flex: 1; padding: 10px; }\n",
              "    </style>\n",
              "<div class=\"wandb-row\"><div class=\"wandb-col\"><h3>Run history:</h3><br/><table class=\"wandb\"><tr><td>Precision</td><td>▁▅▆▇▇▇▇▇▇▇▇▇▇███████████████████████████</td></tr><tr><td>ROC / AUC</td><td>▁▅▅▆▆▆▆▇▇▇▇▇▇▇▇▇▇███████████████████████</td></tr><tr><td>Training Loss</td><td>█▃▂▁▁▁▁▁▁▁▁▁▁▁▁▁▁▁▁▁▁▁▁▁▁▁▁▁▁▁▁▁▁▁▁▁▁▁▁▁</td></tr><tr><td>Validation Loss</td><td>█▂▁▁▂▂▁▁▁▁▁▁▁▁▁▁▁▁▁▁▁▁▁▁▁▁▁▁▁▁▁▁▁▁▁▁▁▁▁▁</td></tr></table><br/></div><div class=\"wandb-col\"><h3>Run summary:</h3><br/><table class=\"wandb\"><tr><td>Precision</td><td>0.95581</td></tr><tr><td>ROC / AUC</td><td>0.95952</td></tr><tr><td>Training Loss</td><td>0.84392</td></tr><tr><td>Validation Loss</td><td>1.36178</td></tr></table><br/></div></div>"
            ]
          },
          "metadata": {}
        },
        {
          "output_type": "display_data",
          "data": {
            "text/plain": [
              "<IPython.core.display.HTML object>"
            ],
            "text/html": [
              " View run <strong style=\"color:#cdcd00\">comic-sweep-6</strong> at: <a href='https://wandb.ai/szabolcsrikli/Deep%20Learning%20Homework/runs/zc2qt98b' target=\"_blank\">https://wandb.ai/szabolcsrikli/Deep%20Learning%20Homework/runs/zc2qt98b</a><br/>Synced 4 W&B file(s), 0 media file(s), 0 artifact file(s) and 0 other file(s)"
            ]
          },
          "metadata": {}
        },
        {
          "output_type": "display_data",
          "data": {
            "text/plain": [
              "<IPython.core.display.HTML object>"
            ],
            "text/html": [
              "Find logs at: <code>./wandb/run-20231210_143654-zc2qt98b/logs</code>"
            ]
          },
          "metadata": {}
        },
        {
          "output_type": "stream",
          "name": "stderr",
          "text": [
            "\u001b[34m\u001b[1mwandb\u001b[0m: Agent Starting Run: 57ejq6ny with config:\n",
            "\u001b[34m\u001b[1mwandb\u001b[0m: \tcontext_size: 3\n",
            "\u001b[34m\u001b[1mwandb\u001b[0m: \thidden_channels: 38\n",
            "\u001b[34m\u001b[1mwandb\u001b[0m: \tlearning_rate: 0.026569590979466172\n",
            "\u001b[34m\u001b[1mwandb\u001b[0m: \tnum_epoch: 37\n",
            "\u001b[34m\u001b[1mwandb\u001b[0m: \tnum_features: 123\n",
            "\u001b[34m\u001b[1mwandb\u001b[0m: \tout_channels: 9\n",
            "\u001b[34m\u001b[1mwandb\u001b[0m: \twalk_length: 32\n",
            "\u001b[34m\u001b[1mwandb\u001b[0m: \twalks_per_node: 7\n"
          ]
        },
        {
          "output_type": "display_data",
          "data": {
            "text/plain": [
              "VBox(children=(Label(value='Waiting for wandb.init()...\\r'), FloatProgress(value=0.011112526055555665, max=1.0…"
            ],
            "application/vnd.jupyter.widget-view+json": {
              "version_major": 2,
              "version_minor": 0,
              "model_id": "27961ed1b0604314b755a171c856ea34"
            }
          },
          "metadata": {}
        },
        {
          "output_type": "display_data",
          "data": {
            "text/plain": [
              "<IPython.core.display.HTML object>"
            ],
            "text/html": [
              "Tracking run with wandb version 0.16.1"
            ]
          },
          "metadata": {}
        },
        {
          "output_type": "display_data",
          "data": {
            "text/plain": [
              "<IPython.core.display.HTML object>"
            ],
            "text/html": [
              "Run data is saved locally in <code>/content/wandb/run-20231210_143711-57ejq6ny</code>"
            ]
          },
          "metadata": {}
        },
        {
          "output_type": "display_data",
          "data": {
            "text/plain": [
              "<IPython.core.display.HTML object>"
            ],
            "text/html": [
              "Syncing run <strong><a href='https://wandb.ai/szabolcsrikli/Deep%20Learning%20Homework/runs/57ejq6ny' target=\"_blank\">gallant-sweep-7</a></strong> to <a href='https://wandb.ai/szabolcsrikli/Deep%20Learning%20Homework' target=\"_blank\">Weights & Biases</a> (<a href='https://wandb.me/run' target=\"_blank\">docs</a>)<br/>Sweep page: <a href='https://wandb.ai/szabolcsrikli/Deep%20Learning%20Homework/sweeps/satzlnvg' target=\"_blank\">https://wandb.ai/szabolcsrikli/Deep%20Learning%20Homework/sweeps/satzlnvg</a>"
            ]
          },
          "metadata": {}
        },
        {
          "output_type": "display_data",
          "data": {
            "text/plain": [
              "<IPython.core.display.HTML object>"
            ],
            "text/html": [
              " View project at <a href='https://wandb.ai/szabolcsrikli/Deep%20Learning%20Homework' target=\"_blank\">https://wandb.ai/szabolcsrikli/Deep%20Learning%20Homework</a>"
            ]
          },
          "metadata": {}
        },
        {
          "output_type": "display_data",
          "data": {
            "text/plain": [
              "<IPython.core.display.HTML object>"
            ],
            "text/html": [
              " View sweep at <a href='https://wandb.ai/szabolcsrikli/Deep%20Learning%20Homework/sweeps/satzlnvg' target=\"_blank\">https://wandb.ai/szabolcsrikli/Deep%20Learning%20Homework/sweeps/satzlnvg</a>"
            ]
          },
          "metadata": {}
        },
        {
          "output_type": "display_data",
          "data": {
            "text/plain": [
              "<IPython.core.display.HTML object>"
            ],
            "text/html": [
              " View run at <a href='https://wandb.ai/szabolcsrikli/Deep%20Learning%20Homework/runs/57ejq6ny' target=\"_blank\">https://wandb.ai/szabolcsrikli/Deep%20Learning%20Homework/runs/57ejq6ny</a>"
            ]
          },
          "metadata": {}
        },
        {
          "output_type": "display_data",
          "data": {
            "text/plain": [
              "VBox(children=(Label(value='0.011 MB of 0.011 MB uploaded\\r'), FloatProgress(value=1.0, max=1.0)))"
            ],
            "application/vnd.jupyter.widget-view+json": {
              "version_major": 2,
              "version_minor": 0,
              "model_id": "abe349f9fce449a5847f882a8cfe4284"
            }
          },
          "metadata": {}
        },
        {
          "output_type": "display_data",
          "data": {
            "text/plain": [
              "<IPython.core.display.HTML object>"
            ],
            "text/html": [
              "<style>\n",
              "    table.wandb td:nth-child(1) { padding: 0 10px; text-align: left ; width: auto;} td:nth-child(2) {text-align: left ; width: 100%}\n",
              "    .wandb-row { display: flex; flex-direction: row; flex-wrap: wrap; justify-content: flex-start; width: 100% }\n",
              "    .wandb-col { display: flex; flex-direction: column; flex-basis: 100%; flex: 1; padding: 10px; }\n",
              "    </style>\n",
              "<div class=\"wandb-row\"><div class=\"wandb-col\"><h3>Run history:</h3><br/><table class=\"wandb\"><tr><td>Precision</td><td>▁▄▄▄▅▆▆▆▆▇▇▇▇▇▇▇▇▇▇▇▇▇███████████████</td></tr><tr><td>ROC / AUC</td><td>▁▄▄▄▅▆▆▆▆▆▇▇▇▇▇▇▇▇▇▇▇▇▇▇█████████████</td></tr><tr><td>Training Loss</td><td>█▂▁▁▁▁▁▁▁▁▁▁▁▁▁▁▁▁▁▁▁▁▁▁▁▁▁▁▁▁▁▁▁▁▁▁▁</td></tr><tr><td>Validation Loss</td><td>█▃▂▂▂▂▂▁▁▁▁▁▁▁▁▁▁▁▁▁▁▁▁▁▁▁▁▁▁▁▁▁▁▁▁▁▁</td></tr></table><br/></div><div class=\"wandb-col\"><h3>Run summary:</h3><br/><table class=\"wandb\"><tr><td>Precision</td><td>0.94277</td></tr><tr><td>ROC / AUC</td><td>0.94314</td></tr><tr><td>Training Loss</td><td>0.90189</td></tr><tr><td>Validation Loss</td><td>1.4677</td></tr></table><br/></div></div>"
            ]
          },
          "metadata": {}
        },
        {
          "output_type": "display_data",
          "data": {
            "text/plain": [
              "<IPython.core.display.HTML object>"
            ],
            "text/html": [
              " View run <strong style=\"color:#cdcd00\">gallant-sweep-7</strong> at: <a href='https://wandb.ai/szabolcsrikli/Deep%20Learning%20Homework/runs/57ejq6ny' target=\"_blank\">https://wandb.ai/szabolcsrikli/Deep%20Learning%20Homework/runs/57ejq6ny</a><br/>Synced 4 W&B file(s), 0 media file(s), 0 artifact file(s) and 0 other file(s)"
            ]
          },
          "metadata": {}
        },
        {
          "output_type": "display_data",
          "data": {
            "text/plain": [
              "<IPython.core.display.HTML object>"
            ],
            "text/html": [
              "Find logs at: <code>./wandb/run-20231210_143711-57ejq6ny/logs</code>"
            ]
          },
          "metadata": {}
        },
        {
          "output_type": "stream",
          "name": "stderr",
          "text": [
            "\u001b[34m\u001b[1mwandb\u001b[0m: Agent Starting Run: y340ir4t with config:\n",
            "\u001b[34m\u001b[1mwandb\u001b[0m: \tcontext_size: 2\n",
            "\u001b[34m\u001b[1mwandb\u001b[0m: \thidden_channels: 42\n",
            "\u001b[34m\u001b[1mwandb\u001b[0m: \tlearning_rate: 0.007546798048080013\n",
            "\u001b[34m\u001b[1mwandb\u001b[0m: \tnum_epoch: 64\n",
            "\u001b[34m\u001b[1mwandb\u001b[0m: \tnum_features: 106\n",
            "\u001b[34m\u001b[1mwandb\u001b[0m: \tout_channels: 11\n",
            "\u001b[34m\u001b[1mwandb\u001b[0m: \twalk_length: 23\n",
            "\u001b[34m\u001b[1mwandb\u001b[0m: \twalks_per_node: 4\n"
          ]
        },
        {
          "output_type": "display_data",
          "data": {
            "text/plain": [
              "<IPython.core.display.HTML object>"
            ],
            "text/html": [
              "Tracking run with wandb version 0.16.1"
            ]
          },
          "metadata": {}
        },
        {
          "output_type": "display_data",
          "data": {
            "text/plain": [
              "<IPython.core.display.HTML object>"
            ],
            "text/html": [
              "Run data is saved locally in <code>/content/wandb/run-20231210_143728-y340ir4t</code>"
            ]
          },
          "metadata": {}
        },
        {
          "output_type": "display_data",
          "data": {
            "text/plain": [
              "<IPython.core.display.HTML object>"
            ],
            "text/html": [
              "Syncing run <strong><a href='https://wandb.ai/szabolcsrikli/Deep%20Learning%20Homework/runs/y340ir4t' target=\"_blank\">ruby-sweep-8</a></strong> to <a href='https://wandb.ai/szabolcsrikli/Deep%20Learning%20Homework' target=\"_blank\">Weights & Biases</a> (<a href='https://wandb.me/run' target=\"_blank\">docs</a>)<br/>Sweep page: <a href='https://wandb.ai/szabolcsrikli/Deep%20Learning%20Homework/sweeps/satzlnvg' target=\"_blank\">https://wandb.ai/szabolcsrikli/Deep%20Learning%20Homework/sweeps/satzlnvg</a>"
            ]
          },
          "metadata": {}
        },
        {
          "output_type": "display_data",
          "data": {
            "text/plain": [
              "<IPython.core.display.HTML object>"
            ],
            "text/html": [
              " View project at <a href='https://wandb.ai/szabolcsrikli/Deep%20Learning%20Homework' target=\"_blank\">https://wandb.ai/szabolcsrikli/Deep%20Learning%20Homework</a>"
            ]
          },
          "metadata": {}
        },
        {
          "output_type": "display_data",
          "data": {
            "text/plain": [
              "<IPython.core.display.HTML object>"
            ],
            "text/html": [
              " View sweep at <a href='https://wandb.ai/szabolcsrikli/Deep%20Learning%20Homework/sweeps/satzlnvg' target=\"_blank\">https://wandb.ai/szabolcsrikli/Deep%20Learning%20Homework/sweeps/satzlnvg</a>"
            ]
          },
          "metadata": {}
        },
        {
          "output_type": "display_data",
          "data": {
            "text/plain": [
              "<IPython.core.display.HTML object>"
            ],
            "text/html": [
              " View run at <a href='https://wandb.ai/szabolcsrikli/Deep%20Learning%20Homework/runs/y340ir4t' target=\"_blank\">https://wandb.ai/szabolcsrikli/Deep%20Learning%20Homework/runs/y340ir4t</a>"
            ]
          },
          "metadata": {}
        },
        {
          "output_type": "display_data",
          "data": {
            "text/plain": [
              "VBox(children=(Label(value='0.001 MB of 0.011 MB uploaded\\r'), FloatProgress(value=0.10483733605859308, max=1.…"
            ],
            "application/vnd.jupyter.widget-view+json": {
              "version_major": 2,
              "version_minor": 0,
              "model_id": "ab1dfb507f124a5cacc83d0aa11198a6"
            }
          },
          "metadata": {}
        },
        {
          "output_type": "display_data",
          "data": {
            "text/plain": [
              "<IPython.core.display.HTML object>"
            ],
            "text/html": [
              "<style>\n",
              "    table.wandb td:nth-child(1) { padding: 0 10px; text-align: left ; width: auto;} td:nth-child(2) {text-align: left ; width: 100%}\n",
              "    .wandb-row { display: flex; flex-direction: row; flex-wrap: wrap; justify-content: flex-start; width: 100% }\n",
              "    .wandb-col { display: flex; flex-direction: column; flex-basis: 100%; flex: 1; padding: 10px; }\n",
              "    </style>\n",
              "<div class=\"wandb-row\"><div class=\"wandb-col\"><h3>Run history:</h3><br/><table class=\"wandb\"><tr><td>Precision</td><td>▁▂▃▄▄▆▆▆▇▇▇▇▇▇▇▇▇▇▇▇████████████████████</td></tr><tr><td>ROC / AUC</td><td>▁▃▄▄▅▆▆▆▆▆▇▇▇▇▇▇▇▇▇▇▇▇▇█████████████████</td></tr><tr><td>Training Loss</td><td>█▅▂▂▂▁▁▁▁▁▁▁▁▁▁▁▁▁▁▁▁▁▁▁▁▁▁▁▁▁▁▁▁▁▁▁▁▁▁▁</td></tr><tr><td>Validation Loss</td><td>█▆▃▂▂▁▁▁▁▁▁▁▁▁▁▁▁▁▁▁▁▁▁▁▁▁▁▁▁▁▁▁▁▁▁▁▁▁▁▁</td></tr></table><br/></div><div class=\"wandb-col\"><h3>Run summary:</h3><br/><table class=\"wandb\"><tr><td>Precision</td><td>0.9507</td></tr><tr><td>ROC / AUC</td><td>0.95314</td></tr><tr><td>Training Loss</td><td>0.88417</td></tr><tr><td>Validation Loss</td><td>1.41984</td></tr></table><br/></div></div>"
            ]
          },
          "metadata": {}
        },
        {
          "output_type": "display_data",
          "data": {
            "text/plain": [
              "<IPython.core.display.HTML object>"
            ],
            "text/html": [
              " View run <strong style=\"color:#cdcd00\">ruby-sweep-8</strong> at: <a href='https://wandb.ai/szabolcsrikli/Deep%20Learning%20Homework/runs/y340ir4t' target=\"_blank\">https://wandb.ai/szabolcsrikli/Deep%20Learning%20Homework/runs/y340ir4t</a><br/>Synced 4 W&B file(s), 0 media file(s), 0 artifact file(s) and 0 other file(s)"
            ]
          },
          "metadata": {}
        },
        {
          "output_type": "display_data",
          "data": {
            "text/plain": [
              "<IPython.core.display.HTML object>"
            ],
            "text/html": [
              "Find logs at: <code>./wandb/run-20231210_143728-y340ir4t/logs</code>"
            ]
          },
          "metadata": {}
        },
        {
          "output_type": "stream",
          "name": "stderr",
          "text": [
            "\u001b[34m\u001b[1mwandb\u001b[0m: Agent Starting Run: lhaso4ah with config:\n",
            "\u001b[34m\u001b[1mwandb\u001b[0m: \tcontext_size: 3\n",
            "\u001b[34m\u001b[1mwandb\u001b[0m: \thidden_channels: 56\n",
            "\u001b[34m\u001b[1mwandb\u001b[0m: \tlearning_rate: 0.009473347514075072\n",
            "\u001b[34m\u001b[1mwandb\u001b[0m: \tnum_epoch: 47\n",
            "\u001b[34m\u001b[1mwandb\u001b[0m: \tnum_features: 68\n",
            "\u001b[34m\u001b[1mwandb\u001b[0m: \tout_channels: 12\n",
            "\u001b[34m\u001b[1mwandb\u001b[0m: \twalk_length: 32\n",
            "\u001b[34m\u001b[1mwandb\u001b[0m: \twalks_per_node: 6\n"
          ]
        },
        {
          "output_type": "display_data",
          "data": {
            "text/plain": [
              "<IPython.core.display.HTML object>"
            ],
            "text/html": [
              "Tracking run with wandb version 0.16.1"
            ]
          },
          "metadata": {}
        },
        {
          "output_type": "display_data",
          "data": {
            "text/plain": [
              "<IPython.core.display.HTML object>"
            ],
            "text/html": [
              "Run data is saved locally in <code>/content/wandb/run-20231210_143744-lhaso4ah</code>"
            ]
          },
          "metadata": {}
        },
        {
          "output_type": "display_data",
          "data": {
            "text/plain": [
              "<IPython.core.display.HTML object>"
            ],
            "text/html": [
              "Syncing run <strong><a href='https://wandb.ai/szabolcsrikli/Deep%20Learning%20Homework/runs/lhaso4ah' target=\"_blank\">solar-sweep-9</a></strong> to <a href='https://wandb.ai/szabolcsrikli/Deep%20Learning%20Homework' target=\"_blank\">Weights & Biases</a> (<a href='https://wandb.me/run' target=\"_blank\">docs</a>)<br/>Sweep page: <a href='https://wandb.ai/szabolcsrikli/Deep%20Learning%20Homework/sweeps/satzlnvg' target=\"_blank\">https://wandb.ai/szabolcsrikli/Deep%20Learning%20Homework/sweeps/satzlnvg</a>"
            ]
          },
          "metadata": {}
        },
        {
          "output_type": "display_data",
          "data": {
            "text/plain": [
              "<IPython.core.display.HTML object>"
            ],
            "text/html": [
              " View project at <a href='https://wandb.ai/szabolcsrikli/Deep%20Learning%20Homework' target=\"_blank\">https://wandb.ai/szabolcsrikli/Deep%20Learning%20Homework</a>"
            ]
          },
          "metadata": {}
        },
        {
          "output_type": "display_data",
          "data": {
            "text/plain": [
              "<IPython.core.display.HTML object>"
            ],
            "text/html": [
              " View sweep at <a href='https://wandb.ai/szabolcsrikli/Deep%20Learning%20Homework/sweeps/satzlnvg' target=\"_blank\">https://wandb.ai/szabolcsrikli/Deep%20Learning%20Homework/sweeps/satzlnvg</a>"
            ]
          },
          "metadata": {}
        },
        {
          "output_type": "display_data",
          "data": {
            "text/plain": [
              "<IPython.core.display.HTML object>"
            ],
            "text/html": [
              " View run at <a href='https://wandb.ai/szabolcsrikli/Deep%20Learning%20Homework/runs/lhaso4ah' target=\"_blank\">https://wandb.ai/szabolcsrikli/Deep%20Learning%20Homework/runs/lhaso4ah</a>"
            ]
          },
          "metadata": {}
        },
        {
          "output_type": "display_data",
          "data": {
            "text/plain": [
              "VBox(children=(Label(value='0.011 MB of 0.011 MB uploaded\\r'), FloatProgress(value=1.0, max=1.0)))"
            ],
            "application/vnd.jupyter.widget-view+json": {
              "version_major": 2,
              "version_minor": 0,
              "model_id": "d3b58e50eb71494dbaa715afeac0840f"
            }
          },
          "metadata": {}
        },
        {
          "output_type": "display_data",
          "data": {
            "text/plain": [
              "<IPython.core.display.HTML object>"
            ],
            "text/html": [
              "<style>\n",
              "    table.wandb td:nth-child(1) { padding: 0 10px; text-align: left ; width: auto;} td:nth-child(2) {text-align: left ; width: 100%}\n",
              "    .wandb-row { display: flex; flex-direction: row; flex-wrap: wrap; justify-content: flex-start; width: 100% }\n",
              "    .wandb-col { display: flex; flex-direction: column; flex-basis: 100%; flex: 1; padding: 10px; }\n",
              "    </style>\n",
              "<div class=\"wandb-row\"><div class=\"wandb-col\"><h3>Run history:</h3><br/><table class=\"wandb\"><tr><td>Precision</td><td>▁▄▄▄▅▅▆▆▆▆▇▇▇▇▇▇▇▇▇▇▇▇▇█████████████████</td></tr><tr><td>ROC / AUC</td><td>▁▃▃▃▄▄▅▆▆▆▆▆▆▇▇▇▇▇▇▇▇▇▇█████████████████</td></tr><tr><td>Training Loss</td><td>█▄▂▂▂▂▁▁▁▁▁▁▁▁▁▁▁▁▁▁▁▁▁▁▁▁▁▁▁▁▁▁▁▁▁▁▁▁▁▁</td></tr><tr><td>Validation Loss</td><td>█▄▂▂▂▂▁▁▁▁▁▁▁▁▁▁▁▁▁▁▁▁▁▁▁▁▁▁▁▁▁▁▁▁▁▁▁▁▁▁</td></tr></table><br/></div><div class=\"wandb-col\"><h3>Run summary:</h3><br/><table class=\"wandb\"><tr><td>Precision</td><td>0.95192</td></tr><tr><td>ROC / AUC</td><td>0.95386</td></tr><tr><td>Training Loss</td><td>0.88009</td></tr><tr><td>Validation Loss</td><td>1.28893</td></tr></table><br/></div></div>"
            ]
          },
          "metadata": {}
        },
        {
          "output_type": "display_data",
          "data": {
            "text/plain": [
              "<IPython.core.display.HTML object>"
            ],
            "text/html": [
              " View run <strong style=\"color:#cdcd00\">solar-sweep-9</strong> at: <a href='https://wandb.ai/szabolcsrikli/Deep%20Learning%20Homework/runs/lhaso4ah' target=\"_blank\">https://wandb.ai/szabolcsrikli/Deep%20Learning%20Homework/runs/lhaso4ah</a><br/>Synced 4 W&B file(s), 0 media file(s), 0 artifact file(s) and 0 other file(s)"
            ]
          },
          "metadata": {}
        },
        {
          "output_type": "display_data",
          "data": {
            "text/plain": [
              "<IPython.core.display.HTML object>"
            ],
            "text/html": [
              "Find logs at: <code>./wandb/run-20231210_143744-lhaso4ah/logs</code>"
            ]
          },
          "metadata": {}
        },
        {
          "output_type": "stream",
          "name": "stderr",
          "text": [
            "\u001b[34m\u001b[1mwandb\u001b[0m: Sweep Agent: Waiting for job.\n",
            "\u001b[34m\u001b[1mwandb\u001b[0m: Job received.\n",
            "\u001b[34m\u001b[1mwandb\u001b[0m: Agent Starting Run: dau5h2ub with config:\n",
            "\u001b[34m\u001b[1mwandb\u001b[0m: \tcontext_size: 2\n",
            "\u001b[34m\u001b[1mwandb\u001b[0m: \thidden_channels: 56\n",
            "\u001b[34m\u001b[1mwandb\u001b[0m: \tlearning_rate: 0.0029551524225689984\n",
            "\u001b[34m\u001b[1mwandb\u001b[0m: \tnum_epoch: 38\n",
            "\u001b[34m\u001b[1mwandb\u001b[0m: \tnum_features: 38\n",
            "\u001b[34m\u001b[1mwandb\u001b[0m: \tout_channels: 6\n",
            "\u001b[34m\u001b[1mwandb\u001b[0m: \twalk_length: 38\n",
            "\u001b[34m\u001b[1mwandb\u001b[0m: \twalks_per_node: 8\n"
          ]
        },
        {
          "output_type": "display_data",
          "data": {
            "text/plain": [
              "<IPython.core.display.HTML object>"
            ],
            "text/html": [
              "Tracking run with wandb version 0.16.1"
            ]
          },
          "metadata": {}
        },
        {
          "output_type": "display_data",
          "data": {
            "text/plain": [
              "<IPython.core.display.HTML object>"
            ],
            "text/html": [
              "Run data is saved locally in <code>/content/wandb/run-20231210_143818-dau5h2ub</code>"
            ]
          },
          "metadata": {}
        },
        {
          "output_type": "display_data",
          "data": {
            "text/plain": [
              "<IPython.core.display.HTML object>"
            ],
            "text/html": [
              "Syncing run <strong><a href='https://wandb.ai/szabolcsrikli/Deep%20Learning%20Homework/runs/dau5h2ub' target=\"_blank\">helpful-sweep-10</a></strong> to <a href='https://wandb.ai/szabolcsrikli/Deep%20Learning%20Homework' target=\"_blank\">Weights & Biases</a> (<a href='https://wandb.me/run' target=\"_blank\">docs</a>)<br/>Sweep page: <a href='https://wandb.ai/szabolcsrikli/Deep%20Learning%20Homework/sweeps/satzlnvg' target=\"_blank\">https://wandb.ai/szabolcsrikli/Deep%20Learning%20Homework/sweeps/satzlnvg</a>"
            ]
          },
          "metadata": {}
        },
        {
          "output_type": "display_data",
          "data": {
            "text/plain": [
              "<IPython.core.display.HTML object>"
            ],
            "text/html": [
              " View project at <a href='https://wandb.ai/szabolcsrikli/Deep%20Learning%20Homework' target=\"_blank\">https://wandb.ai/szabolcsrikli/Deep%20Learning%20Homework</a>"
            ]
          },
          "metadata": {}
        },
        {
          "output_type": "display_data",
          "data": {
            "text/plain": [
              "<IPython.core.display.HTML object>"
            ],
            "text/html": [
              " View sweep at <a href='https://wandb.ai/szabolcsrikli/Deep%20Learning%20Homework/sweeps/satzlnvg' target=\"_blank\">https://wandb.ai/szabolcsrikli/Deep%20Learning%20Homework/sweeps/satzlnvg</a>"
            ]
          },
          "metadata": {}
        },
        {
          "output_type": "display_data",
          "data": {
            "text/plain": [
              "<IPython.core.display.HTML object>"
            ],
            "text/html": [
              " View run at <a href='https://wandb.ai/szabolcsrikli/Deep%20Learning%20Homework/runs/dau5h2ub' target=\"_blank\">https://wandb.ai/szabolcsrikli/Deep%20Learning%20Homework/runs/dau5h2ub</a>"
            ]
          },
          "metadata": {}
        },
        {
          "output_type": "display_data",
          "data": {
            "text/plain": [
              "VBox(children=(Label(value='0.001 MB of 0.011 MB uploaded\\r'), FloatProgress(value=0.10484626522442722, max=1.…"
            ],
            "application/vnd.jupyter.widget-view+json": {
              "version_major": 2,
              "version_minor": 0,
              "model_id": "d73ff50670ab41739c6726e312365790"
            }
          },
          "metadata": {}
        },
        {
          "output_type": "display_data",
          "data": {
            "text/plain": [
              "<IPython.core.display.HTML object>"
            ],
            "text/html": [
              "<style>\n",
              "    table.wandb td:nth-child(1) { padding: 0 10px; text-align: left ; width: auto;} td:nth-child(2) {text-align: left ; width: 100%}\n",
              "    .wandb-row { display: flex; flex-direction: row; flex-wrap: wrap; justify-content: flex-start; width: 100% }\n",
              "    .wandb-col { display: flex; flex-direction: column; flex-basis: 100%; flex: 1; padding: 10px; }\n",
              "    </style>\n",
              "<div class=\"wandb-row\"><div class=\"wandb-col\"><h3>Run history:</h3><br/><table class=\"wandb\"><tr><td>Precision</td><td>▁▂▃▄▄▅▅▅▅▅▅▅▅▅▅▆▆▆▆▆▆▆▆▆▇▇▇▇▇▇▇▇██████</td></tr><tr><td>ROC / AUC</td><td>▁▂▃▄▄▄▅▅▅▅▅▅▅▅▅▅▅▆▆▆▆▆▆▆▆▇▇▇▇▇▇▇██████</td></tr><tr><td>Training Loss</td><td>█▇▅▄▃▃▃▂▂▂▂▂▂▂▂▂▂▂▁▁▁▁▁▁▁▁▁▁▁▁▁▁▁▁▁▁▁▁</td></tr><tr><td>Validation Loss</td><td>█▇▅▄▃▃▂▂▂▂▂▂▂▁▁▁▁▁▁▁▁▁▁▁▁▁▁▁▁▁▁▁▁▁▁▁▁▁</td></tr></table><br/></div><div class=\"wandb-col\"><h3>Run summary:</h3><br/><table class=\"wandb\"><tr><td>Precision</td><td>0.90979</td></tr><tr><td>ROC / AUC</td><td>0.90325</td></tr><tr><td>Training Loss</td><td>1.00844</td></tr><tr><td>Validation Loss</td><td>1.35209</td></tr></table><br/></div></div>"
            ]
          },
          "metadata": {}
        },
        {
          "output_type": "display_data",
          "data": {
            "text/plain": [
              "<IPython.core.display.HTML object>"
            ],
            "text/html": [
              " View run <strong style=\"color:#cdcd00\">helpful-sweep-10</strong> at: <a href='https://wandb.ai/szabolcsrikli/Deep%20Learning%20Homework/runs/dau5h2ub' target=\"_blank\">https://wandb.ai/szabolcsrikli/Deep%20Learning%20Homework/runs/dau5h2ub</a><br/>Synced 4 W&B file(s), 0 media file(s), 0 artifact file(s) and 0 other file(s)"
            ]
          },
          "metadata": {}
        },
        {
          "output_type": "display_data",
          "data": {
            "text/plain": [
              "<IPython.core.display.HTML object>"
            ],
            "text/html": [
              "Find logs at: <code>./wandb/run-20231210_143818-dau5h2ub/logs</code>"
            ]
          },
          "metadata": {}
        },
        {
          "output_type": "stream",
          "name": "stderr",
          "text": [
            "\u001b[34m\u001b[1mwandb\u001b[0m: Sorting runs by +summary_metrics.Validation Loss\n"
          ]
        }
      ],
      "source": [
        "# Hyperparameter optimalization\n",
        "sweep_configuration = {\n",
        "  \"method\": \"bayes\",\n",
        "  \"name\": \"sweep\",\n",
        "  \"metric\": {\"goal\": \"minimize\", \"name\": \"Validation Loss\"},\n",
        "  \"parameters\": {\n",
        "    \"learning_rate\" : {\"max\" : 0.1, \"min\" : 0.0001},\n",
        "    \"num_features\" : {\"min\" : 2, \"max\" : 128},\n",
        "    \"num_epoch\" : {\"min\" : 25, \"max\" : 200},\n",
        "    \"hidden_channels\" : {\"min\" : 1, \"max\" : 64},\n",
        "    \"out_channels\" : {\"min\" : 1, \"max\" : 16},\n",
        "    \"walk_length\" : {\"min\" : 10, \"max\" : 100},\n",
        "    \"context_size\" : {\"min\" : 1, \"max\" : 10},\n",
        "    \"walks_per_node\" : {\"min\" : 1, \"max\" : 10},\n",
        "  },\n",
        "}\n",
        "\n",
        "#wandb.login()\n",
        "os.environ[\"WANDB_API_KEY\"] = \"858ab781cf5ec123e162cc8cfe304c1a096f76cb\"\n",
        "\n",
        "project = \"Deep Learning Homework\"\n",
        "sweep_id = wandb.sweep(sweep = sweep_configuration, project = project)\n",
        "count = 10\n",
        "wandb.agent(sweep_id, function = wandb_train_model, count = count)\n",
        "\n",
        "sweep = wandb.Api().sweep(f'{os.getenv(\"WANDB_ENTITY\")}/{project}/{sweep_id}')\n",
        "best_run = sweep.best_run()\n",
        "best_parameters = best_run.config\n",
        "\n",
        "wandb.finish()\n",
        "\n",
        "# Training a model with the best parameters\n",
        "train_data, test_data, val_data = create_input(best_parameters)\n",
        "train_data = train_data.to(device)\n",
        "test_data = test_data.to(device)\n",
        "val_data = val_data.to(device)\n",
        "model, model_roc_auc, model_ap = train_model(best_parameters, train_data, test_data, val_data, False)"
      ]
    },
    {
      "cell_type": "markdown",
      "metadata": {
        "id": "KvJQLTjhndlE"
      },
      "source": [
        "## Creating and cleansing output"
      ]
    },
    {
      "cell_type": "code",
      "execution_count": 8,
      "metadata": {
        "id": "gMinnVb4oG7X"
      },
      "outputs": [],
      "source": [
        "# Predicting adjacency matrix containing edge probabilities\n",
        "final_edge_index = model.forward(test_data.x, test_data.edge_index)\n",
        "\n",
        "# Creating a pandas dataframe from the adjacency matrix\n",
        "pred_adj_mat = final_edge_index\n",
        "pred_adj_mat_numpy = pred_adj_mat.cpu().detach().numpy()\n",
        "G_pred = nx.from_numpy_array(pred_adj_mat_numpy)\n",
        "df_pred = nx.to_pandas_edgelist(G_pred)\n",
        "\n",
        "# Deleting duplicate edges and self-edges\n",
        "condition = df_pred['source'] > df_pred['target']\n",
        "df_pred.loc[condition, ['source', 'target']] = (df_pred.loc[condition, ['target', 'source']].values)\n",
        "df_pred = df_pred.drop_duplicates()\n",
        "df_pred = df_pred[df_pred['source'] != df_pred['target']]"
      ]
    },
    {
      "cell_type": "code",
      "source": [
        "def create_nx_graph_from_df(df):\n",
        "  G = nx.Graph()\n",
        "  nodes = np.unique(np.array(df.values).reshape(1,-1))\n",
        "  edges = df.values\n",
        "  G.add_nodes_from(nodes)\n",
        "  G.add_edges_from(edges)\n",
        "  return G\n",
        "\n",
        "G = create_nx_graph_from_df(df)\n",
        "\n",
        "fig_analysis, (ax1, ax2) = plt.subplots(1, 2, figsize=(17, 5))\n",
        "\n",
        "# Plot degree distribution\n",
        "degree_centrality = nx.degree_centrality(G)\n",
        "ax1.hist(list(degree_centrality.values()), bins=100)\n",
        "ax1.set_title(\"Degree Centrality Distribution\")\n",
        "ax1.set_xlabel(\"Degree Centrality\")\n",
        "ax1.set_ylabel(\"Frequency\")\n",
        "\n",
        "# Plot clustering coefficient distribution\n",
        "clustering_coefficients = nx.clustering(G).values()\n",
        "ax2.hist(clustering_coefficients, bins=100)\n",
        "ax2.set_title(\"Clustering Coefficient Distribution\")\n",
        "ax2.set_xlabel(\"Clustering Coefficient\")\n",
        "ax2.set_ylabel(\"Frequency\")\n",
        "\n",
        "plt.close()"
      ],
      "metadata": {
        "id": "chpiouVfBVhD"
      },
      "execution_count": 9,
      "outputs": []
    },
    {
      "cell_type": "code",
      "source": [
        "from sklearn.metrics import roc_curve, roc_auc_score\n",
        "\n",
        "model.eval()\n",
        "with torch.no_grad():\n",
        "  all_pos_edge_index = torch.cat([train_data.pos_edge_index, val_data.pos_edge_index], dim=1).to('cpu')\n",
        "  all_neg_edge_index = torch.cat([train_data.neg_edge_index, val_data.neg_edge_index], dim=1).to('cpu')\n",
        "\n",
        "all_pos_df = pd.DataFrame()\n",
        "all_pos_df['source'] = all_pos_edge_index[0]\n",
        "all_pos_df['target'] = all_pos_edge_index[1]\n",
        "all_pos_df['edge'] = 1\n",
        "\n",
        "all_neg_df = pd.DataFrame()\n",
        "all_neg_df['source'] = all_neg_edge_index[0]\n",
        "all_neg_df['target'] = all_neg_edge_index[1]\n",
        "all_neg_df['edge'] = 0\n",
        "\n",
        "df_all_edges = pd.concat([all_pos_df, all_neg_df], ignore_index=True)\n",
        "\n",
        "condition = df_all_edges['source'] > df_all_edges['target']\n",
        "df_all_edges.loc[condition, ['source', 'target']] = (df_all_edges.loc[condition, ['target', 'source']].values)\n",
        "df_all_edges = df_all_edges.drop_duplicates()\n",
        "df_all_edges = df_all_edges[df_all_edges['source'] != df_all_edges['target']]\n",
        "\n",
        "df_pred['source'] = df_pred['source'].astype(int)\n",
        "df_pred['target'] = df_pred['target'].astype(int)\n",
        "\n",
        "merged_df = pd.merge(df_all_edges, df_pred, on=['source', 'target'], how='left', indicator=True)\n",
        "# Create a new column based on the merge results\n",
        "merged_df['both'] = merged_df['_merge'] == 'both'\n",
        "merged_df.drop('_merge', axis=1, inplace=True)\n",
        "merged_df = merged_df.loc[merged_df['both']==True]\n",
        "\n",
        "pred = merged_df['weight']\n",
        "all_labels = merged_df['edge']\n",
        "fpr, tpr, _ = roc_curve(all_labels, pred)\n",
        "\n",
        "roc_auc = roc_auc_score(all_labels, pred)\n",
        "\n",
        "# Plot ROC curve\n",
        "fig_roc_auc = plt.figure()\n",
        "plt.plot(fpr, tpr, color='darkorange', lw=2, label=f'ROC Curve (AUC = {roc_auc:.2f})')\n",
        "plt.plot([0, 1], [0, 1], color='navy', lw=2, linestyle='--', label='Random')\n",
        "plt.xlabel('False Positive Rate')\n",
        "plt.ylabel('True Positive Rate')\n",
        "plt.title('Receiver Operating Characteristic (ROC) Curve')\n",
        "plt.legend(loc='lower right')\n",
        "\n",
        "plt.close()"
      ],
      "metadata": {
        "id": "GFU97seqHVwp"
      },
      "execution_count": 10,
      "outputs": []
    },
    {
      "cell_type": "code",
      "execution_count": 11,
      "metadata": {
        "colab": {
          "base_uri": "https://localhost:8080/",
          "height": 591
        },
        "id": "T_Vz8nvX6mcG",
        "outputId": "7d924d40-4c12-4457-bee7-5d62d9cfc7c0"
      },
      "outputs": [
        {
          "output_type": "stream",
          "name": "stdout",
          "text": [
            "Colab notebook detected. To show errors in colab notebook, set debug=True in launch()\n",
            "Running on public URL: https://5c1177909b1e9ab42f.gradio.live\n",
            "\n",
            "This share link expires in 72 hours. For free permanent hosting and GPU upgrades, run `gradio deploy` from Terminal to deploy to Spaces (https://huggingface.co/spaces)\n"
          ]
        },
        {
          "output_type": "display_data",
          "data": {
            "text/plain": [
              "<IPython.core.display.HTML object>"
            ],
            "text/html": [
              "<div><iframe src=\"https://5c1177909b1e9ab42f.gradio.live\" width=\"100%\" height=\"500\" allow=\"autoplay; camera; microphone; clipboard-read; clipboard-write;\" frameborder=\"0\" allowfullscreen></iframe></div>"
            ]
          },
          "metadata": {}
        }
      ],
      "source": [
        "def update(node_name):\n",
        "  index = int(node_name)\n",
        "\n",
        "  # Retrieving edges of the node with name: index\n",
        "  condition = df_pred['source'] == index\n",
        "  predicted_edges = df_pred.loc[condition, df_pred.columns]\n",
        "  condition = df_pred['target'] == index\n",
        "  predicted_edges = pd.concat([predicted_edges, df_pred.loc[condition, df_pred.columns]])\n",
        "\n",
        "  # Sorting edges by probability\n",
        "  predicted_edges = predicted_edges.sort_values(by = ['weight'], ascending = False)\n",
        "\n",
        "  # Plot\n",
        "  fig = plt.figure()\n",
        "  ax = fig.add_axes([0.1, 0.1, 0.8, 0.8])\n",
        "  ax.hist(x = predicted_edges['weight'], bins = 100, density = True, range = [0.0, 1.0])\n",
        "  plt.grid(color = 'grey', linestyle='--', linewidth=0.5)\n",
        "  plt.title(\"Probability density of edges\")\n",
        "  plt.xlabel(\"x\")\n",
        "  plt.ylabel(\"Density\")\n",
        "\n",
        "  return predicted_edges.head(10), fig;\n",
        "\n",
        "# Displaying the styled dataframe in Gradio\n",
        "with gr.Blocks() as demo:\n",
        "  gr.Plot(fig_analysis)\n",
        "\n",
        "  with gr.Row():\n",
        "    gr.Markdown(f'Baseline ROC/AUC: {baseline_roc_auc}\\nBaseline Precision: {baseline_ap}')\n",
        "    gr.Markdown(f'Model ROC/AUC: {model_roc_auc}\\nModel Precision: {model_ap}')\n",
        "\n",
        "  gr.Plot(fig_roc_auc)\n",
        "\n",
        "  with gr.Row():\n",
        "    inp = gr.Textbox(placeholder = \"Which node's recommendations do you want to see?\")\n",
        "    out = gr.DataFrame()\n",
        "    out2 = gr.Plot()\n",
        "  btn = gr.Button(\"Run\")\n",
        "  btn.click(fn = update, inputs = [inp], outputs = [out, out2])\n",
        "\n",
        "if __name__ == \"__main__\":\n",
        "  demo.launch(show_api = False, share = True)"
      ]
    }
  ],
  "metadata": {
    "accelerator": "GPU",
    "colab": {
      "gpuType": "T4",
      "provenance": []
    },
    "kernelspec": {
      "display_name": "Python 3",
      "name": "python3"
    },
    "language_info": {
      "codemirror_mode": {
        "name": "ipython",
        "version": 3
      },
      "file_extension": ".py",
      "mimetype": "text/x-python",
      "name": "python",
      "nbconvert_exporter": "python",
      "pygments_lexer": "ipython3",
      "version": "3.10.8"
    },
    "widgets": {
      "application/vnd.jupyter.widget-state+json": {
        "080861083bab41d386ffb7b1383da360": {
          "model_module": "@jupyter-widgets/controls",
          "model_name": "VBoxModel",
          "model_module_version": "1.5.0",
          "state": {
            "_dom_classes": [],
            "_model_module": "@jupyter-widgets/controls",
            "_model_module_version": "1.5.0",
            "_model_name": "VBoxModel",
            "_view_count": null,
            "_view_module": "@jupyter-widgets/controls",
            "_view_module_version": "1.5.0",
            "_view_name": "VBoxView",
            "box_style": "",
            "children": [
              "IPY_MODEL_dff8e1fe6a74459aa43c49cabb8ca38a",
              "IPY_MODEL_864855428dd840c99898833b299dbf1b"
            ],
            "layout": "IPY_MODEL_54420b3b23ab413d9d49e7edd351a176"
          }
        },
        "dff8e1fe6a74459aa43c49cabb8ca38a": {
          "model_module": "@jupyter-widgets/controls",
          "model_name": "LabelModel",
          "model_module_version": "1.5.0",
          "state": {
            "_dom_classes": [],
            "_model_module": "@jupyter-widgets/controls",
            "_model_module_version": "1.5.0",
            "_model_name": "LabelModel",
            "_view_count": null,
            "_view_module": "@jupyter-widgets/controls",
            "_view_module_version": "1.5.0",
            "_view_name": "LabelView",
            "description": "",
            "description_tooltip": null,
            "layout": "IPY_MODEL_b544cad049474baa81440450a9b89843",
            "placeholder": "​",
            "style": "IPY_MODEL_633abc78ef37412dbe11e4f346d945ff",
            "value": "0.011 MB of 0.011 MB uploaded\r"
          }
        },
        "864855428dd840c99898833b299dbf1b": {
          "model_module": "@jupyter-widgets/controls",
          "model_name": "FloatProgressModel",
          "model_module_version": "1.5.0",
          "state": {
            "_dom_classes": [],
            "_model_module": "@jupyter-widgets/controls",
            "_model_module_version": "1.5.0",
            "_model_name": "FloatProgressModel",
            "_view_count": null,
            "_view_module": "@jupyter-widgets/controls",
            "_view_module_version": "1.5.0",
            "_view_name": "ProgressView",
            "bar_style": "",
            "description": "",
            "description_tooltip": null,
            "layout": "IPY_MODEL_9a6cc864eb1141c0ab39a8d8532c8767",
            "max": 1,
            "min": 0,
            "orientation": "horizontal",
            "style": "IPY_MODEL_80c4ab7b4468465594f0ffcd45acd7eb",
            "value": 1
          }
        },
        "54420b3b23ab413d9d49e7edd351a176": {
          "model_module": "@jupyter-widgets/base",
          "model_name": "LayoutModel",
          "model_module_version": "1.2.0",
          "state": {
            "_model_module": "@jupyter-widgets/base",
            "_model_module_version": "1.2.0",
            "_model_name": "LayoutModel",
            "_view_count": null,
            "_view_module": "@jupyter-widgets/base",
            "_view_module_version": "1.2.0",
            "_view_name": "LayoutView",
            "align_content": null,
            "align_items": null,
            "align_self": null,
            "border": null,
            "bottom": null,
            "display": null,
            "flex": null,
            "flex_flow": null,
            "grid_area": null,
            "grid_auto_columns": null,
            "grid_auto_flow": null,
            "grid_auto_rows": null,
            "grid_column": null,
            "grid_gap": null,
            "grid_row": null,
            "grid_template_areas": null,
            "grid_template_columns": null,
            "grid_template_rows": null,
            "height": null,
            "justify_content": null,
            "justify_items": null,
            "left": null,
            "margin": null,
            "max_height": null,
            "max_width": null,
            "min_height": null,
            "min_width": null,
            "object_fit": null,
            "object_position": null,
            "order": null,
            "overflow": null,
            "overflow_x": null,
            "overflow_y": null,
            "padding": null,
            "right": null,
            "top": null,
            "visibility": null,
            "width": null
          }
        },
        "b544cad049474baa81440450a9b89843": {
          "model_module": "@jupyter-widgets/base",
          "model_name": "LayoutModel",
          "model_module_version": "1.2.0",
          "state": {
            "_model_module": "@jupyter-widgets/base",
            "_model_module_version": "1.2.0",
            "_model_name": "LayoutModel",
            "_view_count": null,
            "_view_module": "@jupyter-widgets/base",
            "_view_module_version": "1.2.0",
            "_view_name": "LayoutView",
            "align_content": null,
            "align_items": null,
            "align_self": null,
            "border": null,
            "bottom": null,
            "display": null,
            "flex": null,
            "flex_flow": null,
            "grid_area": null,
            "grid_auto_columns": null,
            "grid_auto_flow": null,
            "grid_auto_rows": null,
            "grid_column": null,
            "grid_gap": null,
            "grid_row": null,
            "grid_template_areas": null,
            "grid_template_columns": null,
            "grid_template_rows": null,
            "height": null,
            "justify_content": null,
            "justify_items": null,
            "left": null,
            "margin": null,
            "max_height": null,
            "max_width": null,
            "min_height": null,
            "min_width": null,
            "object_fit": null,
            "object_position": null,
            "order": null,
            "overflow": null,
            "overflow_x": null,
            "overflow_y": null,
            "padding": null,
            "right": null,
            "top": null,
            "visibility": null,
            "width": null
          }
        },
        "633abc78ef37412dbe11e4f346d945ff": {
          "model_module": "@jupyter-widgets/controls",
          "model_name": "DescriptionStyleModel",
          "model_module_version": "1.5.0",
          "state": {
            "_model_module": "@jupyter-widgets/controls",
            "_model_module_version": "1.5.0",
            "_model_name": "DescriptionStyleModel",
            "_view_count": null,
            "_view_module": "@jupyter-widgets/base",
            "_view_module_version": "1.2.0",
            "_view_name": "StyleView",
            "description_width": ""
          }
        },
        "9a6cc864eb1141c0ab39a8d8532c8767": {
          "model_module": "@jupyter-widgets/base",
          "model_name": "LayoutModel",
          "model_module_version": "1.2.0",
          "state": {
            "_model_module": "@jupyter-widgets/base",
            "_model_module_version": "1.2.0",
            "_model_name": "LayoutModel",
            "_view_count": null,
            "_view_module": "@jupyter-widgets/base",
            "_view_module_version": "1.2.0",
            "_view_name": "LayoutView",
            "align_content": null,
            "align_items": null,
            "align_self": null,
            "border": null,
            "bottom": null,
            "display": null,
            "flex": null,
            "flex_flow": null,
            "grid_area": null,
            "grid_auto_columns": null,
            "grid_auto_flow": null,
            "grid_auto_rows": null,
            "grid_column": null,
            "grid_gap": null,
            "grid_row": null,
            "grid_template_areas": null,
            "grid_template_columns": null,
            "grid_template_rows": null,
            "height": null,
            "justify_content": null,
            "justify_items": null,
            "left": null,
            "margin": null,
            "max_height": null,
            "max_width": null,
            "min_height": null,
            "min_width": null,
            "object_fit": null,
            "object_position": null,
            "order": null,
            "overflow": null,
            "overflow_x": null,
            "overflow_y": null,
            "padding": null,
            "right": null,
            "top": null,
            "visibility": null,
            "width": null
          }
        },
        "80c4ab7b4468465594f0ffcd45acd7eb": {
          "model_module": "@jupyter-widgets/controls",
          "model_name": "ProgressStyleModel",
          "model_module_version": "1.5.0",
          "state": {
            "_model_module": "@jupyter-widgets/controls",
            "_model_module_version": "1.5.0",
            "_model_name": "ProgressStyleModel",
            "_view_count": null,
            "_view_module": "@jupyter-widgets/base",
            "_view_module_version": "1.2.0",
            "_view_name": "StyleView",
            "bar_color": null,
            "description_width": ""
          }
        },
        "4a92f783005b4258be744d93dd4af1b1": {
          "model_module": "@jupyter-widgets/controls",
          "model_name": "VBoxModel",
          "model_module_version": "1.5.0",
          "state": {
            "_dom_classes": [],
            "_model_module": "@jupyter-widgets/controls",
            "_model_module_version": "1.5.0",
            "_model_name": "VBoxModel",
            "_view_count": null,
            "_view_module": "@jupyter-widgets/controls",
            "_view_module_version": "1.5.0",
            "_view_name": "VBoxView",
            "box_style": "",
            "children": [
              "IPY_MODEL_c2096eb27e82424187b719507efe3a36",
              "IPY_MODEL_6e51126209ca4f48995c751f0e36c573"
            ],
            "layout": "IPY_MODEL_da1bfe6503584919b2c0ec0d8772858f"
          }
        },
        "c2096eb27e82424187b719507efe3a36": {
          "model_module": "@jupyter-widgets/controls",
          "model_name": "LabelModel",
          "model_module_version": "1.5.0",
          "state": {
            "_dom_classes": [],
            "_model_module": "@jupyter-widgets/controls",
            "_model_module_version": "1.5.0",
            "_model_name": "LabelModel",
            "_view_count": null,
            "_view_module": "@jupyter-widgets/controls",
            "_view_module_version": "1.5.0",
            "_view_name": "LabelView",
            "description": "",
            "description_tooltip": null,
            "layout": "IPY_MODEL_af48d3db0d0e46dea50317d15af7dea1",
            "placeholder": "​",
            "style": "IPY_MODEL_ee53aa5b99dd470baaad7948860a2efd",
            "value": "0.011 MB of 0.011 MB uploaded\r"
          }
        },
        "6e51126209ca4f48995c751f0e36c573": {
          "model_module": "@jupyter-widgets/controls",
          "model_name": "FloatProgressModel",
          "model_module_version": "1.5.0",
          "state": {
            "_dom_classes": [],
            "_model_module": "@jupyter-widgets/controls",
            "_model_module_version": "1.5.0",
            "_model_name": "FloatProgressModel",
            "_view_count": null,
            "_view_module": "@jupyter-widgets/controls",
            "_view_module_version": "1.5.0",
            "_view_name": "ProgressView",
            "bar_style": "",
            "description": "",
            "description_tooltip": null,
            "layout": "IPY_MODEL_30e902a7a86a49b28a68b429a3a03b22",
            "max": 1,
            "min": 0,
            "orientation": "horizontal",
            "style": "IPY_MODEL_967e4f1fff654bbc92d2eef4df719f9b",
            "value": 1
          }
        },
        "da1bfe6503584919b2c0ec0d8772858f": {
          "model_module": "@jupyter-widgets/base",
          "model_name": "LayoutModel",
          "model_module_version": "1.2.0",
          "state": {
            "_model_module": "@jupyter-widgets/base",
            "_model_module_version": "1.2.0",
            "_model_name": "LayoutModel",
            "_view_count": null,
            "_view_module": "@jupyter-widgets/base",
            "_view_module_version": "1.2.0",
            "_view_name": "LayoutView",
            "align_content": null,
            "align_items": null,
            "align_self": null,
            "border": null,
            "bottom": null,
            "display": null,
            "flex": null,
            "flex_flow": null,
            "grid_area": null,
            "grid_auto_columns": null,
            "grid_auto_flow": null,
            "grid_auto_rows": null,
            "grid_column": null,
            "grid_gap": null,
            "grid_row": null,
            "grid_template_areas": null,
            "grid_template_columns": null,
            "grid_template_rows": null,
            "height": null,
            "justify_content": null,
            "justify_items": null,
            "left": null,
            "margin": null,
            "max_height": null,
            "max_width": null,
            "min_height": null,
            "min_width": null,
            "object_fit": null,
            "object_position": null,
            "order": null,
            "overflow": null,
            "overflow_x": null,
            "overflow_y": null,
            "padding": null,
            "right": null,
            "top": null,
            "visibility": null,
            "width": null
          }
        },
        "af48d3db0d0e46dea50317d15af7dea1": {
          "model_module": "@jupyter-widgets/base",
          "model_name": "LayoutModel",
          "model_module_version": "1.2.0",
          "state": {
            "_model_module": "@jupyter-widgets/base",
            "_model_module_version": "1.2.0",
            "_model_name": "LayoutModel",
            "_view_count": null,
            "_view_module": "@jupyter-widgets/base",
            "_view_module_version": "1.2.0",
            "_view_name": "LayoutView",
            "align_content": null,
            "align_items": null,
            "align_self": null,
            "border": null,
            "bottom": null,
            "display": null,
            "flex": null,
            "flex_flow": null,
            "grid_area": null,
            "grid_auto_columns": null,
            "grid_auto_flow": null,
            "grid_auto_rows": null,
            "grid_column": null,
            "grid_gap": null,
            "grid_row": null,
            "grid_template_areas": null,
            "grid_template_columns": null,
            "grid_template_rows": null,
            "height": null,
            "justify_content": null,
            "justify_items": null,
            "left": null,
            "margin": null,
            "max_height": null,
            "max_width": null,
            "min_height": null,
            "min_width": null,
            "object_fit": null,
            "object_position": null,
            "order": null,
            "overflow": null,
            "overflow_x": null,
            "overflow_y": null,
            "padding": null,
            "right": null,
            "top": null,
            "visibility": null,
            "width": null
          }
        },
        "ee53aa5b99dd470baaad7948860a2efd": {
          "model_module": "@jupyter-widgets/controls",
          "model_name": "DescriptionStyleModel",
          "model_module_version": "1.5.0",
          "state": {
            "_model_module": "@jupyter-widgets/controls",
            "_model_module_version": "1.5.0",
            "_model_name": "DescriptionStyleModel",
            "_view_count": null,
            "_view_module": "@jupyter-widgets/base",
            "_view_module_version": "1.2.0",
            "_view_name": "StyleView",
            "description_width": ""
          }
        },
        "30e902a7a86a49b28a68b429a3a03b22": {
          "model_module": "@jupyter-widgets/base",
          "model_name": "LayoutModel",
          "model_module_version": "1.2.0",
          "state": {
            "_model_module": "@jupyter-widgets/base",
            "_model_module_version": "1.2.0",
            "_model_name": "LayoutModel",
            "_view_count": null,
            "_view_module": "@jupyter-widgets/base",
            "_view_module_version": "1.2.0",
            "_view_name": "LayoutView",
            "align_content": null,
            "align_items": null,
            "align_self": null,
            "border": null,
            "bottom": null,
            "display": null,
            "flex": null,
            "flex_flow": null,
            "grid_area": null,
            "grid_auto_columns": null,
            "grid_auto_flow": null,
            "grid_auto_rows": null,
            "grid_column": null,
            "grid_gap": null,
            "grid_row": null,
            "grid_template_areas": null,
            "grid_template_columns": null,
            "grid_template_rows": null,
            "height": null,
            "justify_content": null,
            "justify_items": null,
            "left": null,
            "margin": null,
            "max_height": null,
            "max_width": null,
            "min_height": null,
            "min_width": null,
            "object_fit": null,
            "object_position": null,
            "order": null,
            "overflow": null,
            "overflow_x": null,
            "overflow_y": null,
            "padding": null,
            "right": null,
            "top": null,
            "visibility": null,
            "width": null
          }
        },
        "967e4f1fff654bbc92d2eef4df719f9b": {
          "model_module": "@jupyter-widgets/controls",
          "model_name": "ProgressStyleModel",
          "model_module_version": "1.5.0",
          "state": {
            "_model_module": "@jupyter-widgets/controls",
            "_model_module_version": "1.5.0",
            "_model_name": "ProgressStyleModel",
            "_view_count": null,
            "_view_module": "@jupyter-widgets/base",
            "_view_module_version": "1.2.0",
            "_view_name": "StyleView",
            "bar_color": null,
            "description_width": ""
          }
        },
        "5fe3eb1d83c34625bc183954d1c98e8e": {
          "model_module": "@jupyter-widgets/controls",
          "model_name": "VBoxModel",
          "model_module_version": "1.5.0",
          "state": {
            "_dom_classes": [],
            "_model_module": "@jupyter-widgets/controls",
            "_model_module_version": "1.5.0",
            "_model_name": "VBoxModel",
            "_view_count": null,
            "_view_module": "@jupyter-widgets/controls",
            "_view_module_version": "1.5.0",
            "_view_name": "VBoxView",
            "box_style": "",
            "children": [
              "IPY_MODEL_ce36e3e87c57425abb400a926469cb24",
              "IPY_MODEL_c011d17371ed490385c3350576a34c6f"
            ],
            "layout": "IPY_MODEL_91c23b6403c0422babf676239b6bfef8"
          }
        },
        "ce36e3e87c57425abb400a926469cb24": {
          "model_module": "@jupyter-widgets/controls",
          "model_name": "LabelModel",
          "model_module_version": "1.5.0",
          "state": {
            "_dom_classes": [],
            "_model_module": "@jupyter-widgets/controls",
            "_model_module_version": "1.5.0",
            "_model_name": "LabelModel",
            "_view_count": null,
            "_view_module": "@jupyter-widgets/controls",
            "_view_module_version": "1.5.0",
            "_view_name": "LabelView",
            "description": "",
            "description_tooltip": null,
            "layout": "IPY_MODEL_d187472f8a9349b2bab09c7c2d93a982",
            "placeholder": "​",
            "style": "IPY_MODEL_9aba712183b54512a26f33e45de41e74",
            "value": "0.011 MB of 0.011 MB uploaded\r"
          }
        },
        "c011d17371ed490385c3350576a34c6f": {
          "model_module": "@jupyter-widgets/controls",
          "model_name": "FloatProgressModel",
          "model_module_version": "1.5.0",
          "state": {
            "_dom_classes": [],
            "_model_module": "@jupyter-widgets/controls",
            "_model_module_version": "1.5.0",
            "_model_name": "FloatProgressModel",
            "_view_count": null,
            "_view_module": "@jupyter-widgets/controls",
            "_view_module_version": "1.5.0",
            "_view_name": "ProgressView",
            "bar_style": "",
            "description": "",
            "description_tooltip": null,
            "layout": "IPY_MODEL_6d1e82ce3661417cab0c78f46da25a98",
            "max": 1,
            "min": 0,
            "orientation": "horizontal",
            "style": "IPY_MODEL_3f534ea68f974c09afbb4a09d69bca40",
            "value": 1
          }
        },
        "91c23b6403c0422babf676239b6bfef8": {
          "model_module": "@jupyter-widgets/base",
          "model_name": "LayoutModel",
          "model_module_version": "1.2.0",
          "state": {
            "_model_module": "@jupyter-widgets/base",
            "_model_module_version": "1.2.0",
            "_model_name": "LayoutModel",
            "_view_count": null,
            "_view_module": "@jupyter-widgets/base",
            "_view_module_version": "1.2.0",
            "_view_name": "LayoutView",
            "align_content": null,
            "align_items": null,
            "align_self": null,
            "border": null,
            "bottom": null,
            "display": null,
            "flex": null,
            "flex_flow": null,
            "grid_area": null,
            "grid_auto_columns": null,
            "grid_auto_flow": null,
            "grid_auto_rows": null,
            "grid_column": null,
            "grid_gap": null,
            "grid_row": null,
            "grid_template_areas": null,
            "grid_template_columns": null,
            "grid_template_rows": null,
            "height": null,
            "justify_content": null,
            "justify_items": null,
            "left": null,
            "margin": null,
            "max_height": null,
            "max_width": null,
            "min_height": null,
            "min_width": null,
            "object_fit": null,
            "object_position": null,
            "order": null,
            "overflow": null,
            "overflow_x": null,
            "overflow_y": null,
            "padding": null,
            "right": null,
            "top": null,
            "visibility": null,
            "width": null
          }
        },
        "d187472f8a9349b2bab09c7c2d93a982": {
          "model_module": "@jupyter-widgets/base",
          "model_name": "LayoutModel",
          "model_module_version": "1.2.0",
          "state": {
            "_model_module": "@jupyter-widgets/base",
            "_model_module_version": "1.2.0",
            "_model_name": "LayoutModel",
            "_view_count": null,
            "_view_module": "@jupyter-widgets/base",
            "_view_module_version": "1.2.0",
            "_view_name": "LayoutView",
            "align_content": null,
            "align_items": null,
            "align_self": null,
            "border": null,
            "bottom": null,
            "display": null,
            "flex": null,
            "flex_flow": null,
            "grid_area": null,
            "grid_auto_columns": null,
            "grid_auto_flow": null,
            "grid_auto_rows": null,
            "grid_column": null,
            "grid_gap": null,
            "grid_row": null,
            "grid_template_areas": null,
            "grid_template_columns": null,
            "grid_template_rows": null,
            "height": null,
            "justify_content": null,
            "justify_items": null,
            "left": null,
            "margin": null,
            "max_height": null,
            "max_width": null,
            "min_height": null,
            "min_width": null,
            "object_fit": null,
            "object_position": null,
            "order": null,
            "overflow": null,
            "overflow_x": null,
            "overflow_y": null,
            "padding": null,
            "right": null,
            "top": null,
            "visibility": null,
            "width": null
          }
        },
        "9aba712183b54512a26f33e45de41e74": {
          "model_module": "@jupyter-widgets/controls",
          "model_name": "DescriptionStyleModel",
          "model_module_version": "1.5.0",
          "state": {
            "_model_module": "@jupyter-widgets/controls",
            "_model_module_version": "1.5.0",
            "_model_name": "DescriptionStyleModel",
            "_view_count": null,
            "_view_module": "@jupyter-widgets/base",
            "_view_module_version": "1.2.0",
            "_view_name": "StyleView",
            "description_width": ""
          }
        },
        "6d1e82ce3661417cab0c78f46da25a98": {
          "model_module": "@jupyter-widgets/base",
          "model_name": "LayoutModel",
          "model_module_version": "1.2.0",
          "state": {
            "_model_module": "@jupyter-widgets/base",
            "_model_module_version": "1.2.0",
            "_model_name": "LayoutModel",
            "_view_count": null,
            "_view_module": "@jupyter-widgets/base",
            "_view_module_version": "1.2.0",
            "_view_name": "LayoutView",
            "align_content": null,
            "align_items": null,
            "align_self": null,
            "border": null,
            "bottom": null,
            "display": null,
            "flex": null,
            "flex_flow": null,
            "grid_area": null,
            "grid_auto_columns": null,
            "grid_auto_flow": null,
            "grid_auto_rows": null,
            "grid_column": null,
            "grid_gap": null,
            "grid_row": null,
            "grid_template_areas": null,
            "grid_template_columns": null,
            "grid_template_rows": null,
            "height": null,
            "justify_content": null,
            "justify_items": null,
            "left": null,
            "margin": null,
            "max_height": null,
            "max_width": null,
            "min_height": null,
            "min_width": null,
            "object_fit": null,
            "object_position": null,
            "order": null,
            "overflow": null,
            "overflow_x": null,
            "overflow_y": null,
            "padding": null,
            "right": null,
            "top": null,
            "visibility": null,
            "width": null
          }
        },
        "3f534ea68f974c09afbb4a09d69bca40": {
          "model_module": "@jupyter-widgets/controls",
          "model_name": "ProgressStyleModel",
          "model_module_version": "1.5.0",
          "state": {
            "_model_module": "@jupyter-widgets/controls",
            "_model_module_version": "1.5.0",
            "_model_name": "ProgressStyleModel",
            "_view_count": null,
            "_view_module": "@jupyter-widgets/base",
            "_view_module_version": "1.2.0",
            "_view_name": "StyleView",
            "bar_color": null,
            "description_width": ""
          }
        },
        "c36ac1c708574d9b8592c2ec1d384c9c": {
          "model_module": "@jupyter-widgets/controls",
          "model_name": "VBoxModel",
          "model_module_version": "1.5.0",
          "state": {
            "_dom_classes": [],
            "_model_module": "@jupyter-widgets/controls",
            "_model_module_version": "1.5.0",
            "_model_name": "VBoxModel",
            "_view_count": null,
            "_view_module": "@jupyter-widgets/controls",
            "_view_module_version": "1.5.0",
            "_view_name": "VBoxView",
            "box_style": "",
            "children": [
              "IPY_MODEL_e4b048ff849b402cb293beb87802d751",
              "IPY_MODEL_9b29aba94e674b838ac79d6baf244c8f"
            ],
            "layout": "IPY_MODEL_a83e1fcb3dcb4012b434133cf4f081cc"
          }
        },
        "e4b048ff849b402cb293beb87802d751": {
          "model_module": "@jupyter-widgets/controls",
          "model_name": "LabelModel",
          "model_module_version": "1.5.0",
          "state": {
            "_dom_classes": [],
            "_model_module": "@jupyter-widgets/controls",
            "_model_module_version": "1.5.0",
            "_model_name": "LabelModel",
            "_view_count": null,
            "_view_module": "@jupyter-widgets/controls",
            "_view_module_version": "1.5.0",
            "_view_name": "LabelView",
            "description": "",
            "description_tooltip": null,
            "layout": "IPY_MODEL_b49cee045ff8419292cf6b9ab701c190",
            "placeholder": "​",
            "style": "IPY_MODEL_5892ef6170114271947811ddfd7e8c5b",
            "value": "0.011 MB of 0.011 MB uploaded\r"
          }
        },
        "9b29aba94e674b838ac79d6baf244c8f": {
          "model_module": "@jupyter-widgets/controls",
          "model_name": "FloatProgressModel",
          "model_module_version": "1.5.0",
          "state": {
            "_dom_classes": [],
            "_model_module": "@jupyter-widgets/controls",
            "_model_module_version": "1.5.0",
            "_model_name": "FloatProgressModel",
            "_view_count": null,
            "_view_module": "@jupyter-widgets/controls",
            "_view_module_version": "1.5.0",
            "_view_name": "ProgressView",
            "bar_style": "",
            "description": "",
            "description_tooltip": null,
            "layout": "IPY_MODEL_fbe85b577916433eb7f33d7e736863a7",
            "max": 1,
            "min": 0,
            "orientation": "horizontal",
            "style": "IPY_MODEL_e678a1cf315242cda3e263340865d14e",
            "value": 1
          }
        },
        "a83e1fcb3dcb4012b434133cf4f081cc": {
          "model_module": "@jupyter-widgets/base",
          "model_name": "LayoutModel",
          "model_module_version": "1.2.0",
          "state": {
            "_model_module": "@jupyter-widgets/base",
            "_model_module_version": "1.2.0",
            "_model_name": "LayoutModel",
            "_view_count": null,
            "_view_module": "@jupyter-widgets/base",
            "_view_module_version": "1.2.0",
            "_view_name": "LayoutView",
            "align_content": null,
            "align_items": null,
            "align_self": null,
            "border": null,
            "bottom": null,
            "display": null,
            "flex": null,
            "flex_flow": null,
            "grid_area": null,
            "grid_auto_columns": null,
            "grid_auto_flow": null,
            "grid_auto_rows": null,
            "grid_column": null,
            "grid_gap": null,
            "grid_row": null,
            "grid_template_areas": null,
            "grid_template_columns": null,
            "grid_template_rows": null,
            "height": null,
            "justify_content": null,
            "justify_items": null,
            "left": null,
            "margin": null,
            "max_height": null,
            "max_width": null,
            "min_height": null,
            "min_width": null,
            "object_fit": null,
            "object_position": null,
            "order": null,
            "overflow": null,
            "overflow_x": null,
            "overflow_y": null,
            "padding": null,
            "right": null,
            "top": null,
            "visibility": null,
            "width": null
          }
        },
        "b49cee045ff8419292cf6b9ab701c190": {
          "model_module": "@jupyter-widgets/base",
          "model_name": "LayoutModel",
          "model_module_version": "1.2.0",
          "state": {
            "_model_module": "@jupyter-widgets/base",
            "_model_module_version": "1.2.0",
            "_model_name": "LayoutModel",
            "_view_count": null,
            "_view_module": "@jupyter-widgets/base",
            "_view_module_version": "1.2.0",
            "_view_name": "LayoutView",
            "align_content": null,
            "align_items": null,
            "align_self": null,
            "border": null,
            "bottom": null,
            "display": null,
            "flex": null,
            "flex_flow": null,
            "grid_area": null,
            "grid_auto_columns": null,
            "grid_auto_flow": null,
            "grid_auto_rows": null,
            "grid_column": null,
            "grid_gap": null,
            "grid_row": null,
            "grid_template_areas": null,
            "grid_template_columns": null,
            "grid_template_rows": null,
            "height": null,
            "justify_content": null,
            "justify_items": null,
            "left": null,
            "margin": null,
            "max_height": null,
            "max_width": null,
            "min_height": null,
            "min_width": null,
            "object_fit": null,
            "object_position": null,
            "order": null,
            "overflow": null,
            "overflow_x": null,
            "overflow_y": null,
            "padding": null,
            "right": null,
            "top": null,
            "visibility": null,
            "width": null
          }
        },
        "5892ef6170114271947811ddfd7e8c5b": {
          "model_module": "@jupyter-widgets/controls",
          "model_name": "DescriptionStyleModel",
          "model_module_version": "1.5.0",
          "state": {
            "_model_module": "@jupyter-widgets/controls",
            "_model_module_version": "1.5.0",
            "_model_name": "DescriptionStyleModel",
            "_view_count": null,
            "_view_module": "@jupyter-widgets/base",
            "_view_module_version": "1.2.0",
            "_view_name": "StyleView",
            "description_width": ""
          }
        },
        "fbe85b577916433eb7f33d7e736863a7": {
          "model_module": "@jupyter-widgets/base",
          "model_name": "LayoutModel",
          "model_module_version": "1.2.0",
          "state": {
            "_model_module": "@jupyter-widgets/base",
            "_model_module_version": "1.2.0",
            "_model_name": "LayoutModel",
            "_view_count": null,
            "_view_module": "@jupyter-widgets/base",
            "_view_module_version": "1.2.0",
            "_view_name": "LayoutView",
            "align_content": null,
            "align_items": null,
            "align_self": null,
            "border": null,
            "bottom": null,
            "display": null,
            "flex": null,
            "flex_flow": null,
            "grid_area": null,
            "grid_auto_columns": null,
            "grid_auto_flow": null,
            "grid_auto_rows": null,
            "grid_column": null,
            "grid_gap": null,
            "grid_row": null,
            "grid_template_areas": null,
            "grid_template_columns": null,
            "grid_template_rows": null,
            "height": null,
            "justify_content": null,
            "justify_items": null,
            "left": null,
            "margin": null,
            "max_height": null,
            "max_width": null,
            "min_height": null,
            "min_width": null,
            "object_fit": null,
            "object_position": null,
            "order": null,
            "overflow": null,
            "overflow_x": null,
            "overflow_y": null,
            "padding": null,
            "right": null,
            "top": null,
            "visibility": null,
            "width": null
          }
        },
        "e678a1cf315242cda3e263340865d14e": {
          "model_module": "@jupyter-widgets/controls",
          "model_name": "ProgressStyleModel",
          "model_module_version": "1.5.0",
          "state": {
            "_model_module": "@jupyter-widgets/controls",
            "_model_module_version": "1.5.0",
            "_model_name": "ProgressStyleModel",
            "_view_count": null,
            "_view_module": "@jupyter-widgets/base",
            "_view_module_version": "1.2.0",
            "_view_name": "StyleView",
            "bar_color": null,
            "description_width": ""
          }
        },
        "64e8c48e8b2c4343907ccf6a8f9aef0e": {
          "model_module": "@jupyter-widgets/controls",
          "model_name": "VBoxModel",
          "model_module_version": "1.5.0",
          "state": {
            "_dom_classes": [],
            "_model_module": "@jupyter-widgets/controls",
            "_model_module_version": "1.5.0",
            "_model_name": "VBoxModel",
            "_view_count": null,
            "_view_module": "@jupyter-widgets/controls",
            "_view_module_version": "1.5.0",
            "_view_name": "VBoxView",
            "box_style": "",
            "children": [
              "IPY_MODEL_e3445a38001743e4987aed6346c0001b",
              "IPY_MODEL_d5dc5e25e2394f6bba9308576dfcd363"
            ],
            "layout": "IPY_MODEL_face69002d6b4c439b2fa36e1e8764ca"
          }
        },
        "e3445a38001743e4987aed6346c0001b": {
          "model_module": "@jupyter-widgets/controls",
          "model_name": "LabelModel",
          "model_module_version": "1.5.0",
          "state": {
            "_dom_classes": [],
            "_model_module": "@jupyter-widgets/controls",
            "_model_module_version": "1.5.0",
            "_model_name": "LabelModel",
            "_view_count": null,
            "_view_module": "@jupyter-widgets/controls",
            "_view_module_version": "1.5.0",
            "_view_name": "LabelView",
            "description": "",
            "description_tooltip": null,
            "layout": "IPY_MODEL_d459554d81fb45d3bbb1bceb8d759634",
            "placeholder": "​",
            "style": "IPY_MODEL_d0c36ddea2ae4dee871f7a73a2329c9f",
            "value": "0.011 MB of 0.011 MB uploaded\r"
          }
        },
        "d5dc5e25e2394f6bba9308576dfcd363": {
          "model_module": "@jupyter-widgets/controls",
          "model_name": "FloatProgressModel",
          "model_module_version": "1.5.0",
          "state": {
            "_dom_classes": [],
            "_model_module": "@jupyter-widgets/controls",
            "_model_module_version": "1.5.0",
            "_model_name": "FloatProgressModel",
            "_view_count": null,
            "_view_module": "@jupyter-widgets/controls",
            "_view_module_version": "1.5.0",
            "_view_name": "ProgressView",
            "bar_style": "",
            "description": "",
            "description_tooltip": null,
            "layout": "IPY_MODEL_8a789eb4fe1b4fcb945e8d3d039ad0f9",
            "max": 1,
            "min": 0,
            "orientation": "horizontal",
            "style": "IPY_MODEL_a318c4fab98146719cb2f96a9353555c",
            "value": 1
          }
        },
        "face69002d6b4c439b2fa36e1e8764ca": {
          "model_module": "@jupyter-widgets/base",
          "model_name": "LayoutModel",
          "model_module_version": "1.2.0",
          "state": {
            "_model_module": "@jupyter-widgets/base",
            "_model_module_version": "1.2.0",
            "_model_name": "LayoutModel",
            "_view_count": null,
            "_view_module": "@jupyter-widgets/base",
            "_view_module_version": "1.2.0",
            "_view_name": "LayoutView",
            "align_content": null,
            "align_items": null,
            "align_self": null,
            "border": null,
            "bottom": null,
            "display": null,
            "flex": null,
            "flex_flow": null,
            "grid_area": null,
            "grid_auto_columns": null,
            "grid_auto_flow": null,
            "grid_auto_rows": null,
            "grid_column": null,
            "grid_gap": null,
            "grid_row": null,
            "grid_template_areas": null,
            "grid_template_columns": null,
            "grid_template_rows": null,
            "height": null,
            "justify_content": null,
            "justify_items": null,
            "left": null,
            "margin": null,
            "max_height": null,
            "max_width": null,
            "min_height": null,
            "min_width": null,
            "object_fit": null,
            "object_position": null,
            "order": null,
            "overflow": null,
            "overflow_x": null,
            "overflow_y": null,
            "padding": null,
            "right": null,
            "top": null,
            "visibility": null,
            "width": null
          }
        },
        "d459554d81fb45d3bbb1bceb8d759634": {
          "model_module": "@jupyter-widgets/base",
          "model_name": "LayoutModel",
          "model_module_version": "1.2.0",
          "state": {
            "_model_module": "@jupyter-widgets/base",
            "_model_module_version": "1.2.0",
            "_model_name": "LayoutModel",
            "_view_count": null,
            "_view_module": "@jupyter-widgets/base",
            "_view_module_version": "1.2.0",
            "_view_name": "LayoutView",
            "align_content": null,
            "align_items": null,
            "align_self": null,
            "border": null,
            "bottom": null,
            "display": null,
            "flex": null,
            "flex_flow": null,
            "grid_area": null,
            "grid_auto_columns": null,
            "grid_auto_flow": null,
            "grid_auto_rows": null,
            "grid_column": null,
            "grid_gap": null,
            "grid_row": null,
            "grid_template_areas": null,
            "grid_template_columns": null,
            "grid_template_rows": null,
            "height": null,
            "justify_content": null,
            "justify_items": null,
            "left": null,
            "margin": null,
            "max_height": null,
            "max_width": null,
            "min_height": null,
            "min_width": null,
            "object_fit": null,
            "object_position": null,
            "order": null,
            "overflow": null,
            "overflow_x": null,
            "overflow_y": null,
            "padding": null,
            "right": null,
            "top": null,
            "visibility": null,
            "width": null
          }
        },
        "d0c36ddea2ae4dee871f7a73a2329c9f": {
          "model_module": "@jupyter-widgets/controls",
          "model_name": "DescriptionStyleModel",
          "model_module_version": "1.5.0",
          "state": {
            "_model_module": "@jupyter-widgets/controls",
            "_model_module_version": "1.5.0",
            "_model_name": "DescriptionStyleModel",
            "_view_count": null,
            "_view_module": "@jupyter-widgets/base",
            "_view_module_version": "1.2.0",
            "_view_name": "StyleView",
            "description_width": ""
          }
        },
        "8a789eb4fe1b4fcb945e8d3d039ad0f9": {
          "model_module": "@jupyter-widgets/base",
          "model_name": "LayoutModel",
          "model_module_version": "1.2.0",
          "state": {
            "_model_module": "@jupyter-widgets/base",
            "_model_module_version": "1.2.0",
            "_model_name": "LayoutModel",
            "_view_count": null,
            "_view_module": "@jupyter-widgets/base",
            "_view_module_version": "1.2.0",
            "_view_name": "LayoutView",
            "align_content": null,
            "align_items": null,
            "align_self": null,
            "border": null,
            "bottom": null,
            "display": null,
            "flex": null,
            "flex_flow": null,
            "grid_area": null,
            "grid_auto_columns": null,
            "grid_auto_flow": null,
            "grid_auto_rows": null,
            "grid_column": null,
            "grid_gap": null,
            "grid_row": null,
            "grid_template_areas": null,
            "grid_template_columns": null,
            "grid_template_rows": null,
            "height": null,
            "justify_content": null,
            "justify_items": null,
            "left": null,
            "margin": null,
            "max_height": null,
            "max_width": null,
            "min_height": null,
            "min_width": null,
            "object_fit": null,
            "object_position": null,
            "order": null,
            "overflow": null,
            "overflow_x": null,
            "overflow_y": null,
            "padding": null,
            "right": null,
            "top": null,
            "visibility": null,
            "width": null
          }
        },
        "a318c4fab98146719cb2f96a9353555c": {
          "model_module": "@jupyter-widgets/controls",
          "model_name": "ProgressStyleModel",
          "model_module_version": "1.5.0",
          "state": {
            "_model_module": "@jupyter-widgets/controls",
            "_model_module_version": "1.5.0",
            "_model_name": "ProgressStyleModel",
            "_view_count": null,
            "_view_module": "@jupyter-widgets/base",
            "_view_module_version": "1.2.0",
            "_view_name": "StyleView",
            "bar_color": null,
            "description_width": ""
          }
        },
        "97ac3402727c4e60929282140ce023d6": {
          "model_module": "@jupyter-widgets/controls",
          "model_name": "VBoxModel",
          "model_module_version": "1.5.0",
          "state": {
            "_dom_classes": [],
            "_model_module": "@jupyter-widgets/controls",
            "_model_module_version": "1.5.0",
            "_model_name": "VBoxModel",
            "_view_count": null,
            "_view_module": "@jupyter-widgets/controls",
            "_view_module_version": "1.5.0",
            "_view_name": "VBoxView",
            "box_style": "",
            "children": [
              "IPY_MODEL_171aa88839fe441186d425f1b1bb5344",
              "IPY_MODEL_d1526af77e3f4ffebc4745959df9aaeb"
            ],
            "layout": "IPY_MODEL_5d2b32351f8a46d68b3083ec3a85ddbb"
          }
        },
        "171aa88839fe441186d425f1b1bb5344": {
          "model_module": "@jupyter-widgets/controls",
          "model_name": "LabelModel",
          "model_module_version": "1.5.0",
          "state": {
            "_dom_classes": [],
            "_model_module": "@jupyter-widgets/controls",
            "_model_module_version": "1.5.0",
            "_model_name": "LabelModel",
            "_view_count": null,
            "_view_module": "@jupyter-widgets/controls",
            "_view_module_version": "1.5.0",
            "_view_name": "LabelView",
            "description": "",
            "description_tooltip": null,
            "layout": "IPY_MODEL_86fe1794dd404ab396ea0a3a6f9bf597",
            "placeholder": "​",
            "style": "IPY_MODEL_25dbf890d4a24793b2007f4e72e3d122",
            "value": "0.011 MB of 0.011 MB uploaded\r"
          }
        },
        "d1526af77e3f4ffebc4745959df9aaeb": {
          "model_module": "@jupyter-widgets/controls",
          "model_name": "FloatProgressModel",
          "model_module_version": "1.5.0",
          "state": {
            "_dom_classes": [],
            "_model_module": "@jupyter-widgets/controls",
            "_model_module_version": "1.5.0",
            "_model_name": "FloatProgressModel",
            "_view_count": null,
            "_view_module": "@jupyter-widgets/controls",
            "_view_module_version": "1.5.0",
            "_view_name": "ProgressView",
            "bar_style": "",
            "description": "",
            "description_tooltip": null,
            "layout": "IPY_MODEL_8bcc84d480034282940cf72225b8b37b",
            "max": 1,
            "min": 0,
            "orientation": "horizontal",
            "style": "IPY_MODEL_c9d616e51465429e927c486479ff8a9a",
            "value": 1
          }
        },
        "5d2b32351f8a46d68b3083ec3a85ddbb": {
          "model_module": "@jupyter-widgets/base",
          "model_name": "LayoutModel",
          "model_module_version": "1.2.0",
          "state": {
            "_model_module": "@jupyter-widgets/base",
            "_model_module_version": "1.2.0",
            "_model_name": "LayoutModel",
            "_view_count": null,
            "_view_module": "@jupyter-widgets/base",
            "_view_module_version": "1.2.0",
            "_view_name": "LayoutView",
            "align_content": null,
            "align_items": null,
            "align_self": null,
            "border": null,
            "bottom": null,
            "display": null,
            "flex": null,
            "flex_flow": null,
            "grid_area": null,
            "grid_auto_columns": null,
            "grid_auto_flow": null,
            "grid_auto_rows": null,
            "grid_column": null,
            "grid_gap": null,
            "grid_row": null,
            "grid_template_areas": null,
            "grid_template_columns": null,
            "grid_template_rows": null,
            "height": null,
            "justify_content": null,
            "justify_items": null,
            "left": null,
            "margin": null,
            "max_height": null,
            "max_width": null,
            "min_height": null,
            "min_width": null,
            "object_fit": null,
            "object_position": null,
            "order": null,
            "overflow": null,
            "overflow_x": null,
            "overflow_y": null,
            "padding": null,
            "right": null,
            "top": null,
            "visibility": null,
            "width": null
          }
        },
        "86fe1794dd404ab396ea0a3a6f9bf597": {
          "model_module": "@jupyter-widgets/base",
          "model_name": "LayoutModel",
          "model_module_version": "1.2.0",
          "state": {
            "_model_module": "@jupyter-widgets/base",
            "_model_module_version": "1.2.0",
            "_model_name": "LayoutModel",
            "_view_count": null,
            "_view_module": "@jupyter-widgets/base",
            "_view_module_version": "1.2.0",
            "_view_name": "LayoutView",
            "align_content": null,
            "align_items": null,
            "align_self": null,
            "border": null,
            "bottom": null,
            "display": null,
            "flex": null,
            "flex_flow": null,
            "grid_area": null,
            "grid_auto_columns": null,
            "grid_auto_flow": null,
            "grid_auto_rows": null,
            "grid_column": null,
            "grid_gap": null,
            "grid_row": null,
            "grid_template_areas": null,
            "grid_template_columns": null,
            "grid_template_rows": null,
            "height": null,
            "justify_content": null,
            "justify_items": null,
            "left": null,
            "margin": null,
            "max_height": null,
            "max_width": null,
            "min_height": null,
            "min_width": null,
            "object_fit": null,
            "object_position": null,
            "order": null,
            "overflow": null,
            "overflow_x": null,
            "overflow_y": null,
            "padding": null,
            "right": null,
            "top": null,
            "visibility": null,
            "width": null
          }
        },
        "25dbf890d4a24793b2007f4e72e3d122": {
          "model_module": "@jupyter-widgets/controls",
          "model_name": "DescriptionStyleModel",
          "model_module_version": "1.5.0",
          "state": {
            "_model_module": "@jupyter-widgets/controls",
            "_model_module_version": "1.5.0",
            "_model_name": "DescriptionStyleModel",
            "_view_count": null,
            "_view_module": "@jupyter-widgets/base",
            "_view_module_version": "1.2.0",
            "_view_name": "StyleView",
            "description_width": ""
          }
        },
        "8bcc84d480034282940cf72225b8b37b": {
          "model_module": "@jupyter-widgets/base",
          "model_name": "LayoutModel",
          "model_module_version": "1.2.0",
          "state": {
            "_model_module": "@jupyter-widgets/base",
            "_model_module_version": "1.2.0",
            "_model_name": "LayoutModel",
            "_view_count": null,
            "_view_module": "@jupyter-widgets/base",
            "_view_module_version": "1.2.0",
            "_view_name": "LayoutView",
            "align_content": null,
            "align_items": null,
            "align_self": null,
            "border": null,
            "bottom": null,
            "display": null,
            "flex": null,
            "flex_flow": null,
            "grid_area": null,
            "grid_auto_columns": null,
            "grid_auto_flow": null,
            "grid_auto_rows": null,
            "grid_column": null,
            "grid_gap": null,
            "grid_row": null,
            "grid_template_areas": null,
            "grid_template_columns": null,
            "grid_template_rows": null,
            "height": null,
            "justify_content": null,
            "justify_items": null,
            "left": null,
            "margin": null,
            "max_height": null,
            "max_width": null,
            "min_height": null,
            "min_width": null,
            "object_fit": null,
            "object_position": null,
            "order": null,
            "overflow": null,
            "overflow_x": null,
            "overflow_y": null,
            "padding": null,
            "right": null,
            "top": null,
            "visibility": null,
            "width": null
          }
        },
        "c9d616e51465429e927c486479ff8a9a": {
          "model_module": "@jupyter-widgets/controls",
          "model_name": "ProgressStyleModel",
          "model_module_version": "1.5.0",
          "state": {
            "_model_module": "@jupyter-widgets/controls",
            "_model_module_version": "1.5.0",
            "_model_name": "ProgressStyleModel",
            "_view_count": null,
            "_view_module": "@jupyter-widgets/base",
            "_view_module_version": "1.2.0",
            "_view_name": "StyleView",
            "bar_color": null,
            "description_width": ""
          }
        },
        "27961ed1b0604314b755a171c856ea34": {
          "model_module": "@jupyter-widgets/controls",
          "model_name": "VBoxModel",
          "model_module_version": "1.5.0",
          "state": {
            "_dom_classes": [],
            "_model_module": "@jupyter-widgets/controls",
            "_model_module_version": "1.5.0",
            "_model_name": "VBoxModel",
            "_view_count": null,
            "_view_module": "@jupyter-widgets/controls",
            "_view_module_version": "1.5.0",
            "_view_name": "VBoxView",
            "box_style": "",
            "children": [
              "IPY_MODEL_d2b966ae41d049b098f7888eabeb8b27",
              "IPY_MODEL_7f8d5842b98d41d685c2ee78c4e39f0c"
            ],
            "layout": "IPY_MODEL_34ddfdc4055144539aaabf84898cd98e"
          }
        },
        "d2b966ae41d049b098f7888eabeb8b27": {
          "model_module": "@jupyter-widgets/controls",
          "model_name": "LabelModel",
          "model_module_version": "1.5.0",
          "state": {
            "_dom_classes": [],
            "_model_module": "@jupyter-widgets/controls",
            "_model_module_version": "1.5.0",
            "_model_name": "LabelModel",
            "_view_count": null,
            "_view_module": "@jupyter-widgets/controls",
            "_view_module_version": "1.5.0",
            "_view_name": "LabelView",
            "description": "",
            "description_tooltip": null,
            "layout": "IPY_MODEL_4828f21473c94dbc84aa4811a9efbe38",
            "placeholder": "​",
            "style": "IPY_MODEL_a28848118526411caefc7d504d572286",
            "value": "Waiting for wandb.init()...\r"
          }
        },
        "7f8d5842b98d41d685c2ee78c4e39f0c": {
          "model_module": "@jupyter-widgets/controls",
          "model_name": "FloatProgressModel",
          "model_module_version": "1.5.0",
          "state": {
            "_dom_classes": [],
            "_model_module": "@jupyter-widgets/controls",
            "_model_module_version": "1.5.0",
            "_model_name": "FloatProgressModel",
            "_view_count": null,
            "_view_module": "@jupyter-widgets/controls",
            "_view_module_version": "1.5.0",
            "_view_name": "ProgressView",
            "bar_style": "",
            "description": "",
            "description_tooltip": null,
            "layout": "IPY_MODEL_52a592a28bae4d12a7be84549c1d5a6b",
            "max": 1,
            "min": 0,
            "orientation": "horizontal",
            "style": "IPY_MODEL_6cf7d15633304cee8a4001c2597c1caf",
            "value": 1
          }
        },
        "34ddfdc4055144539aaabf84898cd98e": {
          "model_module": "@jupyter-widgets/base",
          "model_name": "LayoutModel",
          "model_module_version": "1.2.0",
          "state": {
            "_model_module": "@jupyter-widgets/base",
            "_model_module_version": "1.2.0",
            "_model_name": "LayoutModel",
            "_view_count": null,
            "_view_module": "@jupyter-widgets/base",
            "_view_module_version": "1.2.0",
            "_view_name": "LayoutView",
            "align_content": null,
            "align_items": null,
            "align_self": null,
            "border": null,
            "bottom": null,
            "display": null,
            "flex": null,
            "flex_flow": null,
            "grid_area": null,
            "grid_auto_columns": null,
            "grid_auto_flow": null,
            "grid_auto_rows": null,
            "grid_column": null,
            "grid_gap": null,
            "grid_row": null,
            "grid_template_areas": null,
            "grid_template_columns": null,
            "grid_template_rows": null,
            "height": null,
            "justify_content": null,
            "justify_items": null,
            "left": null,
            "margin": null,
            "max_height": null,
            "max_width": null,
            "min_height": null,
            "min_width": null,
            "object_fit": null,
            "object_position": null,
            "order": null,
            "overflow": null,
            "overflow_x": null,
            "overflow_y": null,
            "padding": null,
            "right": null,
            "top": null,
            "visibility": null,
            "width": null
          }
        },
        "4828f21473c94dbc84aa4811a9efbe38": {
          "model_module": "@jupyter-widgets/base",
          "model_name": "LayoutModel",
          "model_module_version": "1.2.0",
          "state": {
            "_model_module": "@jupyter-widgets/base",
            "_model_module_version": "1.2.0",
            "_model_name": "LayoutModel",
            "_view_count": null,
            "_view_module": "@jupyter-widgets/base",
            "_view_module_version": "1.2.0",
            "_view_name": "LayoutView",
            "align_content": null,
            "align_items": null,
            "align_self": null,
            "border": null,
            "bottom": null,
            "display": null,
            "flex": null,
            "flex_flow": null,
            "grid_area": null,
            "grid_auto_columns": null,
            "grid_auto_flow": null,
            "grid_auto_rows": null,
            "grid_column": null,
            "grid_gap": null,
            "grid_row": null,
            "grid_template_areas": null,
            "grid_template_columns": null,
            "grid_template_rows": null,
            "height": null,
            "justify_content": null,
            "justify_items": null,
            "left": null,
            "margin": null,
            "max_height": null,
            "max_width": null,
            "min_height": null,
            "min_width": null,
            "object_fit": null,
            "object_position": null,
            "order": null,
            "overflow": null,
            "overflow_x": null,
            "overflow_y": null,
            "padding": null,
            "right": null,
            "top": null,
            "visibility": null,
            "width": null
          }
        },
        "a28848118526411caefc7d504d572286": {
          "model_module": "@jupyter-widgets/controls",
          "model_name": "DescriptionStyleModel",
          "model_module_version": "1.5.0",
          "state": {
            "_model_module": "@jupyter-widgets/controls",
            "_model_module_version": "1.5.0",
            "_model_name": "DescriptionStyleModel",
            "_view_count": null,
            "_view_module": "@jupyter-widgets/base",
            "_view_module_version": "1.2.0",
            "_view_name": "StyleView",
            "description_width": ""
          }
        },
        "52a592a28bae4d12a7be84549c1d5a6b": {
          "model_module": "@jupyter-widgets/base",
          "model_name": "LayoutModel",
          "model_module_version": "1.2.0",
          "state": {
            "_model_module": "@jupyter-widgets/base",
            "_model_module_version": "1.2.0",
            "_model_name": "LayoutModel",
            "_view_count": null,
            "_view_module": "@jupyter-widgets/base",
            "_view_module_version": "1.2.0",
            "_view_name": "LayoutView",
            "align_content": null,
            "align_items": null,
            "align_self": null,
            "border": null,
            "bottom": null,
            "display": null,
            "flex": null,
            "flex_flow": null,
            "grid_area": null,
            "grid_auto_columns": null,
            "grid_auto_flow": null,
            "grid_auto_rows": null,
            "grid_column": null,
            "grid_gap": null,
            "grid_row": null,
            "grid_template_areas": null,
            "grid_template_columns": null,
            "grid_template_rows": null,
            "height": null,
            "justify_content": null,
            "justify_items": null,
            "left": null,
            "margin": null,
            "max_height": null,
            "max_width": null,
            "min_height": null,
            "min_width": null,
            "object_fit": null,
            "object_position": null,
            "order": null,
            "overflow": null,
            "overflow_x": null,
            "overflow_y": null,
            "padding": null,
            "right": null,
            "top": null,
            "visibility": null,
            "width": null
          }
        },
        "6cf7d15633304cee8a4001c2597c1caf": {
          "model_module": "@jupyter-widgets/controls",
          "model_name": "ProgressStyleModel",
          "model_module_version": "1.5.0",
          "state": {
            "_model_module": "@jupyter-widgets/controls",
            "_model_module_version": "1.5.0",
            "_model_name": "ProgressStyleModel",
            "_view_count": null,
            "_view_module": "@jupyter-widgets/base",
            "_view_module_version": "1.2.0",
            "_view_name": "StyleView",
            "bar_color": null,
            "description_width": ""
          }
        },
        "abe349f9fce449a5847f882a8cfe4284": {
          "model_module": "@jupyter-widgets/controls",
          "model_name": "VBoxModel",
          "model_module_version": "1.5.0",
          "state": {
            "_dom_classes": [],
            "_model_module": "@jupyter-widgets/controls",
            "_model_module_version": "1.5.0",
            "_model_name": "VBoxModel",
            "_view_count": null,
            "_view_module": "@jupyter-widgets/controls",
            "_view_module_version": "1.5.0",
            "_view_name": "VBoxView",
            "box_style": "",
            "children": [
              "IPY_MODEL_331f19962f61420e981a959f9d5d5a51",
              "IPY_MODEL_75d7224d35c1415ab849b9a556ce3536"
            ],
            "layout": "IPY_MODEL_d30707eab02f494bbc4a12656d231c81"
          }
        },
        "331f19962f61420e981a959f9d5d5a51": {
          "model_module": "@jupyter-widgets/controls",
          "model_name": "LabelModel",
          "model_module_version": "1.5.0",
          "state": {
            "_dom_classes": [],
            "_model_module": "@jupyter-widgets/controls",
            "_model_module_version": "1.5.0",
            "_model_name": "LabelModel",
            "_view_count": null,
            "_view_module": "@jupyter-widgets/controls",
            "_view_module_version": "1.5.0",
            "_view_name": "LabelView",
            "description": "",
            "description_tooltip": null,
            "layout": "IPY_MODEL_8d8d7255e14842979d5ee0fc182c468a",
            "placeholder": "​",
            "style": "IPY_MODEL_57ef984f052e464aa0dd11e60d58ff63",
            "value": "0.011 MB of 0.011 MB uploaded\r"
          }
        },
        "75d7224d35c1415ab849b9a556ce3536": {
          "model_module": "@jupyter-widgets/controls",
          "model_name": "FloatProgressModel",
          "model_module_version": "1.5.0",
          "state": {
            "_dom_classes": [],
            "_model_module": "@jupyter-widgets/controls",
            "_model_module_version": "1.5.0",
            "_model_name": "FloatProgressModel",
            "_view_count": null,
            "_view_module": "@jupyter-widgets/controls",
            "_view_module_version": "1.5.0",
            "_view_name": "ProgressView",
            "bar_style": "",
            "description": "",
            "description_tooltip": null,
            "layout": "IPY_MODEL_bca34c98120747d9bcbb539bb9954dfd",
            "max": 1,
            "min": 0,
            "orientation": "horizontal",
            "style": "IPY_MODEL_db952141ec21475e91ea8780fb07ed57",
            "value": 1
          }
        },
        "d30707eab02f494bbc4a12656d231c81": {
          "model_module": "@jupyter-widgets/base",
          "model_name": "LayoutModel",
          "model_module_version": "1.2.0",
          "state": {
            "_model_module": "@jupyter-widgets/base",
            "_model_module_version": "1.2.0",
            "_model_name": "LayoutModel",
            "_view_count": null,
            "_view_module": "@jupyter-widgets/base",
            "_view_module_version": "1.2.0",
            "_view_name": "LayoutView",
            "align_content": null,
            "align_items": null,
            "align_self": null,
            "border": null,
            "bottom": null,
            "display": null,
            "flex": null,
            "flex_flow": null,
            "grid_area": null,
            "grid_auto_columns": null,
            "grid_auto_flow": null,
            "grid_auto_rows": null,
            "grid_column": null,
            "grid_gap": null,
            "grid_row": null,
            "grid_template_areas": null,
            "grid_template_columns": null,
            "grid_template_rows": null,
            "height": null,
            "justify_content": null,
            "justify_items": null,
            "left": null,
            "margin": null,
            "max_height": null,
            "max_width": null,
            "min_height": null,
            "min_width": null,
            "object_fit": null,
            "object_position": null,
            "order": null,
            "overflow": null,
            "overflow_x": null,
            "overflow_y": null,
            "padding": null,
            "right": null,
            "top": null,
            "visibility": null,
            "width": null
          }
        },
        "8d8d7255e14842979d5ee0fc182c468a": {
          "model_module": "@jupyter-widgets/base",
          "model_name": "LayoutModel",
          "model_module_version": "1.2.0",
          "state": {
            "_model_module": "@jupyter-widgets/base",
            "_model_module_version": "1.2.0",
            "_model_name": "LayoutModel",
            "_view_count": null,
            "_view_module": "@jupyter-widgets/base",
            "_view_module_version": "1.2.0",
            "_view_name": "LayoutView",
            "align_content": null,
            "align_items": null,
            "align_self": null,
            "border": null,
            "bottom": null,
            "display": null,
            "flex": null,
            "flex_flow": null,
            "grid_area": null,
            "grid_auto_columns": null,
            "grid_auto_flow": null,
            "grid_auto_rows": null,
            "grid_column": null,
            "grid_gap": null,
            "grid_row": null,
            "grid_template_areas": null,
            "grid_template_columns": null,
            "grid_template_rows": null,
            "height": null,
            "justify_content": null,
            "justify_items": null,
            "left": null,
            "margin": null,
            "max_height": null,
            "max_width": null,
            "min_height": null,
            "min_width": null,
            "object_fit": null,
            "object_position": null,
            "order": null,
            "overflow": null,
            "overflow_x": null,
            "overflow_y": null,
            "padding": null,
            "right": null,
            "top": null,
            "visibility": null,
            "width": null
          }
        },
        "57ef984f052e464aa0dd11e60d58ff63": {
          "model_module": "@jupyter-widgets/controls",
          "model_name": "DescriptionStyleModel",
          "model_module_version": "1.5.0",
          "state": {
            "_model_module": "@jupyter-widgets/controls",
            "_model_module_version": "1.5.0",
            "_model_name": "DescriptionStyleModel",
            "_view_count": null,
            "_view_module": "@jupyter-widgets/base",
            "_view_module_version": "1.2.0",
            "_view_name": "StyleView",
            "description_width": ""
          }
        },
        "bca34c98120747d9bcbb539bb9954dfd": {
          "model_module": "@jupyter-widgets/base",
          "model_name": "LayoutModel",
          "model_module_version": "1.2.0",
          "state": {
            "_model_module": "@jupyter-widgets/base",
            "_model_module_version": "1.2.0",
            "_model_name": "LayoutModel",
            "_view_count": null,
            "_view_module": "@jupyter-widgets/base",
            "_view_module_version": "1.2.0",
            "_view_name": "LayoutView",
            "align_content": null,
            "align_items": null,
            "align_self": null,
            "border": null,
            "bottom": null,
            "display": null,
            "flex": null,
            "flex_flow": null,
            "grid_area": null,
            "grid_auto_columns": null,
            "grid_auto_flow": null,
            "grid_auto_rows": null,
            "grid_column": null,
            "grid_gap": null,
            "grid_row": null,
            "grid_template_areas": null,
            "grid_template_columns": null,
            "grid_template_rows": null,
            "height": null,
            "justify_content": null,
            "justify_items": null,
            "left": null,
            "margin": null,
            "max_height": null,
            "max_width": null,
            "min_height": null,
            "min_width": null,
            "object_fit": null,
            "object_position": null,
            "order": null,
            "overflow": null,
            "overflow_x": null,
            "overflow_y": null,
            "padding": null,
            "right": null,
            "top": null,
            "visibility": null,
            "width": null
          }
        },
        "db952141ec21475e91ea8780fb07ed57": {
          "model_module": "@jupyter-widgets/controls",
          "model_name": "ProgressStyleModel",
          "model_module_version": "1.5.0",
          "state": {
            "_model_module": "@jupyter-widgets/controls",
            "_model_module_version": "1.5.0",
            "_model_name": "ProgressStyleModel",
            "_view_count": null,
            "_view_module": "@jupyter-widgets/base",
            "_view_module_version": "1.2.0",
            "_view_name": "StyleView",
            "bar_color": null,
            "description_width": ""
          }
        },
        "ab1dfb507f124a5cacc83d0aa11198a6": {
          "model_module": "@jupyter-widgets/controls",
          "model_name": "VBoxModel",
          "model_module_version": "1.5.0",
          "state": {
            "_dom_classes": [],
            "_model_module": "@jupyter-widgets/controls",
            "_model_module_version": "1.5.0",
            "_model_name": "VBoxModel",
            "_view_count": null,
            "_view_module": "@jupyter-widgets/controls",
            "_view_module_version": "1.5.0",
            "_view_name": "VBoxView",
            "box_style": "",
            "children": [
              "IPY_MODEL_d77b45f3e62342698a6dfa8325f1449b",
              "IPY_MODEL_e4f3a73d8161447cac23828ee3008fc2"
            ],
            "layout": "IPY_MODEL_418ff3d9d4a34ab7be0b2656dde35f64"
          }
        },
        "d77b45f3e62342698a6dfa8325f1449b": {
          "model_module": "@jupyter-widgets/controls",
          "model_name": "LabelModel",
          "model_module_version": "1.5.0",
          "state": {
            "_dom_classes": [],
            "_model_module": "@jupyter-widgets/controls",
            "_model_module_version": "1.5.0",
            "_model_name": "LabelModel",
            "_view_count": null,
            "_view_module": "@jupyter-widgets/controls",
            "_view_module_version": "1.5.0",
            "_view_name": "LabelView",
            "description": "",
            "description_tooltip": null,
            "layout": "IPY_MODEL_5374b6611d974d7899d0c853a7c665f0",
            "placeholder": "​",
            "style": "IPY_MODEL_2c9c7590d625402a9d6fccddb93531f0",
            "value": "0.011 MB of 0.011 MB uploaded\r"
          }
        },
        "e4f3a73d8161447cac23828ee3008fc2": {
          "model_module": "@jupyter-widgets/controls",
          "model_name": "FloatProgressModel",
          "model_module_version": "1.5.0",
          "state": {
            "_dom_classes": [],
            "_model_module": "@jupyter-widgets/controls",
            "_model_module_version": "1.5.0",
            "_model_name": "FloatProgressModel",
            "_view_count": null,
            "_view_module": "@jupyter-widgets/controls",
            "_view_module_version": "1.5.0",
            "_view_name": "ProgressView",
            "bar_style": "",
            "description": "",
            "description_tooltip": null,
            "layout": "IPY_MODEL_4c4327b84281456d9e72aacdd06d3188",
            "max": 1,
            "min": 0,
            "orientation": "horizontal",
            "style": "IPY_MODEL_c719c43d5164489999e3828c5435ae01",
            "value": 1
          }
        },
        "418ff3d9d4a34ab7be0b2656dde35f64": {
          "model_module": "@jupyter-widgets/base",
          "model_name": "LayoutModel",
          "model_module_version": "1.2.0",
          "state": {
            "_model_module": "@jupyter-widgets/base",
            "_model_module_version": "1.2.0",
            "_model_name": "LayoutModel",
            "_view_count": null,
            "_view_module": "@jupyter-widgets/base",
            "_view_module_version": "1.2.0",
            "_view_name": "LayoutView",
            "align_content": null,
            "align_items": null,
            "align_self": null,
            "border": null,
            "bottom": null,
            "display": null,
            "flex": null,
            "flex_flow": null,
            "grid_area": null,
            "grid_auto_columns": null,
            "grid_auto_flow": null,
            "grid_auto_rows": null,
            "grid_column": null,
            "grid_gap": null,
            "grid_row": null,
            "grid_template_areas": null,
            "grid_template_columns": null,
            "grid_template_rows": null,
            "height": null,
            "justify_content": null,
            "justify_items": null,
            "left": null,
            "margin": null,
            "max_height": null,
            "max_width": null,
            "min_height": null,
            "min_width": null,
            "object_fit": null,
            "object_position": null,
            "order": null,
            "overflow": null,
            "overflow_x": null,
            "overflow_y": null,
            "padding": null,
            "right": null,
            "top": null,
            "visibility": null,
            "width": null
          }
        },
        "5374b6611d974d7899d0c853a7c665f0": {
          "model_module": "@jupyter-widgets/base",
          "model_name": "LayoutModel",
          "model_module_version": "1.2.0",
          "state": {
            "_model_module": "@jupyter-widgets/base",
            "_model_module_version": "1.2.0",
            "_model_name": "LayoutModel",
            "_view_count": null,
            "_view_module": "@jupyter-widgets/base",
            "_view_module_version": "1.2.0",
            "_view_name": "LayoutView",
            "align_content": null,
            "align_items": null,
            "align_self": null,
            "border": null,
            "bottom": null,
            "display": null,
            "flex": null,
            "flex_flow": null,
            "grid_area": null,
            "grid_auto_columns": null,
            "grid_auto_flow": null,
            "grid_auto_rows": null,
            "grid_column": null,
            "grid_gap": null,
            "grid_row": null,
            "grid_template_areas": null,
            "grid_template_columns": null,
            "grid_template_rows": null,
            "height": null,
            "justify_content": null,
            "justify_items": null,
            "left": null,
            "margin": null,
            "max_height": null,
            "max_width": null,
            "min_height": null,
            "min_width": null,
            "object_fit": null,
            "object_position": null,
            "order": null,
            "overflow": null,
            "overflow_x": null,
            "overflow_y": null,
            "padding": null,
            "right": null,
            "top": null,
            "visibility": null,
            "width": null
          }
        },
        "2c9c7590d625402a9d6fccddb93531f0": {
          "model_module": "@jupyter-widgets/controls",
          "model_name": "DescriptionStyleModel",
          "model_module_version": "1.5.0",
          "state": {
            "_model_module": "@jupyter-widgets/controls",
            "_model_module_version": "1.5.0",
            "_model_name": "DescriptionStyleModel",
            "_view_count": null,
            "_view_module": "@jupyter-widgets/base",
            "_view_module_version": "1.2.0",
            "_view_name": "StyleView",
            "description_width": ""
          }
        },
        "4c4327b84281456d9e72aacdd06d3188": {
          "model_module": "@jupyter-widgets/base",
          "model_name": "LayoutModel",
          "model_module_version": "1.2.0",
          "state": {
            "_model_module": "@jupyter-widgets/base",
            "_model_module_version": "1.2.0",
            "_model_name": "LayoutModel",
            "_view_count": null,
            "_view_module": "@jupyter-widgets/base",
            "_view_module_version": "1.2.0",
            "_view_name": "LayoutView",
            "align_content": null,
            "align_items": null,
            "align_self": null,
            "border": null,
            "bottom": null,
            "display": null,
            "flex": null,
            "flex_flow": null,
            "grid_area": null,
            "grid_auto_columns": null,
            "grid_auto_flow": null,
            "grid_auto_rows": null,
            "grid_column": null,
            "grid_gap": null,
            "grid_row": null,
            "grid_template_areas": null,
            "grid_template_columns": null,
            "grid_template_rows": null,
            "height": null,
            "justify_content": null,
            "justify_items": null,
            "left": null,
            "margin": null,
            "max_height": null,
            "max_width": null,
            "min_height": null,
            "min_width": null,
            "object_fit": null,
            "object_position": null,
            "order": null,
            "overflow": null,
            "overflow_x": null,
            "overflow_y": null,
            "padding": null,
            "right": null,
            "top": null,
            "visibility": null,
            "width": null
          }
        },
        "c719c43d5164489999e3828c5435ae01": {
          "model_module": "@jupyter-widgets/controls",
          "model_name": "ProgressStyleModel",
          "model_module_version": "1.5.0",
          "state": {
            "_model_module": "@jupyter-widgets/controls",
            "_model_module_version": "1.5.0",
            "_model_name": "ProgressStyleModel",
            "_view_count": null,
            "_view_module": "@jupyter-widgets/base",
            "_view_module_version": "1.2.0",
            "_view_name": "StyleView",
            "bar_color": null,
            "description_width": ""
          }
        },
        "d3b58e50eb71494dbaa715afeac0840f": {
          "model_module": "@jupyter-widgets/controls",
          "model_name": "VBoxModel",
          "model_module_version": "1.5.0",
          "state": {
            "_dom_classes": [],
            "_model_module": "@jupyter-widgets/controls",
            "_model_module_version": "1.5.0",
            "_model_name": "VBoxModel",
            "_view_count": null,
            "_view_module": "@jupyter-widgets/controls",
            "_view_module_version": "1.5.0",
            "_view_name": "VBoxView",
            "box_style": "",
            "children": [
              "IPY_MODEL_835c1d0e12ba4c8ea5b38c6ee3af9930",
              "IPY_MODEL_c52d34cc8d684e6aa691f45cb15c403f"
            ],
            "layout": "IPY_MODEL_121044ddafb944c69f3f3f113d5cdc7f"
          }
        },
        "835c1d0e12ba4c8ea5b38c6ee3af9930": {
          "model_module": "@jupyter-widgets/controls",
          "model_name": "LabelModel",
          "model_module_version": "1.5.0",
          "state": {
            "_dom_classes": [],
            "_model_module": "@jupyter-widgets/controls",
            "_model_module_version": "1.5.0",
            "_model_name": "LabelModel",
            "_view_count": null,
            "_view_module": "@jupyter-widgets/controls",
            "_view_module_version": "1.5.0",
            "_view_name": "LabelView",
            "description": "",
            "description_tooltip": null,
            "layout": "IPY_MODEL_1b13c4bacf454d328b606ca1bd7fd423",
            "placeholder": "​",
            "style": "IPY_MODEL_1e656c8530ad46b48df635aefcdd09c5",
            "value": "0.011 MB of 0.011 MB uploaded\r"
          }
        },
        "c52d34cc8d684e6aa691f45cb15c403f": {
          "model_module": "@jupyter-widgets/controls",
          "model_name": "FloatProgressModel",
          "model_module_version": "1.5.0",
          "state": {
            "_dom_classes": [],
            "_model_module": "@jupyter-widgets/controls",
            "_model_module_version": "1.5.0",
            "_model_name": "FloatProgressModel",
            "_view_count": null,
            "_view_module": "@jupyter-widgets/controls",
            "_view_module_version": "1.5.0",
            "_view_name": "ProgressView",
            "bar_style": "",
            "description": "",
            "description_tooltip": null,
            "layout": "IPY_MODEL_f190e0e7103746aca2706c5569c7de44",
            "max": 1,
            "min": 0,
            "orientation": "horizontal",
            "style": "IPY_MODEL_9b36399a00c64faa8f3b74ada75b1abd",
            "value": 1
          }
        },
        "121044ddafb944c69f3f3f113d5cdc7f": {
          "model_module": "@jupyter-widgets/base",
          "model_name": "LayoutModel",
          "model_module_version": "1.2.0",
          "state": {
            "_model_module": "@jupyter-widgets/base",
            "_model_module_version": "1.2.0",
            "_model_name": "LayoutModel",
            "_view_count": null,
            "_view_module": "@jupyter-widgets/base",
            "_view_module_version": "1.2.0",
            "_view_name": "LayoutView",
            "align_content": null,
            "align_items": null,
            "align_self": null,
            "border": null,
            "bottom": null,
            "display": null,
            "flex": null,
            "flex_flow": null,
            "grid_area": null,
            "grid_auto_columns": null,
            "grid_auto_flow": null,
            "grid_auto_rows": null,
            "grid_column": null,
            "grid_gap": null,
            "grid_row": null,
            "grid_template_areas": null,
            "grid_template_columns": null,
            "grid_template_rows": null,
            "height": null,
            "justify_content": null,
            "justify_items": null,
            "left": null,
            "margin": null,
            "max_height": null,
            "max_width": null,
            "min_height": null,
            "min_width": null,
            "object_fit": null,
            "object_position": null,
            "order": null,
            "overflow": null,
            "overflow_x": null,
            "overflow_y": null,
            "padding": null,
            "right": null,
            "top": null,
            "visibility": null,
            "width": null
          }
        },
        "1b13c4bacf454d328b606ca1bd7fd423": {
          "model_module": "@jupyter-widgets/base",
          "model_name": "LayoutModel",
          "model_module_version": "1.2.0",
          "state": {
            "_model_module": "@jupyter-widgets/base",
            "_model_module_version": "1.2.0",
            "_model_name": "LayoutModel",
            "_view_count": null,
            "_view_module": "@jupyter-widgets/base",
            "_view_module_version": "1.2.0",
            "_view_name": "LayoutView",
            "align_content": null,
            "align_items": null,
            "align_self": null,
            "border": null,
            "bottom": null,
            "display": null,
            "flex": null,
            "flex_flow": null,
            "grid_area": null,
            "grid_auto_columns": null,
            "grid_auto_flow": null,
            "grid_auto_rows": null,
            "grid_column": null,
            "grid_gap": null,
            "grid_row": null,
            "grid_template_areas": null,
            "grid_template_columns": null,
            "grid_template_rows": null,
            "height": null,
            "justify_content": null,
            "justify_items": null,
            "left": null,
            "margin": null,
            "max_height": null,
            "max_width": null,
            "min_height": null,
            "min_width": null,
            "object_fit": null,
            "object_position": null,
            "order": null,
            "overflow": null,
            "overflow_x": null,
            "overflow_y": null,
            "padding": null,
            "right": null,
            "top": null,
            "visibility": null,
            "width": null
          }
        },
        "1e656c8530ad46b48df635aefcdd09c5": {
          "model_module": "@jupyter-widgets/controls",
          "model_name": "DescriptionStyleModel",
          "model_module_version": "1.5.0",
          "state": {
            "_model_module": "@jupyter-widgets/controls",
            "_model_module_version": "1.5.0",
            "_model_name": "DescriptionStyleModel",
            "_view_count": null,
            "_view_module": "@jupyter-widgets/base",
            "_view_module_version": "1.2.0",
            "_view_name": "StyleView",
            "description_width": ""
          }
        },
        "f190e0e7103746aca2706c5569c7de44": {
          "model_module": "@jupyter-widgets/base",
          "model_name": "LayoutModel",
          "model_module_version": "1.2.0",
          "state": {
            "_model_module": "@jupyter-widgets/base",
            "_model_module_version": "1.2.0",
            "_model_name": "LayoutModel",
            "_view_count": null,
            "_view_module": "@jupyter-widgets/base",
            "_view_module_version": "1.2.0",
            "_view_name": "LayoutView",
            "align_content": null,
            "align_items": null,
            "align_self": null,
            "border": null,
            "bottom": null,
            "display": null,
            "flex": null,
            "flex_flow": null,
            "grid_area": null,
            "grid_auto_columns": null,
            "grid_auto_flow": null,
            "grid_auto_rows": null,
            "grid_column": null,
            "grid_gap": null,
            "grid_row": null,
            "grid_template_areas": null,
            "grid_template_columns": null,
            "grid_template_rows": null,
            "height": null,
            "justify_content": null,
            "justify_items": null,
            "left": null,
            "margin": null,
            "max_height": null,
            "max_width": null,
            "min_height": null,
            "min_width": null,
            "object_fit": null,
            "object_position": null,
            "order": null,
            "overflow": null,
            "overflow_x": null,
            "overflow_y": null,
            "padding": null,
            "right": null,
            "top": null,
            "visibility": null,
            "width": null
          }
        },
        "9b36399a00c64faa8f3b74ada75b1abd": {
          "model_module": "@jupyter-widgets/controls",
          "model_name": "ProgressStyleModel",
          "model_module_version": "1.5.0",
          "state": {
            "_model_module": "@jupyter-widgets/controls",
            "_model_module_version": "1.5.0",
            "_model_name": "ProgressStyleModel",
            "_view_count": null,
            "_view_module": "@jupyter-widgets/base",
            "_view_module_version": "1.2.0",
            "_view_name": "StyleView",
            "bar_color": null,
            "description_width": ""
          }
        },
        "d73ff50670ab41739c6726e312365790": {
          "model_module": "@jupyter-widgets/controls",
          "model_name": "VBoxModel",
          "model_module_version": "1.5.0",
          "state": {
            "_dom_classes": [],
            "_model_module": "@jupyter-widgets/controls",
            "_model_module_version": "1.5.0",
            "_model_name": "VBoxModel",
            "_view_count": null,
            "_view_module": "@jupyter-widgets/controls",
            "_view_module_version": "1.5.0",
            "_view_name": "VBoxView",
            "box_style": "",
            "children": [
              "IPY_MODEL_b0cf16209f384edeb6f439a8f8f62bef",
              "IPY_MODEL_811431d7949644e6b15b09b83281f5a9"
            ],
            "layout": "IPY_MODEL_5564e17467344bd98df2df1b16c873fd"
          }
        },
        "b0cf16209f384edeb6f439a8f8f62bef": {
          "model_module": "@jupyter-widgets/controls",
          "model_name": "LabelModel",
          "model_module_version": "1.5.0",
          "state": {
            "_dom_classes": [],
            "_model_module": "@jupyter-widgets/controls",
            "_model_module_version": "1.5.0",
            "_model_name": "LabelModel",
            "_view_count": null,
            "_view_module": "@jupyter-widgets/controls",
            "_view_module_version": "1.5.0",
            "_view_name": "LabelView",
            "description": "",
            "description_tooltip": null,
            "layout": "IPY_MODEL_fbb9f73329654c1fa74df0fdd2b75dc4",
            "placeholder": "​",
            "style": "IPY_MODEL_9df27ea375ad490c828601c8323f37cb",
            "value": "0.011 MB of 0.011 MB uploaded\r"
          }
        },
        "811431d7949644e6b15b09b83281f5a9": {
          "model_module": "@jupyter-widgets/controls",
          "model_name": "FloatProgressModel",
          "model_module_version": "1.5.0",
          "state": {
            "_dom_classes": [],
            "_model_module": "@jupyter-widgets/controls",
            "_model_module_version": "1.5.0",
            "_model_name": "FloatProgressModel",
            "_view_count": null,
            "_view_module": "@jupyter-widgets/controls",
            "_view_module_version": "1.5.0",
            "_view_name": "ProgressView",
            "bar_style": "",
            "description": "",
            "description_tooltip": null,
            "layout": "IPY_MODEL_c44fc9151dd449f399d1db1170d7cffb",
            "max": 1,
            "min": 0,
            "orientation": "horizontal",
            "style": "IPY_MODEL_0d97714d6a424d7daa18e100ed3f17f0",
            "value": 1
          }
        },
        "5564e17467344bd98df2df1b16c873fd": {
          "model_module": "@jupyter-widgets/base",
          "model_name": "LayoutModel",
          "model_module_version": "1.2.0",
          "state": {
            "_model_module": "@jupyter-widgets/base",
            "_model_module_version": "1.2.0",
            "_model_name": "LayoutModel",
            "_view_count": null,
            "_view_module": "@jupyter-widgets/base",
            "_view_module_version": "1.2.0",
            "_view_name": "LayoutView",
            "align_content": null,
            "align_items": null,
            "align_self": null,
            "border": null,
            "bottom": null,
            "display": null,
            "flex": null,
            "flex_flow": null,
            "grid_area": null,
            "grid_auto_columns": null,
            "grid_auto_flow": null,
            "grid_auto_rows": null,
            "grid_column": null,
            "grid_gap": null,
            "grid_row": null,
            "grid_template_areas": null,
            "grid_template_columns": null,
            "grid_template_rows": null,
            "height": null,
            "justify_content": null,
            "justify_items": null,
            "left": null,
            "margin": null,
            "max_height": null,
            "max_width": null,
            "min_height": null,
            "min_width": null,
            "object_fit": null,
            "object_position": null,
            "order": null,
            "overflow": null,
            "overflow_x": null,
            "overflow_y": null,
            "padding": null,
            "right": null,
            "top": null,
            "visibility": null,
            "width": null
          }
        },
        "fbb9f73329654c1fa74df0fdd2b75dc4": {
          "model_module": "@jupyter-widgets/base",
          "model_name": "LayoutModel",
          "model_module_version": "1.2.0",
          "state": {
            "_model_module": "@jupyter-widgets/base",
            "_model_module_version": "1.2.0",
            "_model_name": "LayoutModel",
            "_view_count": null,
            "_view_module": "@jupyter-widgets/base",
            "_view_module_version": "1.2.0",
            "_view_name": "LayoutView",
            "align_content": null,
            "align_items": null,
            "align_self": null,
            "border": null,
            "bottom": null,
            "display": null,
            "flex": null,
            "flex_flow": null,
            "grid_area": null,
            "grid_auto_columns": null,
            "grid_auto_flow": null,
            "grid_auto_rows": null,
            "grid_column": null,
            "grid_gap": null,
            "grid_row": null,
            "grid_template_areas": null,
            "grid_template_columns": null,
            "grid_template_rows": null,
            "height": null,
            "justify_content": null,
            "justify_items": null,
            "left": null,
            "margin": null,
            "max_height": null,
            "max_width": null,
            "min_height": null,
            "min_width": null,
            "object_fit": null,
            "object_position": null,
            "order": null,
            "overflow": null,
            "overflow_x": null,
            "overflow_y": null,
            "padding": null,
            "right": null,
            "top": null,
            "visibility": null,
            "width": null
          }
        },
        "9df27ea375ad490c828601c8323f37cb": {
          "model_module": "@jupyter-widgets/controls",
          "model_name": "DescriptionStyleModel",
          "model_module_version": "1.5.0",
          "state": {
            "_model_module": "@jupyter-widgets/controls",
            "_model_module_version": "1.5.0",
            "_model_name": "DescriptionStyleModel",
            "_view_count": null,
            "_view_module": "@jupyter-widgets/base",
            "_view_module_version": "1.2.0",
            "_view_name": "StyleView",
            "description_width": ""
          }
        },
        "c44fc9151dd449f399d1db1170d7cffb": {
          "model_module": "@jupyter-widgets/base",
          "model_name": "LayoutModel",
          "model_module_version": "1.2.0",
          "state": {
            "_model_module": "@jupyter-widgets/base",
            "_model_module_version": "1.2.0",
            "_model_name": "LayoutModel",
            "_view_count": null,
            "_view_module": "@jupyter-widgets/base",
            "_view_module_version": "1.2.0",
            "_view_name": "LayoutView",
            "align_content": null,
            "align_items": null,
            "align_self": null,
            "border": null,
            "bottom": null,
            "display": null,
            "flex": null,
            "flex_flow": null,
            "grid_area": null,
            "grid_auto_columns": null,
            "grid_auto_flow": null,
            "grid_auto_rows": null,
            "grid_column": null,
            "grid_gap": null,
            "grid_row": null,
            "grid_template_areas": null,
            "grid_template_columns": null,
            "grid_template_rows": null,
            "height": null,
            "justify_content": null,
            "justify_items": null,
            "left": null,
            "margin": null,
            "max_height": null,
            "max_width": null,
            "min_height": null,
            "min_width": null,
            "object_fit": null,
            "object_position": null,
            "order": null,
            "overflow": null,
            "overflow_x": null,
            "overflow_y": null,
            "padding": null,
            "right": null,
            "top": null,
            "visibility": null,
            "width": null
          }
        },
        "0d97714d6a424d7daa18e100ed3f17f0": {
          "model_module": "@jupyter-widgets/controls",
          "model_name": "ProgressStyleModel",
          "model_module_version": "1.5.0",
          "state": {
            "_model_module": "@jupyter-widgets/controls",
            "_model_module_version": "1.5.0",
            "_model_name": "ProgressStyleModel",
            "_view_count": null,
            "_view_module": "@jupyter-widgets/base",
            "_view_module_version": "1.2.0",
            "_view_name": "StyleView",
            "bar_color": null,
            "description_width": ""
          }
        }
      }
    }
  },
  "nbformat": 4,
  "nbformat_minor": 0
}