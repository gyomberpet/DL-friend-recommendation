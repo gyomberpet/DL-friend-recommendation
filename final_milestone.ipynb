{
  "cells": [
    {
      "cell_type": "markdown",
      "metadata": {
        "id": "r7IsFFBOIIkc"
      },
      "source": [
        "# **Friend recommendation**"
      ]
    },
    {
      "cell_type": "markdown",
      "metadata": {
        "id": "yqieVsJAJqyr"
      },
      "source": [
        "Related materials:\n",
        "\n",
        "* https://snap.stanford.edu/data/ego-Facebook.html\n",
        "* https://snap.stanford.edu/data/ego-Gplus.html\n",
        "* https://snap.stanford.edu/data/ego-Twitter.html\n",
        "* https://github.com/aditya-grover/node2vec\n",
        "* https://github.com/pyg-team/pytorch_geometric\n",
        "* https://arxiv.org/abs/1607.00653 -> https://arxiv.org/pdf/1607.00653.pdf\n",
        "* https://arxiv.org/abs/1611.07308 -> https://arxiv.org/pdf/1611.07308.pdf\n"
      ]
    },
    {
      "cell_type": "markdown",
      "metadata": {
        "id": "595V_NfZI0Ua"
      },
      "source": [
        "## Imports"
      ]
    },
    {
      "cell_type": "code",
      "execution_count": 2,
      "metadata": {
        "colab": {
          "base_uri": "https://localhost:8080/"
        },
        "id": "hpImoLglOj4R",
        "outputId": "356858ad-761e-4ecc-aceb-6c841b8f602e"
      },
      "outputs": [
        {
          "name": "stdout",
          "output_type": "stream",
          "text": [
            "Collecting fastapi==0.104.1\n",
            "  Obtaining dependency information for fastapi==0.104.1 from https://files.pythonhosted.org/packages/f3/4f/0ce34195b63240b6693086496c9bab4ef23999112184399a3e88854c7674/fastapi-0.104.1-py3-none-any.whl.metadata\n",
            "  Downloading fastapi-0.104.1-py3-none-any.whl.metadata (24 kB)\n",
            "Collecting typing_extensions==4.8.0\n",
            "  Obtaining dependency information for typing_extensions==4.8.0 from https://files.pythonhosted.org/packages/24/21/7d397a4b7934ff4028987914ac1044d3b7d52712f30e2ac7a2ae5bc86dd0/typing_extensions-4.8.0-py3-none-any.whl.metadata\n",
            "  Downloading typing_extensions-4.8.0-py3-none-any.whl.metadata (3.0 kB)\n",
            "Collecting gradio==3.41.0\n",
            "  Obtaining dependency information for gradio==3.41.0 from https://files.pythonhosted.org/packages/70/38/4fb11e6ddf8ecc77717389b553ea8dedca1a0574eee4fcbaf943e7dc34df/gradio-3.41.0-py3-none-any.whl.metadata\n",
            "  Downloading gradio-3.41.0-py3-none-any.whl.metadata (17 kB)\n",
            "Collecting anyio<4.0.0,>=3.7.1 (from fastapi==0.104.1)\n",
            "  Obtaining dependency information for anyio<4.0.0,>=3.7.1 from https://files.pythonhosted.org/packages/19/24/44299477fe7dcc9cb58d0a57d5a7588d6af2ff403fdd2d47a246c91a3246/anyio-3.7.1-py3-none-any.whl.metadata\n",
            "  Downloading anyio-3.7.1-py3-none-any.whl.metadata (4.7 kB)\n",
            "Collecting pydantic!=1.8,!=1.8.1,!=2.0.0,!=2.0.1,!=2.1.0,<3.0.0,>=1.7.4 (from fastapi==0.104.1)\n",
            "  Obtaining dependency information for pydantic!=1.8,!=1.8.1,!=2.0.0,!=2.0.1,!=2.1.0,<3.0.0,>=1.7.4 from https://files.pythonhosted.org/packages/0a/2b/64066de1c4cf3d4ed623beeb3bbf3f8d0cc26661f1e7d180ec5eb66b75a5/pydantic-2.5.2-py3-none-any.whl.metadata\n",
            "  Downloading pydantic-2.5.2-py3-none-any.whl.metadata (65 kB)\n",
            "     ---------------------------------------- 0.0/65.2 kB ? eta -:--:--\n",
            "     ---------------------------------------- 65.2/65.2 kB 1.8 MB/s eta 0:00:00\n",
            "Collecting starlette<0.28.0,>=0.27.0 (from fastapi==0.104.1)\n",
            "  Obtaining dependency information for starlette<0.28.0,>=0.27.0 from https://files.pythonhosted.org/packages/58/f8/e2cca22387965584a409795913b774235752be4176d276714e15e1a58884/starlette-0.27.0-py3-none-any.whl.metadata\n",
            "  Downloading starlette-0.27.0-py3-none-any.whl.metadata (5.8 kB)\n",
            "Collecting aiofiles<24.0,>=22.0 (from gradio==3.41.0)\n",
            "  Obtaining dependency information for aiofiles<24.0,>=22.0 from https://files.pythonhosted.org/packages/c5/19/5af6804c4cc0fed83f47bff6e413a98a36618e7d40185cd36e69737f3b0e/aiofiles-23.2.1-py3-none-any.whl.metadata\n",
            "  Downloading aiofiles-23.2.1-py3-none-any.whl.metadata (9.7 kB)\n",
            "Collecting altair<6.0,>=4.2.0 (from gradio==3.41.0)\n",
            "  Obtaining dependency information for altair<6.0,>=4.2.0 from https://files.pythonhosted.org/packages/c5/e4/7fcceef127badbb0d644d730d992410e4f3799b295c9964a172f92a469c7/altair-5.2.0-py3-none-any.whl.metadata\n",
            "  Downloading altair-5.2.0-py3-none-any.whl.metadata (8.7 kB)\n",
            "Collecting ffmpy (from gradio==3.41.0)\n",
            "  Downloading ffmpy-0.3.1.tar.gz (5.5 kB)\n",
            "  Preparing metadata (setup.py): started\n",
            "  Preparing metadata (setup.py): finished with status 'done'\n",
            "Collecting gradio-client==0.5.0 (from gradio==3.41.0)\n",
            "  Obtaining dependency information for gradio-client==0.5.0 from https://files.pythonhosted.org/packages/fe/85/ec0323f39192c4bee04e8e06e64213aff816b9d1b61c3c8367e75b1c7e10/gradio_client-0.5.0-py3-none-any.whl.metadata\n",
            "  Downloading gradio_client-0.5.0-py3-none-any.whl.metadata (7.1 kB)\n",
            "Collecting httpx (from gradio==3.41.0)\n",
            "  Obtaining dependency information for httpx from https://files.pythonhosted.org/packages/a2/65/6940eeb21dcb2953778a6895281c179efd9100463ff08cb6232bb6480da7/httpx-0.25.2-py3-none-any.whl.metadata\n",
            "  Downloading httpx-0.25.2-py3-none-any.whl.metadata (6.9 kB)\n",
            "Collecting huggingface-hub>=0.14.0 (from gradio==3.41.0)\n",
            "  Obtaining dependency information for huggingface-hub>=0.14.0 from https://files.pythonhosted.org/packages/05/09/1945ca6ba3ad8ad6e2872ba682ce8d68c5e63c8e55458ed8ab4885709f1d/huggingface_hub-0.19.4-py3-none-any.whl.metadata\n",
            "  Downloading huggingface_hub-0.19.4-py3-none-any.whl.metadata (14 kB)\n",
            "Collecting importlib-resources<7.0,>=1.3 (from gradio==3.41.0)\n",
            "  Obtaining dependency information for importlib-resources<7.0,>=1.3 from https://files.pythonhosted.org/packages/93/e8/facde510585869b5ec694e8e0363ffe4eba067cb357a8398a55f6a1f8023/importlib_resources-6.1.1-py3-none-any.whl.metadata\n",
            "  Downloading importlib_resources-6.1.1-py3-none-any.whl.metadata (4.1 kB)\n",
            "Requirement already satisfied: jinja2<4.0 in c:\\users\\gyomb\\appdata\\local\\programs\\python\\python310\\lib\\site-packages (from gradio==3.41.0) (3.1.2)\n",
            "Requirement already satisfied: markupsafe~=2.0 in c:\\users\\gyomb\\appdata\\local\\programs\\python\\python310\\lib\\site-packages (from gradio==3.41.0) (2.1.3)\n",
            "Requirement already satisfied: matplotlib~=3.0 in c:\\users\\gyomb\\appdata\\local\\programs\\python\\python310\\lib\\site-packages (from gradio==3.41.0) (3.5.2)\n",
            "Requirement already satisfied: numpy~=1.0 in c:\\users\\gyomb\\appdata\\local\\programs\\python\\python310\\lib\\site-packages (from gradio==3.41.0) (1.22.3)\n",
            "Collecting orjson~=3.0 (from gradio==3.41.0)\n",
            "  Obtaining dependency information for orjson~=3.0 from https://files.pythonhosted.org/packages/b0/6e/1b75897f9afae0eb7d72b0bedd371ef2d9063d4616444b6f4364689785f3/orjson-3.9.10-cp310-none-win_amd64.whl.metadata\n",
            "  Downloading orjson-3.9.10-cp310-none-win_amd64.whl.metadata (50 kB)\n",
            "     ---------------------------------------- 0.0/50.5 kB ? eta -:--:--\n",
            "     ---------------------------------------- 50.5/50.5 kB 2.7 MB/s eta 0:00:00\n",
            "Requirement already satisfied: packaging in c:\\users\\gyomb\\appdata\\local\\programs\\python\\python310\\lib\\site-packages (from gradio==3.41.0) (21.3)\n",
            "Requirement already satisfied: pandas<3.0,>=1.0 in c:\\users\\gyomb\\appdata\\local\\programs\\python\\python310\\lib\\site-packages (from gradio==3.41.0) (1.4.2)\n",
            "Requirement already satisfied: pillow<11.0,>=8.0 in c:\\users\\gyomb\\appdata\\local\\programs\\python\\python310\\lib\\site-packages (from gradio==3.41.0) (9.1.0)\n",
            "Collecting pydub (from gradio==3.41.0)\n",
            "  Downloading pydub-0.25.1-py2.py3-none-any.whl (32 kB)\n",
            "Collecting python-multipart (from gradio==3.41.0)\n",
            "  Downloading python_multipart-0.0.6-py3-none-any.whl (45 kB)\n",
            "     ---------------------------------------- 0.0/45.7 kB ? eta -:--:--\n",
            "     ---------------------------------------- 45.7/45.7 kB 2.4 MB/s eta 0:00:00\n",
            "Requirement already satisfied: pyyaml<7.0,>=5.0 in c:\\users\\gyomb\\appdata\\local\\programs\\python\\python310\\lib\\site-packages (from gradio==3.41.0) (6.0)\n",
            "Requirement already satisfied: requests~=2.0 in c:\\users\\gyomb\\appdata\\local\\programs\\python\\python310\\lib\\site-packages (from gradio==3.41.0) (2.31.0)\n",
            "Collecting semantic-version~=2.0 (from gradio==3.41.0)\n",
            "  Downloading semantic_version-2.10.0-py2.py3-none-any.whl (15 kB)\n",
            "Collecting uvicorn>=0.14.0 (from gradio==3.41.0)\n",
            "  Obtaining dependency information for uvicorn>=0.14.0 from https://files.pythonhosted.org/packages/7e/17/4b7a76fffa7babf397481040d8aef2725b2b81ae19f1a31b5ca0c17d49e6/uvicorn-0.24.0.post1-py3-none-any.whl.metadata\n",
            "  Downloading uvicorn-0.24.0.post1-py3-none-any.whl.metadata (6.4 kB)\n",
            "Requirement already satisfied: websockets<12.0,>=10.0 in c:\\users\\gyomb\\appdata\\local\\programs\\python\\python310\\lib\\site-packages (from gradio==3.41.0) (10.3)\n",
            "Collecting fsspec (from gradio-client==0.5.0->gradio==3.41.0)\n",
            "  Obtaining dependency information for fsspec from https://files.pythonhosted.org/packages/96/0e/2be9b5a2e3f736577e749bbdf27a1e7e965041e1c908d49dedf56eeb2b8a/fsspec-2023.12.1-py3-none-any.whl.metadata\n",
            "  Downloading fsspec-2023.12.1-py3-none-any.whl.metadata (6.8 kB)\n",
            "Requirement already satisfied: jsonschema>=3.0 in c:\\users\\gyomb\\appdata\\local\\programs\\python\\python310\\lib\\site-packages (from altair<6.0,>=4.2.0->gradio==3.41.0) (4.19.1)\n",
            "Collecting toolz (from altair<6.0,>=4.2.0->gradio==3.41.0)\n",
            "  Downloading toolz-0.12.0-py3-none-any.whl (55 kB)\n",
            "     ---------------------------------------- 0.0/55.8 kB ? eta -:--:--\n",
            "     ---------------------------------------- 55.8/55.8 kB 2.8 MB/s eta 0:00:00\n",
            "Requirement already satisfied: idna>=2.8 in c:\\users\\gyomb\\appdata\\local\\programs\\python\\python310\\lib\\site-packages (from anyio<4.0.0,>=3.7.1->fastapi==0.104.1) (3.3)\n",
            "Requirement already satisfied: sniffio>=1.1 in c:\\users\\gyomb\\appdata\\local\\programs\\python\\python310\\lib\\site-packages (from anyio<4.0.0,>=3.7.1->fastapi==0.104.1) (1.3.0)\n",
            "Requirement already satisfied: exceptiongroup in c:\\users\\gyomb\\appdata\\local\\programs\\python\\python310\\lib\\site-packages (from anyio<4.0.0,>=3.7.1->fastapi==0.104.1) (1.1.3)\n",
            "Collecting filelock (from huggingface-hub>=0.14.0->gradio==3.41.0)\n",
            "  Obtaining dependency information for filelock from https://files.pythonhosted.org/packages/81/54/84d42a0bee35edba99dee7b59a8d4970eccdd44b99fe728ed912106fc781/filelock-3.13.1-py3-none-any.whl.metadata\n",
            "  Downloading filelock-3.13.1-py3-none-any.whl.metadata (2.8 kB)\n",
            "Collecting tqdm>=4.42.1 (from huggingface-hub>=0.14.0->gradio==3.41.0)\n",
            "  Obtaining dependency information for tqdm>=4.42.1 from https://files.pythonhosted.org/packages/00/e5/f12a80907d0884e6dff9c16d0c0114d81b8cd07dc3ae54c5e962cc83037e/tqdm-4.66.1-py3-none-any.whl.metadata\n",
            "  Downloading tqdm-4.66.1-py3-none-any.whl.metadata (57 kB)\n",
            "     ---------------------------------------- 0.0/57.6 kB ? eta -:--:--\n",
            "     ---------------------------------------- 57.6/57.6 kB ? eta 0:00:00\n",
            "Requirement already satisfied: cycler>=0.10 in c:\\users\\gyomb\\appdata\\local\\programs\\python\\python310\\lib\\site-packages (from matplotlib~=3.0->gradio==3.41.0) (0.11.0)\n",
            "Requirement already satisfied: fonttools>=4.22.0 in c:\\users\\gyomb\\appdata\\local\\programs\\python\\python310\\lib\\site-packages (from matplotlib~=3.0->gradio==3.41.0) (4.33.3)\n",
            "Requirement already satisfied: kiwisolver>=1.0.1 in c:\\users\\gyomb\\appdata\\local\\programs\\python\\python310\\lib\\site-packages (from matplotlib~=3.0->gradio==3.41.0) (1.4.2)\n",
            "Requirement already satisfied: pyparsing>=2.2.1 in c:\\users\\gyomb\\appdata\\local\\programs\\python\\python310\\lib\\site-packages (from matplotlib~=3.0->gradio==3.41.0) (3.0.8)\n",
            "Requirement already satisfied: python-dateutil>=2.7 in c:\\users\\gyomb\\appdata\\local\\programs\\python\\python310\\lib\\site-packages (from matplotlib~=3.0->gradio==3.41.0) (2.8.2)\n",
            "Requirement already satisfied: pytz>=2020.1 in c:\\users\\gyomb\\appdata\\local\\programs\\python\\python310\\lib\\site-packages (from pandas<3.0,>=1.0->gradio==3.41.0) (2022.1)\n",
            "Collecting annotated-types>=0.4.0 (from pydantic!=1.8,!=1.8.1,!=2.0.0,!=2.0.1,!=2.1.0,<3.0.0,>=1.7.4->fastapi==0.104.1)\n",
            "  Obtaining dependency information for annotated-types>=0.4.0 from https://files.pythonhosted.org/packages/28/78/d31230046e58c207284c6b2c4e8d96e6d3cb4e52354721b944d3e1ee4aa5/annotated_types-0.6.0-py3-none-any.whl.metadata\n",
            "  Downloading annotated_types-0.6.0-py3-none-any.whl.metadata (12 kB)\n",
            "Collecting pydantic-core==2.14.5 (from pydantic!=1.8,!=1.8.1,!=2.0.0,!=2.0.1,!=2.1.0,<3.0.0,>=1.7.4->fastapi==0.104.1)\n",
            "  Obtaining dependency information for pydantic-core==2.14.5 from https://files.pythonhosted.org/packages/3d/9f/bd9a41853a8ad6854cf126e72bb19a4849f79efe2d544b1a44f5351b9748/pydantic_core-2.14.5-cp310-none-win_amd64.whl.metadata\n",
            "  Downloading pydantic_core-2.14.5-cp310-none-win_amd64.whl.metadata (6.6 kB)\n",
            "Requirement already satisfied: charset-normalizer<4,>=2 in c:\\users\\gyomb\\appdata\\local\\programs\\python\\python310\\lib\\site-packages (from requests~=2.0->gradio==3.41.0) (2.0.12)\n",
            "Requirement already satisfied: urllib3<3,>=1.21.1 in c:\\users\\gyomb\\appdata\\local\\programs\\python\\python310\\lib\\site-packages (from requests~=2.0->gradio==3.41.0) (1.26.9)\n",
            "Requirement already satisfied: certifi>=2017.4.17 in c:\\users\\gyomb\\appdata\\local\\programs\\python\\python310\\lib\\site-packages (from requests~=2.0->gradio==3.41.0) (2021.10.8)\n",
            "Collecting click>=7.0 (from uvicorn>=0.14.0->gradio==3.41.0)\n",
            "  Obtaining dependency information for click>=7.0 from https://files.pythonhosted.org/packages/00/2e/d53fa4befbf2cfa713304affc7ca780ce4fc1fd8710527771b58311a3229/click-8.1.7-py3-none-any.whl.metadata\n",
            "  Downloading click-8.1.7-py3-none-any.whl.metadata (3.0 kB)\n",
            "Collecting h11>=0.8 (from uvicorn>=0.14.0->gradio==3.41.0)\n",
            "  Downloading h11-0.14.0-py3-none-any.whl (58 kB)\n",
            "     ---------------------------------------- 0.0/58.3 kB ? eta -:--:--\n",
            "     ---------------------------------------- 58.3/58.3 kB ? eta 0:00:00\n",
            "Collecting httpcore==1.* (from httpx->gradio==3.41.0)\n",
            "  Obtaining dependency information for httpcore==1.* from https://files.pythonhosted.org/packages/56/ba/78b0a99c4da0ff8b0f59defa2f13ca4668189b134bd9840b6202a93d9a0f/httpcore-1.0.2-py3-none-any.whl.metadata\n",
            "  Downloading httpcore-1.0.2-py3-none-any.whl.metadata (20 kB)\n",
            "Requirement already satisfied: colorama in c:\\users\\gyomb\\appdata\\local\\programs\\python\\python310\\lib\\site-packages (from click>=7.0->uvicorn>=0.14.0->gradio==3.41.0) (0.4.5)\n",
            "Requirement already satisfied: attrs>=22.2.0 in c:\\users\\gyomb\\appdata\\local\\programs\\python\\python310\\lib\\site-packages (from jsonschema>=3.0->altair<6.0,>=4.2.0->gradio==3.41.0) (23.1.0)\n",
            "Requirement already satisfied: jsonschema-specifications>=2023.03.6 in c:\\users\\gyomb\\appdata\\local\\programs\\python\\python310\\lib\\site-packages (from jsonschema>=3.0->altair<6.0,>=4.2.0->gradio==3.41.0) (2023.7.1)\n",
            "Requirement already satisfied: referencing>=0.28.4 in c:\\users\\gyomb\\appdata\\local\\programs\\python\\python310\\lib\\site-packages (from jsonschema>=3.0->altair<6.0,>=4.2.0->gradio==3.41.0) (0.30.2)\n",
            "Requirement already satisfied: rpds-py>=0.7.1 in c:\\users\\gyomb\\appdata\\local\\programs\\python\\python310\\lib\\site-packages (from jsonschema>=3.0->altair<6.0,>=4.2.0->gradio==3.41.0) (0.10.6)\n",
            "Requirement already satisfied: six>=1.5 in c:\\users\\gyomb\\appdata\\local\\programs\\python\\python310\\lib\\site-packages (from python-dateutil>=2.7->matplotlib~=3.0->gradio==3.41.0) (1.16.0)\n",
            "Downloading fastapi-0.104.1-py3-none-any.whl (92 kB)\n",
            "   ---------------------------------------- 0.0/92.9 kB ? eta -:--:--\n",
            "   ---------------------------------------- 92.9/92.9 kB ? eta 0:00:00\n",
            "Downloading typing_extensions-4.8.0-py3-none-any.whl (31 kB)\n",
            "Downloading gradio-3.41.0-py3-none-any.whl (20.1 MB)\n",
            "   ---------------------------------------- 0.0/20.1 MB ? eta -:--:--\n",
            "    --------------------------------------- 0.4/20.1 MB 9.3 MB/s eta 0:00:03\n",
            "   - -------------------------------------- 1.0/20.1 MB 10.2 MB/s eta 0:00:02\n",
            "   ----- ---------------------------------- 2.8/20.1 MB 20.1 MB/s eta 0:00:01\n",
            "   ---------- ----------------------------- 5.3/20.1 MB 31.1 MB/s eta 0:00:01\n",
            "   ----------------- ---------------------- 9.0/20.1 MB 38.3 MB/s eta 0:00:01\n",
            "   ----------------- ---------------------- 9.0/20.1 MB 33.9 MB/s eta 0:00:01\n",
            "   --------------------------- ------------ 13.6/20.1 MB 59.5 MB/s eta 0:00:01\n",
            "   -------------------------------- ------- 16.6/20.1 MB 65.2 MB/s eta 0:00:01\n",
            "   ---------------------------------------  20.1/20.1 MB 93.9 MB/s eta 0:00:01\n",
            "   ---------------------------------------  20.1/20.1 MB 93.9 MB/s eta 0:00:01\n",
            "   ---------------------------------------- 20.1/20.1 MB 50.4 MB/s eta 0:00:00\n",
            "Downloading gradio_client-0.5.0-py3-none-any.whl (298 kB)\n",
            "   ---------------------------------------- 0.0/298.2 kB ? eta -:--:--\n",
            "   ---------------------------------------- 298.2/298.2 kB ? eta 0:00:00\n",
            "Downloading aiofiles-23.2.1-py3-none-any.whl (15 kB)\n",
            "Downloading altair-5.2.0-py3-none-any.whl (996 kB)\n",
            "   ---------------------------------------- 0.0/996.9 kB ? eta -:--:--\n",
            "   --------------------------------------- 996.9/996.9 kB 61.7 MB/s eta 0:00:00\n",
            "Downloading anyio-3.7.1-py3-none-any.whl (80 kB)\n",
            "   ---------------------------------------- 0.0/80.9 kB ? eta -:--:--\n",
            "   ---------------------------------------- 80.9/80.9 kB ? eta 0:00:00\n",
            "Downloading huggingface_hub-0.19.4-py3-none-any.whl (311 kB)\n",
            "   ---------------------------------------- 0.0/311.7 kB ? eta -:--:--\n",
            "   ---------------------------------------- 311.7/311.7 kB ? eta 0:00:00\n",
            "Downloading importlib_resources-6.1.1-py3-none-any.whl (33 kB)\n",
            "Downloading orjson-3.9.10-cp310-none-win_amd64.whl (135 kB)\n",
            "   ---------------------------------------- 0.0/135.0 kB ? eta -:--:--\n",
            "   ---------------------------------------- 135.0/135.0 kB 7.8 MB/s eta 0:00:00\n",
            "Downloading pydantic-2.5.2-py3-none-any.whl (381 kB)\n",
            "   ---------------------------------------- 0.0/381.9 kB ? eta -:--:--\n",
            "   ---------------------------------------- 381.9/381.9 kB ? eta 0:00:00\n",
            "Downloading pydantic_core-2.14.5-cp310-none-win_amd64.whl (1.9 MB)\n",
            "   ---------------------------------------- 0.0/1.9 MB ? eta -:--:--\n",
            "   ---------------------------------------- 1.9/1.9 MB 125.1 MB/s eta 0:00:00\n",
            "Downloading starlette-0.27.0-py3-none-any.whl (66 kB)\n",
            "   ---------------------------------------- 0.0/67.0 kB ? eta -:--:--\n",
            "   ---------------------------------------- 67.0/67.0 kB 3.5 MB/s eta 0:00:00\n",
            "Downloading uvicorn-0.24.0.post1-py3-none-any.whl (59 kB)\n",
            "   ---------------------------------------- 0.0/59.7 kB ? eta -:--:--\n",
            "   ---------------------------------------- 59.7/59.7 kB ? eta 0:00:00\n",
            "Downloading httpx-0.25.2-py3-none-any.whl (74 kB)\n",
            "   ---------------------------------------- 0.0/75.0 kB ? eta -:--:--\n",
            "   ---------------------------------------- 75.0/75.0 kB ? eta 0:00:00\n",
            "Downloading httpcore-1.0.2-py3-none-any.whl (76 kB)\n",
            "   ---------------------------------------- 0.0/76.9 kB ? eta -:--:--\n",
            "   ---------------------------------------- 76.9/76.9 kB 4.4 MB/s eta 0:00:00\n",
            "Downloading annotated_types-0.6.0-py3-none-any.whl (12 kB)\n",
            "Downloading click-8.1.7-py3-none-any.whl (97 kB)\n",
            "   ---------------------------------------- 0.0/97.9 kB ? eta -:--:--\n",
            "   ---------------------------------------- 97.9/97.9 kB ? eta 0:00:00\n",
            "Downloading fsspec-2023.12.1-py3-none-any.whl (168 kB)\n",
            "   ---------------------------------------- 0.0/168.9 kB ? eta -:--:--\n",
            "   ---------------------------------------- 168.9/168.9 kB 9.9 MB/s eta 0:00:00\n",
            "Downloading tqdm-4.66.1-py3-none-any.whl (78 kB)\n",
            "   ---------------------------------------- 0.0/78.3 kB ? eta -:--:--\n",
            "   ---------------------------------------- 78.3/78.3 kB 4.3 MB/s eta 0:00:00\n",
            "Downloading filelock-3.13.1-py3-none-any.whl (11 kB)\n",
            "Building wheels for collected packages: ffmpy\n",
            "  Building wheel for ffmpy (setup.py): started\n",
            "  Building wheel for ffmpy (setup.py): finished with status 'done'\n",
            "  Created wheel for ffmpy: filename=ffmpy-0.3.1-py3-none-any.whl size=5579 sha256=0023f5c26668b68670c7e2864b80a222a9391e4984d61c4966c963fc79e59c53\n",
            "  Stored in directory: c:\\users\\gyomb\\appdata\\local\\pip\\cache\\wheels\\01\\a6\\d1\\1c0828c304a4283b2c1639a09ad86f83d7c487ef34c6b4a1bf\n",
            "Successfully built ffmpy\n",
            "Installing collected packages: pydub, ffmpy, typing_extensions, tqdm, toolz, semantic-version, python-multipart, orjson, importlib-resources, h11, fsspec, filelock, click, anyio, annotated-types, aiofiles, uvicorn, starlette, pydantic-core, huggingface-hub, httpcore, pydantic, httpx, gradio-client, fastapi, altair, gradio\n",
            "  Attempting uninstall: typing_extensions\n",
            "    Found existing installation: typing_extensions 4.2.0\n",
            "    Uninstalling typing_extensions-4.2.0:\n",
            "      Successfully uninstalled typing_extensions-4.2.0\n",
            "  Attempting uninstall: anyio\n",
            "    Found existing installation: anyio 4.0.0\n",
            "    Uninstalling anyio-4.0.0:\n",
            "      Successfully uninstalled anyio-4.0.0\n",
            "Successfully installed aiofiles-23.2.1 altair-5.2.0 annotated-types-0.6.0 anyio-3.7.1 click-8.1.7 fastapi-0.104.1 ffmpy-0.3.1 filelock-3.13.1 fsspec-2023.12.1 gradio-3.41.0 gradio-client-0.5.0 h11-0.14.0 httpcore-1.0.2 httpx-0.25.2 huggingface-hub-0.19.4 importlib-resources-6.1.1 orjson-3.9.10 pydantic-2.5.2 pydantic-core-2.14.5 pydub-0.25.1 python-multipart-0.0.6 semantic-version-2.10.0 starlette-0.27.0 toolz-0.12.0 tqdm-4.66.1 typing_extensions-4.8.0 uvicorn-0.24.0.post1\n"
          ]
        },
        {
          "name": "stderr",
          "output_type": "stream",
          "text": [
            "\n",
            "[notice] A new release of pip is available: 23.2.1 -> 23.3.1\n",
            "[notice] To update, run: python.exe -m pip install --upgrade pip\n",
            "\n",
            "[notice] A new release of pip is available: 23.2.1 -> 23.3.1\n",
            "[notice] To update, run: python.exe -m pip install --upgrade pip\n"
          ]
        },
        {
          "name": "stdout",
          "output_type": "stream",
          "text": [
            "Requirement already satisfied: fastapi==0.104.1 in c:\\users\\gyomb\\appdata\\local\\programs\\python\\python310\\lib\\site-packages (0.104.1)\n",
            "Requirement already satisfied: typing_extensions==4.8.0 in c:\\users\\gyomb\\appdata\\local\\programs\\python\\python310\\lib\\site-packages (4.8.0)\n",
            "Requirement already satisfied: gradio==3.41.0 in c:\\users\\gyomb\\appdata\\local\\programs\\python\\python310\\lib\\site-packages (3.41.0)\n",
            "Requirement already satisfied: anyio<4.0.0,>=3.7.1 in c:\\users\\gyomb\\appdata\\local\\programs\\python\\python310\\lib\\site-packages (from fastapi==0.104.1) (3.7.1)\n",
            "Requirement already satisfied: pydantic!=1.8,!=1.8.1,!=2.0.0,!=2.0.1,!=2.1.0,<3.0.0,>=1.7.4 in c:\\users\\gyomb\\appdata\\local\\programs\\python\\python310\\lib\\site-packages (from fastapi==0.104.1) (2.5.2)\n",
            "Requirement already satisfied: starlette<0.28.0,>=0.27.0 in c:\\users\\gyomb\\appdata\\local\\programs\\python\\python310\\lib\\site-packages (from fastapi==0.104.1) (0.27.0)\n",
            "Requirement already satisfied: aiofiles<24.0,>=22.0 in c:\\users\\gyomb\\appdata\\local\\programs\\python\\python310\\lib\\site-packages (from gradio==3.41.0) (23.2.1)\n",
            "Requirement already satisfied: altair<6.0,>=4.2.0 in c:\\users\\gyomb\\appdata\\local\\programs\\python\\python310\\lib\\site-packages (from gradio==3.41.0) (5.2.0)\n",
            "Requirement already satisfied: ffmpy in c:\\users\\gyomb\\appdata\\local\\programs\\python\\python310\\lib\\site-packages (from gradio==3.41.0) (0.3.1)\n",
            "Requirement already satisfied: gradio-client==0.5.0 in c:\\users\\gyomb\\appdata\\local\\programs\\python\\python310\\lib\\site-packages (from gradio==3.41.0) (0.5.0)\n",
            "Requirement already satisfied: httpx in c:\\users\\gyomb\\appdata\\local\\programs\\python\\python310\\lib\\site-packages (from gradio==3.41.0) (0.25.2)\n",
            "Requirement already satisfied: huggingface-hub>=0.14.0 in c:\\users\\gyomb\\appdata\\local\\programs\\python\\python310\\lib\\site-packages (from gradio==3.41.0) (0.19.4)\n",
            "Requirement already satisfied: importlib-resources<7.0,>=1.3 in c:\\users\\gyomb\\appdata\\local\\programs\\python\\python310\\lib\\site-packages (from gradio==3.41.0) (6.1.1)\n",
            "Requirement already satisfied: jinja2<4.0 in c:\\users\\gyomb\\appdata\\local\\programs\\python\\python310\\lib\\site-packages (from gradio==3.41.0) (3.1.2)\n",
            "Requirement already satisfied: markupsafe~=2.0 in c:\\users\\gyomb\\appdata\\local\\programs\\python\\python310\\lib\\site-packages (from gradio==3.41.0) (2.1.3)\n",
            "Requirement already satisfied: matplotlib~=3.0 in c:\\users\\gyomb\\appdata\\local\\programs\\python\\python310\\lib\\site-packages (from gradio==3.41.0) (3.5.2)\n",
            "Requirement already satisfied: numpy~=1.0 in c:\\users\\gyomb\\appdata\\local\\programs\\python\\python310\\lib\\site-packages (from gradio==3.41.0) (1.22.3)\n",
            "Requirement already satisfied: orjson~=3.0 in c:\\users\\gyomb\\appdata\\local\\programs\\python\\python310\\lib\\site-packages (from gradio==3.41.0) (3.9.10)\n",
            "Requirement already satisfied: packaging in c:\\users\\gyomb\\appdata\\local\\programs\\python\\python310\\lib\\site-packages (from gradio==3.41.0) (21.3)\n",
            "Requirement already satisfied: pandas<3.0,>=1.0 in c:\\users\\gyomb\\appdata\\local\\programs\\python\\python310\\lib\\site-packages (from gradio==3.41.0) (1.4.2)\n",
            "Requirement already satisfied: pillow<11.0,>=8.0 in c:\\users\\gyomb\\appdata\\local\\programs\\python\\python310\\lib\\site-packages (from gradio==3.41.0) (9.1.0)\n",
            "Requirement already satisfied: pydub in c:\\users\\gyomb\\appdata\\local\\programs\\python\\python310\\lib\\site-packages (from gradio==3.41.0) (0.25.1)\n",
            "Requirement already satisfied: python-multipart in c:\\users\\gyomb\\appdata\\local\\programs\\python\\python310\\lib\\site-packages (from gradio==3.41.0) (0.0.6)\n",
            "Requirement already satisfied: pyyaml<7.0,>=5.0 in c:\\users\\gyomb\\appdata\\local\\programs\\python\\python310\\lib\\site-packages (from gradio==3.41.0) (6.0)\n",
            "Requirement already satisfied: requests~=2.0 in c:\\users\\gyomb\\appdata\\local\\programs\\python\\python310\\lib\\site-packages (from gradio==3.41.0) (2.31.0)\n",
            "Requirement already satisfied: semantic-version~=2.0 in c:\\users\\gyomb\\appdata\\local\\programs\\python\\python310\\lib\\site-packages (from gradio==3.41.0) (2.10.0)\n",
            "Requirement already satisfied: uvicorn>=0.14.0 in c:\\users\\gyomb\\appdata\\local\\programs\\python\\python310\\lib\\site-packages (from gradio==3.41.0) (0.24.0.post1)\n",
            "Requirement already satisfied: websockets<12.0,>=10.0 in c:\\users\\gyomb\\appdata\\local\\programs\\python\\python310\\lib\\site-packages (from gradio==3.41.0) (10.3)\n",
            "Requirement already satisfied: fsspec in c:\\users\\gyomb\\appdata\\local\\programs\\python\\python310\\lib\\site-packages (from gradio-client==0.5.0->gradio==3.41.0) (2023.12.1)\n",
            "Requirement already satisfied: jsonschema>=3.0 in c:\\users\\gyomb\\appdata\\local\\programs\\python\\python310\\lib\\site-packages (from altair<6.0,>=4.2.0->gradio==3.41.0) (4.19.1)\n",
            "Requirement already satisfied: toolz in c:\\users\\gyomb\\appdata\\local\\programs\\python\\python310\\lib\\site-packages (from altair<6.0,>=4.2.0->gradio==3.41.0) (0.12.0)\n",
            "Requirement already satisfied: idna>=2.8 in c:\\users\\gyomb\\appdata\\local\\programs\\python\\python310\\lib\\site-packages (from anyio<4.0.0,>=3.7.1->fastapi==0.104.1) (3.3)\n",
            "Requirement already satisfied: sniffio>=1.1 in c:\\users\\gyomb\\appdata\\local\\programs\\python\\python310\\lib\\site-packages (from anyio<4.0.0,>=3.7.1->fastapi==0.104.1) (1.3.0)\n",
            "Requirement already satisfied: exceptiongroup in c:\\users\\gyomb\\appdata\\local\\programs\\python\\python310\\lib\\site-packages (from anyio<4.0.0,>=3.7.1->fastapi==0.104.1) (1.1.3)\n",
            "Requirement already satisfied: filelock in c:\\users\\gyomb\\appdata\\local\\programs\\python\\python310\\lib\\site-packages (from huggingface-hub>=0.14.0->gradio==3.41.0) (3.13.1)\n",
            "Requirement already satisfied: tqdm>=4.42.1 in c:\\users\\gyomb\\appdata\\local\\programs\\python\\python310\\lib\\site-packages (from huggingface-hub>=0.14.0->gradio==3.41.0) (4.66.1)\n",
            "Requirement already satisfied: cycler>=0.10 in c:\\users\\gyomb\\appdata\\local\\programs\\python\\python310\\lib\\site-packages (from matplotlib~=3.0->gradio==3.41.0) (0.11.0)\n",
            "Requirement already satisfied: fonttools>=4.22.0 in c:\\users\\gyomb\\appdata\\local\\programs\\python\\python310\\lib\\site-packages (from matplotlib~=3.0->gradio==3.41.0) (4.33.3)\n",
            "Requirement already satisfied: kiwisolver>=1.0.1 in c:\\users\\gyomb\\appdata\\local\\programs\\python\\python310\\lib\\site-packages (from matplotlib~=3.0->gradio==3.41.0) (1.4.2)\n",
            "Requirement already satisfied: pyparsing>=2.2.1 in c:\\users\\gyomb\\appdata\\local\\programs\\python\\python310\\lib\\site-packages (from matplotlib~=3.0->gradio==3.41.0) (3.0.8)\n",
            "Requirement already satisfied: python-dateutil>=2.7 in c:\\users\\gyomb\\appdata\\local\\programs\\python\\python310\\lib\\site-packages (from matplotlib~=3.0->gradio==3.41.0) (2.8.2)\n",
            "Requirement already satisfied: pytz>=2020.1 in c:\\users\\gyomb\\appdata\\local\\programs\\python\\python310\\lib\\site-packages (from pandas<3.0,>=1.0->gradio==3.41.0) (2022.1)\n",
            "Requirement already satisfied: annotated-types>=0.4.0 in c:\\users\\gyomb\\appdata\\local\\programs\\python\\python310\\lib\\site-packages (from pydantic!=1.8,!=1.8.1,!=2.0.0,!=2.0.1,!=2.1.0,<3.0.0,>=1.7.4->fastapi==0.104.1) (0.6.0)\n",
            "Requirement already satisfied: pydantic-core==2.14.5 in c:\\users\\gyomb\\appdata\\local\\programs\\python\\python310\\lib\\site-packages (from pydantic!=1.8,!=1.8.1,!=2.0.0,!=2.0.1,!=2.1.0,<3.0.0,>=1.7.4->fastapi==0.104.1) (2.14.5)\n",
            "Requirement already satisfied: charset-normalizer<4,>=2 in c:\\users\\gyomb\\appdata\\local\\programs\\python\\python310\\lib\\site-packages (from requests~=2.0->gradio==3.41.0) (2.0.12)\n",
            "Requirement already satisfied: urllib3<3,>=1.21.1 in c:\\users\\gyomb\\appdata\\local\\programs\\python\\python310\\lib\\site-packages (from requests~=2.0->gradio==3.41.0) (1.26.9)\n",
            "Requirement already satisfied: certifi>=2017.4.17 in c:\\users\\gyomb\\appdata\\local\\programs\\python\\python310\\lib\\site-packages (from requests~=2.0->gradio==3.41.0) (2021.10.8)\n",
            "Requirement already satisfied: click>=7.0 in c:\\users\\gyomb\\appdata\\local\\programs\\python\\python310\\lib\\site-packages (from uvicorn>=0.14.0->gradio==3.41.0) (8.1.7)\n",
            "Requirement already satisfied: h11>=0.8 in c:\\users\\gyomb\\appdata\\local\\programs\\python\\python310\\lib\\site-packages (from uvicorn>=0.14.0->gradio==3.41.0) (0.14.0)\n",
            "Requirement already satisfied: httpcore==1.* in c:\\users\\gyomb\\appdata\\local\\programs\\python\\python310\\lib\\site-packages (from httpx->gradio==3.41.0) (1.0.2)\n",
            "Requirement already satisfied: colorama in c:\\users\\gyomb\\appdata\\local\\programs\\python\\python310\\lib\\site-packages (from click>=7.0->uvicorn>=0.14.0->gradio==3.41.0) (0.4.5)\n",
            "Requirement already satisfied: attrs>=22.2.0 in c:\\users\\gyomb\\appdata\\local\\programs\\python\\python310\\lib\\site-packages (from jsonschema>=3.0->altair<6.0,>=4.2.0->gradio==3.41.0) (23.1.0)\n",
            "Requirement already satisfied: jsonschema-specifications>=2023.03.6 in c:\\users\\gyomb\\appdata\\local\\programs\\python\\python310\\lib\\site-packages (from jsonschema>=3.0->altair<6.0,>=4.2.0->gradio==3.41.0) (2023.7.1)\n",
            "Requirement already satisfied: referencing>=0.28.4 in c:\\users\\gyomb\\appdata\\local\\programs\\python\\python310\\lib\\site-packages (from jsonschema>=3.0->altair<6.0,>=4.2.0->gradio==3.41.0) (0.30.2)\n",
            "Requirement already satisfied: rpds-py>=0.7.1 in c:\\users\\gyomb\\appdata\\local\\programs\\python\\python310\\lib\\site-packages (from jsonschema>=3.0->altair<6.0,>=4.2.0->gradio==3.41.0) (0.10.6)\n",
            "Requirement already satisfied: six>=1.5 in c:\\users\\gyomb\\appdata\\local\\programs\\python\\python310\\lib\\site-packages (from python-dateutil>=2.7->matplotlib~=3.0->gradio==3.41.0) (1.16.0)\n"
          ]
        },
        {
          "ename": "AttributeError",
          "evalue": "'NoneType' object has no attribute 'replace'",
          "output_type": "error",
          "traceback": [
            "\u001b[1;31m---------------------------------------------------------------------------\u001b[0m",
            "\u001b[1;31mAttributeError\u001b[0m                            Traceback (most recent call last)",
            "Cell \u001b[1;32mIn [2], line 27\u001b[0m\n\u001b[0;32m     24\u001b[0m   \u001b[38;5;28;01mreturn\u001b[39;00m \u001b[38;5;124m'\u001b[39m\u001b[38;5;124mcu\u001b[39m\u001b[38;5;124m'\u001b[39m \u001b[38;5;241m+\u001b[39m version\u001b[38;5;241m.\u001b[39mreplace(\u001b[38;5;124m'\u001b[39m\u001b[38;5;124m.\u001b[39m\u001b[38;5;124m'\u001b[39m, \u001b[38;5;124m'\u001b[39m\u001b[38;5;124m'\u001b[39m)\n\u001b[0;32m     26\u001b[0m CUDA_version \u001b[38;5;241m=\u001b[39m torch\u001b[38;5;241m.\u001b[39mversion\u001b[38;5;241m.\u001b[39mcuda\n\u001b[1;32m---> 27\u001b[0m CUDA \u001b[38;5;241m=\u001b[39m \u001b[43mformat_cuda_version\u001b[49m\u001b[43m(\u001b[49m\u001b[43mCUDA_version\u001b[49m\u001b[43m)\u001b[49m\n\u001b[0;32m     29\u001b[0m get_ipython()\u001b[38;5;241m.\u001b[39msystem(\u001b[38;5;124m'\u001b[39m\u001b[38;5;124mpip install torch-scatter -f https://pytorch-geometric.com/whl/torch-\u001b[39m\u001b[38;5;132;01m{TORCH}\u001b[39;00m\u001b[38;5;124m+\u001b[39m\u001b[38;5;132;01m{CUDA}\u001b[39;00m\u001b[38;5;124m.html\u001b[39m\u001b[38;5;124m'\u001b[39m)\n\u001b[0;32m     30\u001b[0m get_ipython()\u001b[38;5;241m.\u001b[39msystem(\u001b[38;5;124m'\u001b[39m\u001b[38;5;124mpip install torch-sparse -f https://pytorch-geometric.com/whl/torch-\u001b[39m\u001b[38;5;132;01m{TORCH}\u001b[39;00m\u001b[38;5;124m+\u001b[39m\u001b[38;5;132;01m{CUDA}\u001b[39;00m\u001b[38;5;124m.html\u001b[39m\u001b[38;5;124m'\u001b[39m)\n",
            "Cell \u001b[1;32mIn [2], line 24\u001b[0m, in \u001b[0;36mformat_cuda_version\u001b[1;34m(version)\u001b[0m\n\u001b[0;32m     23\u001b[0m \u001b[38;5;28;01mdef\u001b[39;00m \u001b[38;5;21mformat_cuda_version\u001b[39m(version):\n\u001b[1;32m---> 24\u001b[0m   \u001b[38;5;28;01mreturn\u001b[39;00m \u001b[38;5;124m'\u001b[39m\u001b[38;5;124mcu\u001b[39m\u001b[38;5;124m'\u001b[39m \u001b[38;5;241m+\u001b[39m \u001b[43mversion\u001b[49m\u001b[38;5;241;43m.\u001b[39;49m\u001b[43mreplace\u001b[49m(\u001b[38;5;124m'\u001b[39m\u001b[38;5;124m.\u001b[39m\u001b[38;5;124m'\u001b[39m, \u001b[38;5;124m'\u001b[39m\u001b[38;5;124m'\u001b[39m)\n",
            "\u001b[1;31mAttributeError\u001b[0m: 'NoneType' object has no attribute 'replace'"
          ]
        }
      ],
      "source": [
        "!pip install fastapi==0.104.1 typing_extensions==4.8.0 gradio==3.41.0\n",
        "import gradio as gr\n",
        "\n",
        "import pandas as pd\n",
        "import numpy as np\n",
        "\n",
        "import networkx as nx\n",
        "\n",
        "from bokeh.plotting import show\n",
        "from bokeh.models import BoxSelectTool, Circle, EdgesAndLinkedNodes, HoverTool, ColumnDataSource, MultiLine, NodesAndLinkedEdges, Plot, Range1d, TapTool, PanTool, WheelZoomTool\n",
        "from bokeh.palettes import Spectral4\n",
        "from bokeh.plotting import from_networkx\n",
        "\n",
        "\n",
        "import torch\n",
        "\n",
        "def format_pytorch_version(version):\n",
        "  return version.split('+')[0]\n",
        "\n",
        "TORCH_version = torch.__version__\n",
        "TORCH = format_pytorch_version(TORCH_version)\n",
        "\n",
        "def format_cuda_version(version):\n",
        "  return 'cu' + version.replace('.', '')\n",
        "\n",
        "CUDA_version = torch.version.cuda\n",
        "CUDA = format_cuda_version(CUDA_version)\n",
        "\n",
        "!pip install torch-scatter -f https://pytorch-geometric.com/whl/torch-{TORCH}+{CUDA}.html\n",
        "!pip install torch-sparse -f https://pytorch-geometric.com/whl/torch-{TORCH}+{CUDA}.html\n",
        "!pip install torch-cluster -f https://pytorch-geometric.com/whl/torch-{TORCH}+{CUDA}.html\n",
        "!pip install torch-spline-conv -f https://pytorch-geometric.com/whl/torch-{TORCH}+{CUDA}.html\n",
        "!pip install pyg-lib -f https://pytorch-geometric.com/whl/torch-{TORCH}+{CUDA}.html\n",
        "!pip install torch-geometric\n",
        "\n",
        "import requests\n",
        "import pandas as pd\n",
        "import io\n",
        "import gzip\n",
        "import random\n",
        "from sklearn.metrics import roc_auc_score\n",
        "from sklearn.metrics import average_precision_score\n",
        "from torch_geometric.data import Data\n",
        "import networkx as nx\n",
        "import numpy as np\n",
        "import torch.nn as nn\n",
        "import torch.nn.functional as F\n",
        "from torch_geometric.nn.models import InnerProductDecoder, VGAE\n",
        "from torch_geometric.nn.conv import GCNConv\n",
        "from torch_geometric.utils import negative_sampling, remove_self_loops, add_self_loops\n",
        "import os\n",
        "from torch.optim import Adam\n",
        "import torch_geometric.transforms as T\n",
        "from torch_geometric.utils import train_test_split_edges\n",
        "from torch_geometric.nn.models import Node2Vec\n",
        "from torch_geometric.transforms import RandomLinkSplit\n",
        "\n",
        "%matplotlib inline\n",
        "import matplotlib.pyplot as plt\n",
        "from sklearn.metrics import roc_curve, roc_auc_score\n",
        "\n",
        "!pip install wandb\n",
        "import wandb"
      ]
    },
    {
      "cell_type": "markdown",
      "metadata": {
        "id": "d51CqgrSKAVk"
      },
      "source": [
        "## Data acquisition and analysis"
      ]
    },
    {
      "cell_type": "code",
      "execution_count": null,
      "metadata": {
        "id": "V-dQXwTXj_fG"
      },
      "outputs": [],
      "source": [
        "# Define the URL for the data\n",
        "url = \"https://snap.stanford.edu/data/facebook_combined.txt.gz\"\n",
        "\n",
        "# Send an HTTP GET request to the URL\n",
        "response = requests.get(url)\n",
        "\n",
        "# Check if the request was successful (status code 200)\n",
        "if response.status_code == 200:\n",
        "    # Extract the content from the response\n",
        "    content = response.content\n",
        "\n",
        "    # Decompress the content using gzip\n",
        "    with gzip.open(io.BytesIO(content), 'rt') as f:\n",
        "        # Read the data into a Pandas DataFrame\n",
        "        df = pd.read_csv(f, sep=\" \", header=None, names=[\"source\", \"target\"])\n",
        "\n",
        "else:\n",
        "    print(\"Failed to download the data. Status code:\", response.status_code)"
      ]
    },
    {
      "cell_type": "code",
      "execution_count": null,
      "metadata": {},
      "outputs": [],
      "source": [
        "def create_nx_graph_from_df(df):\n",
        "  G = nx.Graph()\n",
        "  nodes = np.unique(np.array(df.values).reshape(1,-1))\n",
        "  edges = df.values\n",
        "  G.add_nodes_from(nodes)\n",
        "  G.add_edges_from(edges)\n",
        "  return G"
      ]
    },
    {
      "cell_type": "code",
      "execution_count": null,
      "metadata": {},
      "outputs": [],
      "source": [
        "G = create_nx_graph_from_df(df)\n",
        "\n",
        "fig, (ax1, ax2) = plt.subplots(1, 2, figsize=(15, 5))\n",
        "\n",
        "# Plot degree distribution\n",
        "degree_centrality = nx.degree_centrality(G)\n",
        "ax1.hist(list(degree_centrality.values()), bins=100, alpha=0.75)\n",
        "ax1.set_title(\"Degree Centrality Distribution\")\n",
        "ax1.set_xlabel(\"Degree Centrality\")\n",
        "ax1.set_ylabel(\"Frequency\")\n",
        "\n",
        "# Plot clustering coefficient distribution\n",
        "clustering_coefficients = nx.clustering(G).values()\n",
        "ax2.hist(clustering_coefficients, bins=100, alpha=0.75)\n",
        "ax2.set_title(\"Clustering Coefficient Distribution\")\n",
        "ax2.set_xlabel(\"Clustering Coefficient\")\n",
        "ax2.set_ylabel(\"Frequency\")\n",
        "\n",
        "plt.tight_layout()\n",
        "plt.show()"
      ]
    },
    {
      "cell_type": "markdown",
      "metadata": {
        "id": "IWrkui_Qm-aq"
      },
      "source": [
        "## Data cleansing"
      ]
    },
    {
      "cell_type": "code",
      "execution_count": null,
      "metadata": {
        "id": "WMzsJvyRkAAL"
      },
      "outputs": [],
      "source": [
        "# Remove duplicate edges and self-edges\n",
        "condition = df['source'] > df['target']\n",
        "df.loc[condition, ['source', 'target']] = (df.loc[condition, ['target', 'source']].values)\n",
        "df = df.drop_duplicates()\n",
        "df = df[df['source'] != df['target']]"
      ]
    },
    {
      "cell_type": "markdown",
      "metadata": {
        "id": "9bHdCO5NfM-F"
      },
      "source": [
        "## Baseline Model"
      ]
    },
    {
      "cell_type": "code",
      "execution_count": null,
      "metadata": {
        "colab": {
          "base_uri": "https://localhost:8080/"
        },
        "id": "PDmmgqoNfP6y",
        "outputId": "32044be8-9804-454d-936d-7a19534a49b4"
      },
      "outputs": [
        {
          "name": "stderr",
          "output_type": "stream",
          "text": [
            "<ipython-input-15-ade907476353>:4: DeprecationWarning: Sampling from a set deprecated\n",
            "since Python 3.9 and will be removed in a subsequent version.\n",
            "  train_edges = random.sample(g.edges(), k = int(0.8 * g.number_of_edges()))\n"
          ]
        },
        {
          "name": "stdout",
          "output_type": "stream",
          "text": [
            "Baseline: Preferential Attachment ROC score:  0.8267615825846976\n",
            "Baseline: Preferential Attachment AP score:  0.8430094541217709\n"
          ]
        }
      ],
      "source": [
        "g = nx.from_pandas_edgelist(df)\n",
        "\n",
        "all_edges = g.edges()\n",
        "train_edges = random.sample(g.edges(), k = int(0.8 * g.number_of_edges()))\n",
        "test_edges = list(all_edges - train_edges)\n",
        "\n",
        "all_negative_edges = list(nx.non_edges(g))\n",
        "test_edges_false = random.sample(all_negative_edges, len(test_edges))\n",
        "\n",
        "g_train = g.copy()\n",
        "g_train.remove_edges_from(test_edges)\n",
        "\n",
        "# Compute Preferential Attachment values from g_train\n",
        "aa_matrix = np.zeros((g.number_of_nodes(), g.number_of_nodes()))\n",
        "for u, v, p in nx.preferential_attachment(g_train): # (u, v) = node indices, p = Preferential Attachment value\n",
        "  aa_matrix[u][v] = p\n",
        "  aa_matrix[v][u] = p # make sure it's symmetric\n",
        "\n",
        "# Normalize array\n",
        "aa_matrix = aa_matrix / aa_matrix.max()\n",
        "\n",
        "adj_sparse = nx.to_scipy_sparse_array(g)\n",
        "\n",
        "def get_baseline_roc_score(edges_pos, edges_neg, score_matrix):\n",
        "  # Store positive edge predictions, actual values\n",
        "  preds_pos = []\n",
        "  pos = []\n",
        "  for edge in edges_pos:\n",
        "    preds_pos.append(score_matrix[edge[0], edge[1]]) # predicted score\n",
        "    pos.append(adj_sparse[edge[0], edge[1]]) # actual value (1 for positive)\n",
        "\n",
        "  # Store negative edge predictions, actual values\n",
        "  preds_neg = []\n",
        "  neg = []\n",
        "  for edge in edges_neg:\n",
        "    preds_neg.append(score_matrix[edge[0], edge[1]]) # predicted score\n",
        "    neg.append(adj_sparse[edge[0], edge[1]]) # actual value (0 for negative)\n",
        "\n",
        "  # Calculate scores\n",
        "  preds_all = np.hstack([preds_pos, preds_neg])\n",
        "  labels_all = np.hstack([np.ones(len(preds_pos)), np.zeros(len(preds_neg))])\n",
        "  roc_score = roc_auc_score(labels_all, preds_all)\n",
        "  ap_score = average_precision_score(labels_all, preds_all)\n",
        "  return roc_score, ap_score\n",
        "\n",
        "# Calculate ROC AUC and Average Precision\n",
        "aa_roc, aa_ap = get_baseline_roc_score(test_edges, test_edges_false, aa_matrix)\n",
        "\n",
        "print('Baseline: Preferential Attachment ROC score: ', str(aa_roc))\n",
        "print('Baseline: Preferential Attachment AP score: ', str(aa_ap))"
      ]
    },
    {
      "cell_type": "markdown",
      "metadata": {
        "id": "Z3aEHuHLmrpX"
      },
      "source": [
        "## Model"
      ]
    },
    {
      "cell_type": "code",
      "execution_count": null,
      "metadata": {
        "id": "Fli6gQ5SmkJJ"
      },
      "outputs": [],
      "source": [
        "class GCNEncoder(nn.Module):\n",
        "  def __init__(self, in_channels, hidden_channels, out_channels):\n",
        "    super(GCNEncoder, self).__init__()\n",
        "    self.gcn_shared = GCNConv(in_channels, hidden_channels)\n",
        "    self.gcn_mu = GCNConv(hidden_channels, out_channels)\n",
        "    self.gcn_logvar = GCNConv(hidden_channels, out_channels)\n",
        "\n",
        "  def forward(self, x, edge_index):\n",
        "    x = F.relu(self.gcn_shared(x, edge_index))\n",
        "    mu = self.gcn_mu(x, edge_index)\n",
        "    logvar = self.gcn_logvar(x, edge_index)\n",
        "    return mu, logvar\n",
        "\n",
        "\n",
        "class DeepVGAE(VGAE):\n",
        "  def __init__(self, in_channels, hidden_channels, out_channels):\n",
        "    super(DeepVGAE, self).__init__(encoder = GCNEncoder(in_channels, hidden_channels, out_channels), decoder = InnerProductDecoder())\n",
        "\n",
        "  def forward(self, x, edge_index):\n",
        "    z = self.encode(x, edge_index)\n",
        "    adj_pred = self.decoder.forward_all(z)\n",
        "    return adj_pred\n",
        "\n",
        "  def loss(self, x, pos_edge_index, neg_edge_index):\n",
        "    z = self.encode(x, pos_edge_index)\n",
        "\n",
        "    pos_loss = -torch.log(self.decoder(z, pos_edge_index, sigmoid = True) + 1e-15).mean()\n",
        "    neg_loss = -torch.log(1 - self.decoder(z, neg_edge_index, sigmoid = True) + 1e-15).mean()\n",
        "\n",
        "    kl_loss = 1 / x.size(0) * self.kl_loss()\n",
        "\n",
        "    return pos_loss + neg_loss + kl_loss\n",
        "\n",
        "  def single_test(self, x, train_pos_edge_index, test_pos_edge_index, test_neg_edge_index):\n",
        "    with torch.no_grad():\n",
        "      z = self.encode(x, train_pos_edge_index)\n",
        "    roc_auc_score, average_precision_score = self.test(z, test_pos_edge_index, test_neg_edge_index)\n",
        "    return roc_auc_score, average_precision_score"
      ]
    },
    {
      "cell_type": "code",
      "execution_count": null,
      "metadata": {
        "id": "lc1ZqZV3LhSt"
      },
      "outputs": [],
      "source": [
        "torch.manual_seed(42)\n",
        "device = torch.device('cuda' if torch.cuda.is_available() else 'cpu')\n",
        "\n",
        "def create_input(config):\n",
        "  # Hyperparameters\n",
        "  learning_rate = config[\"learning_rate\"]\n",
        "  num_features = config[\"num_features\"]\n",
        "  num_epoch = config[\"num_epoch\"]\n",
        "  hidden_channels = config[\"hidden_channels\"]\n",
        "  out_channels = config[\"out_channels\"]\n",
        "  walk_length = config[\"walk_length\"]\n",
        "  context_size = config[\"context_size\"]\n",
        "  walks_per_node = config[\"walks_per_node\"]\n",
        "\n",
        "  edge_index = torch.tensor(df[['source', 'target']].values.T, dtype=torch.long)\n",
        "  num_nodes = len(np.unique(np.array(df.values).reshape(1,-1)))\n",
        "  train_n2v_model = Node2Vec(edge_index = edge_index, embedding_dim = num_features, walk_length = walk_length, context_size = context_size, walks_per_node = walks_per_node, sparse = True)\n",
        "  x = train_n2v_model.forward()\n",
        "\n",
        "  # split data before using node2vec\n",
        "  data = Data(edge_index = edge_index, num_nodes = num_nodes)\n",
        "  transform = RandomLinkSplit(is_undirected = True, neg_sampling_ratio = 1, num_test = 0.2, num_val = 0.1)\n",
        "  train_data, val_data, test_data = transform(data)\n",
        "\n",
        "  # use node2vec to create embeddings for train, test and val data seperately\n",
        "  train_positive_edges_mask = (train_data.edge_label == 1)\n",
        "  train_positive_edges = train_data.edge_index[:, train_positive_edges_mask]\n",
        "  train_data = Data(x = x, edge_index = train_positive_edges)\n",
        "  train_neg_edge_index = negative_sampling(train_data.edge_index, num_nodes = train_data.num_nodes, num_neg_samples = train_positive_edges.size(1))\n",
        "  train_data.pos_edge_index = train_data.edge_index\n",
        "  train_data.neg_edge_index = train_neg_edge_index\n",
        "  train_data.edge_index = torch.cat([train_data.pos_edge_index, train_data.neg_edge_index], dim=1)\n",
        "\n",
        "\n",
        "  test_positive_edges_mask = (test_data.edge_label == 1)\n",
        "  test_positive_edges = test_data.edge_label_index[:, test_positive_edges_mask]\n",
        "  test_data = Data(x = x, edge_index = test_positive_edges)\n",
        "  test_neg_edge_index = negative_sampling(test_data.edge_index, num_nodes = test_data.num_nodes, num_neg_samples = test_positive_edges.size(1))\n",
        "  test_data.pos_edge_index = test_data.edge_index\n",
        "  test_data.neg_edge_index = test_neg_edge_index\n",
        "  test_data.edge_index = torch.cat([test_data.pos_edge_index, test_data.neg_edge_index], dim=1)\n",
        "\n",
        "\n",
        "  val_positive_edges_mask = (val_data.edge_label == 1)\n",
        "  val_positive_edges = val_data.edge_label_index[:, val_positive_edges_mask]\n",
        "  val_data = Data(x = x, edge_index = val_positive_edges)\n",
        "  val_neg_edge_index = negative_sampling(val_data.edge_index, num_nodes = val_data.num_nodes, num_neg_samples = val_positive_edges.size(1))\n",
        "  val_data.pos_edge_index = val_data.edge_index\n",
        "  val_data.neg_edge_index = val_neg_edge_index\n",
        "  val_data.edge_index = torch.cat([val_data.pos_edge_index, val_data.neg_edge_index], dim=1)\n",
        "\n",
        "  return train_data, test_data, val_data\n",
        "\n",
        "def train_model(config, train_data, test_data, val_data, log_wandb):\n",
        "  learning_rate = config[\"learning_rate\"]\n",
        "  num_features = config[\"num_features\"]\n",
        "  num_epoch = config[\"num_epoch\"]\n",
        "  hidden_channels = config[\"hidden_channels\"]\n",
        "  out_channels = config[\"out_channels\"]\n",
        "  walk_length = config[\"walk_length\"]\n",
        "  context_size = config[\"context_size\"]\n",
        "  walks_per_node = config[\"walks_per_node\"]\n",
        "\n",
        "  model = DeepVGAE(num_features, hidden_channels, out_channels).to(device)\n",
        "  optimizer = Adam(model.parameters(), lr = learning_rate)\n",
        "\n",
        "  for epoch in range(num_epoch):\n",
        "    model.train()\n",
        "    optimizer.zero_grad()\n",
        "    val_loss = model.loss(val_data.x, val_data.pos_edge_index, val_data.neg_edge_index)\n",
        "    train_loss = model.loss(train_data.x, train_data.pos_edge_index, train_data.neg_edge_index)\n",
        "    train_loss.backward()\n",
        "    optimizer.step()\n",
        "    model.eval()\n",
        "    roc_auc, ap = model.single_test(train_data.x, train_data.pos_edge_index, test_data.pos_edge_index, test_data.neg_edge_index)\n",
        "\n",
        "    if(log_wandb == True):\n",
        "      wandb.log({\"Training Loss\" : train_loss, \"Validation Loss\" : val_loss, \"ROC / AUC\" : roc_auc, \"Precision\" : ap})\n",
        "\n",
        "  return model, roc_auc, ap\n",
        "\n",
        "def wandb_train_model():\n",
        "  wandb.init()\n",
        "\n",
        "  train_data, test_data, val_data = create_input(wandb.config)\n",
        "\n",
        "  train_data = train_data.to(device)\n",
        "  test_data = test_data.to(device)\n",
        "  val_data = val_data.to(device)\n",
        "\n",
        "  model, roc_auc, ap = train_model(wandb.config, train_data, test_data, val_data, True)"
      ]
    },
    {
      "cell_type": "markdown",
      "metadata": {
        "id": "gExs9AQ3KhbL"
      },
      "source": [
        "##  Training the model"
      ]
    },
    {
      "cell_type": "code",
      "execution_count": null,
      "metadata": {
        "colab": {
          "base_uri": "https://localhost:8080/",
          "height": 628,
          "referenced_widgets": [
            "ac2456632ee74a10bcce80ee34629038",
            "9ba9b0ce79f04ee89e451ab39d3353e9",
            "83eb0385f451492d852a0ed6e3e32dac",
            "3142aa0349c14eea81be930d288c0fff",
            "4b2d981dcc7e4f98831ba8bf022c7e24",
            "d2e8e2d1b6c0459e9a1fc81cf91d835b",
            "d036739e66a14e6bab48dfa5fffb3a0a",
            "2c598d4e4fd84c798dc7c6b26319ddc6"
          ]
        },
        "id": "HM-qQtcAnLKK",
        "outputId": "c07f0bcd-2d48-4daa-afcb-66f84adffbd9"
      },
      "outputs": [
        {
          "name": "stdout",
          "output_type": "stream",
          "text": [
            "Create sweep with ID: vd2ci63h\n",
            "Sweep URL: https://wandb.ai/szabolcsrikli/Deep%20Learning%20Homework/sweeps/vd2ci63h\n"
          ]
        },
        {
          "name": "stderr",
          "output_type": "stream",
          "text": [
            "\u001b[34m\u001b[1mwandb\u001b[0m: Agent Starting Run: v0tbanx9 with config:\n",
            "\u001b[34m\u001b[1mwandb\u001b[0m: \tcontext_size: 5\n",
            "\u001b[34m\u001b[1mwandb\u001b[0m: \thidden_channels: 28\n",
            "\u001b[34m\u001b[1mwandb\u001b[0m: \tlearning_rate: 0.072455359207828\n",
            "\u001b[34m\u001b[1mwandb\u001b[0m: \tnum_epoch: 185\n",
            "\u001b[34m\u001b[1mwandb\u001b[0m: \tnum_features: 103\n",
            "\u001b[34m\u001b[1mwandb\u001b[0m: \tout_channels: 7\n",
            "\u001b[34m\u001b[1mwandb\u001b[0m: \twalk_length: 53\n",
            "\u001b[34m\u001b[1mwandb\u001b[0m: \twalks_per_node: 6\n"
          ]
        },
        {
          "data": {
            "text/html": [
              "Tracking run with wandb version 0.16.1"
            ],
            "text/plain": [
              "<IPython.core.display.HTML object>"
            ]
          },
          "metadata": {},
          "output_type": "display_data"
        },
        {
          "data": {
            "text/html": [
              "Run data is saved locally in <code>/content/wandb/run-20231210_122251-v0tbanx9</code>"
            ],
            "text/plain": [
              "<IPython.core.display.HTML object>"
            ]
          },
          "metadata": {},
          "output_type": "display_data"
        },
        {
          "data": {
            "text/html": [
              "Syncing run <strong><a href='https://wandb.ai/szabolcsrikli/Deep%20Learning%20Homework/runs/v0tbanx9' target=\"_blank\">eager-sweep-1</a></strong> to <a href='https://wandb.ai/szabolcsrikli/Deep%20Learning%20Homework' target=\"_blank\">Weights & Biases</a> (<a href='https://wandb.me/run' target=\"_blank\">docs</a>)<br/>Sweep page: <a href='https://wandb.ai/szabolcsrikli/Deep%20Learning%20Homework/sweeps/vd2ci63h' target=\"_blank\">https://wandb.ai/szabolcsrikli/Deep%20Learning%20Homework/sweeps/vd2ci63h</a>"
            ],
            "text/plain": [
              "<IPython.core.display.HTML object>"
            ]
          },
          "metadata": {},
          "output_type": "display_data"
        },
        {
          "data": {
            "text/html": [
              " View project at <a href='https://wandb.ai/szabolcsrikli/Deep%20Learning%20Homework' target=\"_blank\">https://wandb.ai/szabolcsrikli/Deep%20Learning%20Homework</a>"
            ],
            "text/plain": [
              "<IPython.core.display.HTML object>"
            ]
          },
          "metadata": {},
          "output_type": "display_data"
        },
        {
          "data": {
            "text/html": [
              " View sweep at <a href='https://wandb.ai/szabolcsrikli/Deep%20Learning%20Homework/sweeps/vd2ci63h' target=\"_blank\">https://wandb.ai/szabolcsrikli/Deep%20Learning%20Homework/sweeps/vd2ci63h</a>"
            ],
            "text/plain": [
              "<IPython.core.display.HTML object>"
            ]
          },
          "metadata": {},
          "output_type": "display_data"
        },
        {
          "data": {
            "text/html": [
              " View run at <a href='https://wandb.ai/szabolcsrikli/Deep%20Learning%20Homework/runs/v0tbanx9' target=\"_blank\">https://wandb.ai/szabolcsrikli/Deep%20Learning%20Homework/runs/v0tbanx9</a>"
            ],
            "text/plain": [
              "<IPython.core.display.HTML object>"
            ]
          },
          "metadata": {},
          "output_type": "display_data"
        },
        {
          "data": {
            "application/vnd.jupyter.widget-view+json": {
              "model_id": "ac2456632ee74a10bcce80ee34629038",
              "version_major": 2,
              "version_minor": 0
            },
            "text/plain": [
              "VBox(children=(Label(value='0.010 MB of 0.011 MB uploaded\\r'), FloatProgress(value=0.898287758752875, max=1.0)…"
            ]
          },
          "metadata": {},
          "output_type": "display_data"
        },
        {
          "data": {
            "text/html": [
              "<style>\n",
              "    table.wandb td:nth-child(1) { padding: 0 10px; text-align: left ; width: auto;} td:nth-child(2) {text-align: left ; width: 100%}\n",
              "    .wandb-row { display: flex; flex-direction: row; flex-wrap: wrap; justify-content: flex-start; width: 100% }\n",
              "    .wandb-col { display: flex; flex-direction: column; flex-basis: 100%; flex: 1; padding: 10px; }\n",
              "    </style>\n",
              "<div class=\"wandb-row\"><div class=\"wandb-col\"><h3>Run history:</h3><br/><table class=\"wandb\"><tr><td>Precision</td><td>▂▁▁▃▅▅▆▆▆▇▇▇▇▇▇█████████████████████████</td></tr><tr><td>ROC / AUC</td><td>▂▁▃▄▅▅▆▆▇▇▇▇▇▇▇█████████████████████████</td></tr><tr><td>Training Loss</td><td>█▁▁▁▁▁▁▁▁▁▁▁▁▁▁▁▁▁▁▁▁▁▁▁▁▁▁▁▁▁▁▁▁▁▁▁▁▁▁▁</td></tr><tr><td>Validation Loss</td><td>█▂▂▃▃▂▁▁▂▂▁▁▁▁▁▁▁▁▁▁▁▁▁▁▁▁▁▁▁▁▁▁▁▁▁▁▁▁▁▁</td></tr></table><br/></div><div class=\"wandb-col\"><h3>Run summary:</h3><br/><table class=\"wandb\"><tr><td>Precision</td><td>0.95272</td></tr><tr><td>ROC / AUC</td><td>0.95733</td></tr><tr><td>Training Loss</td><td>0.84915</td></tr><tr><td>Validation Loss</td><td>1.79579</td></tr></table><br/></div></div>"
            ],
            "text/plain": [
              "<IPython.core.display.HTML object>"
            ]
          },
          "metadata": {},
          "output_type": "display_data"
        },
        {
          "data": {
            "text/html": [
              " View run <strong style=\"color:#cdcd00\">eager-sweep-1</strong> at: <a href='https://wandb.ai/szabolcsrikli/Deep%20Learning%20Homework/runs/v0tbanx9' target=\"_blank\">https://wandb.ai/szabolcsrikli/Deep%20Learning%20Homework/runs/v0tbanx9</a><br/>Synced 4 W&B file(s), 0 media file(s), 0 artifact file(s) and 0 other file(s)"
            ],
            "text/plain": [
              "<IPython.core.display.HTML object>"
            ]
          },
          "metadata": {},
          "output_type": "display_data"
        },
        {
          "data": {
            "text/html": [
              "Find logs at: <code>./wandb/run-20231210_122251-v0tbanx9/logs</code>"
            ],
            "text/plain": [
              "<IPython.core.display.HTML object>"
            ]
          },
          "metadata": {},
          "output_type": "display_data"
        },
        {
          "name": "stderr",
          "output_type": "stream",
          "text": [
            "\u001b[34m\u001b[1mwandb\u001b[0m: Sorting runs by +summary_metrics.Validation Loss\n"
          ]
        }
      ],
      "source": [
        "# Hyperparameter optimalization\n",
        "sweep_configuration = {\n",
        "  \"method\": \"bayes\",\n",
        "  \"name\": \"sweep\",\n",
        "  \"metric\": {\"goal\": \"minimize\", \"name\": \"Validation Loss\"},\n",
        "  \"parameters\": {\n",
        "    \"learning_rate\" : {\"max\" : 0.1, \"min\" : 0.0001},\n",
        "    \"num_features\" : {\"min\" : 2, \"max\" : 128},\n",
        "    \"num_epoch\" : {\"min\" : 25, \"max\" : 200},\n",
        "    \"hidden_channels\" : {\"min\" : 1, \"max\" : 64},\n",
        "    \"out_channels\" : {\"min\" : 1, \"max\" : 16},\n",
        "    \"walk_length\" : {\"min\" : 10, \"max\" : 100},\n",
        "    \"context_size\" : {\"min\" : 1, \"max\" : 10},\n",
        "    \"walks_per_node\" : {\"min\" : 1, \"max\" : 10},\n",
        "  },\n",
        "}\n",
        "\n",
        "#wandb.login()\n",
        "os.environ[\"WANDB_API_KEY\"] = \"858ab781cf5ec123e162cc8cfe304c1a096f76cb\"\n",
        "\n",
        "project = \"Deep Learning Homework\"\n",
        "sweep_id = wandb.sweep(sweep = sweep_configuration, project = project)\n",
        "count = 1\n",
        "wandb.agent(sweep_id, function = wandb_train_model, count = count)\n",
        "\n",
        "sweep = wandb.Api().sweep(f'{os.getenv(\"WANDB_ENTITY\")}/{project}/{sweep_id}')\n",
        "best_run = sweep.best_run()\n",
        "best_parameters = best_run.config\n",
        "\n",
        "wandb.finish()\n",
        "\n",
        "# Training a model with the best parameters\n",
        "train_data, test_data, val_data = create_input(best_parameters)\n",
        "train_data = train_data.to(device)\n",
        "test_data = test_data.to(device)\n",
        "val_data = val_data.to(device)\n",
        "model, roc_auc, ap = train_model(best_parameters, train_data, test_data, val_data, False)"
      ]
    },
    {
      "cell_type": "code",
      "execution_count": null,
      "metadata": {
        "colab": {
          "base_uri": "https://localhost:8080/"
        },
        "id": "XbkoNPhdAi_5",
        "outputId": "4bed98d4-56bd-47aa-c1a2-c475b7278805"
      },
      "outputs": [
        {
          "name": "stdout",
          "output_type": "stream",
          "text": [
            "0.9583468248300421 0.9539381822788823\n"
          ]
        }
      ],
      "source": [
        "print(roc_auc, ap)"
      ]
    },
    {
      "cell_type": "markdown",
      "metadata": {
        "id": "KvJQLTjhndlE"
      },
      "source": [
        "## Creating and cleansing output"
      ]
    },
    {
      "cell_type": "code",
      "execution_count": null,
      "metadata": {
        "id": "gMinnVb4oG7X"
      },
      "outputs": [],
      "source": [
        "# Predicting adjacency matrix containing edge probabilities\n",
        "final_edge_index = model.forward(test_data.x, test_data.edge_index)\n",
        "\n",
        "# Creating a pandas dataframe from the adjacency matrix\n",
        "pred_adj_mat = final_edge_index\n",
        "pred_adj_mat_numpy = pred_adj_mat.cpu().detach().numpy()\n",
        "G_pred = nx.from_numpy_array(pred_adj_mat_numpy)\n",
        "df_pred = nx.to_pandas_edgelist(G_pred)\n",
        "\n",
        "# Deleting duplicate edges and self-edges\n",
        "condition = df_pred['source'] > df_pred['target']\n",
        "df_pred.loc[condition, ['source', 'target']] = (df_pred.loc[condition, ['target', 'source']].values)\n",
        "df_pred = df_pred.drop_duplicates()\n",
        "df_pred = df_pred[df_pred['source'] != df_pred['target']]"
      ]
    },
    {
      "cell_type": "code",
      "execution_count": null,
      "metadata": {
        "id": "tgwKKpGTOQA6"
      },
      "outputs": [],
      "source": [
        "df_pred['weight'].hist(bins=100)"
      ]
    },
    {
      "cell_type": "code",
      "execution_count": null,
      "metadata": {
        "colab": {
          "base_uri": "https://localhost:8080/",
          "height": 616
        },
        "id": "T_Vz8nvX6mcG",
        "outputId": "c12291f0-6ba5-452a-922b-3fa0f7ada54b"
      },
      "outputs": [
        {
          "name": "stdout",
          "output_type": "stream",
          "text": [
            "Colab notebook detected. To show errors in colab notebook, set debug=True in launch()\n",
            "Note: opening Chrome Inspector may crash demo inside Colab notebooks.\n",
            "\n",
            "To create a public link, set `share=True` in `launch()`.\n"
          ]
        },
        {
          "data": {
            "application/javascript": "(async (port, path, width, height, cache, element) => {\n                        if (!google.colab.kernel.accessAllowed && !cache) {\n                            return;\n                        }\n                        element.appendChild(document.createTextNode(''));\n                        const url = await google.colab.kernel.proxyPort(port, {cache});\n\n                        const external_link = document.createElement('div');\n                        external_link.innerHTML = `\n                            <div style=\"font-family: monospace; margin-bottom: 0.5rem\">\n                                Running on <a href=${new URL(path, url).toString()} target=\"_blank\">\n                                    https://localhost:${port}${path}\n                                </a>\n                            </div>\n                        `;\n                        element.appendChild(external_link);\n\n                        const iframe = document.createElement('iframe');\n                        iframe.src = new URL(path, url).toString();\n                        iframe.height = height;\n                        iframe.allow = \"autoplay; camera; microphone; clipboard-read; clipboard-write;\"\n                        iframe.width = width;\n                        iframe.style.border = 0;\n                        element.appendChild(iframe);\n                    })(7861, \"/\", \"100%\", 500, false, window.element)",
            "text/plain": [
              "<IPython.core.display.Javascript object>"
            ]
          },
          "metadata": {},
          "output_type": "display_data"
        }
      ],
      "source": [
        "def update(node_name):\n",
        "  index = int(node_name)\n",
        "\n",
        "  # Retrieving edges of the node with name: index\n",
        "  condition = df_pred['source'] == index\n",
        "  predicted_edges = df_pred.loc[condition, df_pred.columns]\n",
        "  condition = df_pred['target'] == index\n",
        "  predicted_edges = pd.concat([predicted_edges, df_pred.loc[condition, df_pred.columns]])\n",
        "\n",
        "  # Sorting edges by probability\n",
        "  predicted_edges = predicted_edges.sort_values(by = ['weight'], ascending = False)\n",
        "\n",
        "  # Plot\n",
        "  fig = plt.figure()\n",
        "  ax = fig.add_axes([0.1, 0.1, 0.8, 0.8])\n",
        "  ax.hist(x = predicted_edges['weight'], bins = 100, density = True, range = [0.0, 1.0])\n",
        "  plt.grid(color = 'grey', linestyle='--', linewidth=0.5)\n",
        "  plt.title(\"Probability density of edges\")\n",
        "  plt.xlabel(\"x\")\n",
        "  plt.ylabel(\"Density\")\n",
        "\n",
        "  return predicted_edges.head(10), fig;\n",
        "\n",
        "# Displaying the styled dataframe in Gradio\n",
        "with gr.Blocks() as demo:\n",
        "  with gr.Row():\n",
        "    inp = gr.Textbox(placeholder = \"Which node's recommendations do you want to see?\")\n",
        "    out = gr.DataFrame()\n",
        "    out2 = gr.Plot()\n",
        "  btn = gr.Button(\"Run\")\n",
        "  btn.click(fn = update, inputs = [inp], outputs = [out, out2])\n",
        "\n",
        "if __name__ == \"__main__\":\n",
        "  demo.launch(show_api = False, share = True)"
      ]
    },
    {
      "cell_type": "code",
      "execution_count": null,
      "metadata": {},
      "outputs": [],
      "source": [
        "from sklearn.metrics import roc_curve, roc_auc_score\n",
        "\n",
        "model.eval()\n",
        "with torch.no_grad():\n",
        "  all_pos_edge_index = torch.cat([train_data.pos_edge_index, val_data.pos_edge_index], dim=1)\n",
        "  all_neg_edge_index = torch.cat([train_data.neg_edge_index, val_data.neg_edge_index], dim=1)\n",
        "\n",
        "all_pos_df = pd.DataFrame()\n",
        "all_pos_df['source'] = all_pos_edge_index[0]\n",
        "all_pos_df['target'] = all_pos_edge_index[1]\n",
        "all_pos_df['edge'] = 1\n",
        "\n",
        "all_neg_df = pd.DataFrame()\n",
        "all_neg_df['source'] = all_neg_edge_index[0]\n",
        "all_neg_df['target'] = all_neg_edge_index[1]\n",
        "all_neg_df['edge'] = 0\n",
        "\n",
        "df_all_edges = pd.concat([all_pos_df, all_neg_df], ignore_index=True)\n",
        "\n",
        "condition = df_all_edges['source'] > df_all_edges['target']\n",
        "df_all_edges.loc[condition, ['source', 'target']] = (df_all_edges.loc[condition, ['target', 'source']].values)\n",
        "df_all_edges = df_all_edges.drop_duplicates()\n",
        "df_all_edges = df_all_edges[df_all_edges['source'] != df_all_edges['target']]\n",
        "\n",
        "df_pred['source'] = df_pred['source'].astype(int)\n",
        "df_pred['target'] = df_pred['target'].astype(int)\n",
        "\n",
        "merged_df = pd.merge(df_all_edges, df_pred, on=['source', 'target'], how='left', indicator=True)\n",
        "# Create a new column based on the merge results\n",
        "merged_df['both'] = merged_df['_merge'] == 'both'\n",
        "merged_df.drop('_merge', axis=1, inplace=True)\n",
        "merged_df = merged_df.loc[merged_df['both']==True]\n",
        "\n",
        "pred = merged_df['weight']\n",
        "all_labels = merged_df['edge']\n",
        "fpr, tpr, _ = roc_curve(all_labels, pred)\n",
        "\n",
        "roc_auc = roc_auc_score(all_labels, pred)\n",
        "\n",
        "# Plot ROC curve\n",
        "plt.figure(figsize=(8, 8))\n",
        "plt.plot(fpr, tpr, color='darkorange', lw=2, label=f'ROC Curve (AUC = {roc_auc:.2f})')\n",
        "plt.plot([0, 1], [0, 1], color='navy', lw=2, linestyle='--', label='Random')\n",
        "plt.xlabel('False Positive Rate')\n",
        "plt.ylabel('True Positive Rate')\n",
        "plt.title('Receiver Operating Characteristic (ROC) Curve')\n",
        "plt.legend(loc='lower right')\n",
        "plt.show()"
      ]
    }
  ],
  "metadata": {
    "accelerator": "GPU",
    "colab": {
      "collapsed_sections": [
        "9bHdCO5NfM-F"
      ],
      "gpuType": "T4",
      "provenance": []
    },
    "kernelspec": {
      "display_name": "Python 3",
      "name": "python3"
    },
    "language_info": {
      "codemirror_mode": {
        "name": "ipython",
        "version": 3
      },
      "file_extension": ".py",
      "mimetype": "text/x-python",
      "name": "python",
      "nbconvert_exporter": "python",
      "pygments_lexer": "ipython3",
      "version": "3.10.8"
    },
    "widgets": {
      "application/vnd.jupyter.widget-state+json": {
        "2c598d4e4fd84c798dc7c6b26319ddc6": {
          "model_module": "@jupyter-widgets/controls",
          "model_module_version": "1.5.0",
          "model_name": "ProgressStyleModel",
          "state": {
            "_model_module": "@jupyter-widgets/controls",
            "_model_module_version": "1.5.0",
            "_model_name": "ProgressStyleModel",
            "_view_count": null,
            "_view_module": "@jupyter-widgets/base",
            "_view_module_version": "1.2.0",
            "_view_name": "StyleView",
            "bar_color": null,
            "description_width": ""
          }
        },
        "3142aa0349c14eea81be930d288c0fff": {
          "model_module": "@jupyter-widgets/base",
          "model_module_version": "1.2.0",
          "model_name": "LayoutModel",
          "state": {
            "_model_module": "@jupyter-widgets/base",
            "_model_module_version": "1.2.0",
            "_model_name": "LayoutModel",
            "_view_count": null,
            "_view_module": "@jupyter-widgets/base",
            "_view_module_version": "1.2.0",
            "_view_name": "LayoutView",
            "align_content": null,
            "align_items": null,
            "align_self": null,
            "border": null,
            "bottom": null,
            "display": null,
            "flex": null,
            "flex_flow": null,
            "grid_area": null,
            "grid_auto_columns": null,
            "grid_auto_flow": null,
            "grid_auto_rows": null,
            "grid_column": null,
            "grid_gap": null,
            "grid_row": null,
            "grid_template_areas": null,
            "grid_template_columns": null,
            "grid_template_rows": null,
            "height": null,
            "justify_content": null,
            "justify_items": null,
            "left": null,
            "margin": null,
            "max_height": null,
            "max_width": null,
            "min_height": null,
            "min_width": null,
            "object_fit": null,
            "object_position": null,
            "order": null,
            "overflow": null,
            "overflow_x": null,
            "overflow_y": null,
            "padding": null,
            "right": null,
            "top": null,
            "visibility": null,
            "width": null
          }
        },
        "4b2d981dcc7e4f98831ba8bf022c7e24": {
          "model_module": "@jupyter-widgets/base",
          "model_module_version": "1.2.0",
          "model_name": "LayoutModel",
          "state": {
            "_model_module": "@jupyter-widgets/base",
            "_model_module_version": "1.2.0",
            "_model_name": "LayoutModel",
            "_view_count": null,
            "_view_module": "@jupyter-widgets/base",
            "_view_module_version": "1.2.0",
            "_view_name": "LayoutView",
            "align_content": null,
            "align_items": null,
            "align_self": null,
            "border": null,
            "bottom": null,
            "display": null,
            "flex": null,
            "flex_flow": null,
            "grid_area": null,
            "grid_auto_columns": null,
            "grid_auto_flow": null,
            "grid_auto_rows": null,
            "grid_column": null,
            "grid_gap": null,
            "grid_row": null,
            "grid_template_areas": null,
            "grid_template_columns": null,
            "grid_template_rows": null,
            "height": null,
            "justify_content": null,
            "justify_items": null,
            "left": null,
            "margin": null,
            "max_height": null,
            "max_width": null,
            "min_height": null,
            "min_width": null,
            "object_fit": null,
            "object_position": null,
            "order": null,
            "overflow": null,
            "overflow_x": null,
            "overflow_y": null,
            "padding": null,
            "right": null,
            "top": null,
            "visibility": null,
            "width": null
          }
        },
        "83eb0385f451492d852a0ed6e3e32dac": {
          "model_module": "@jupyter-widgets/controls",
          "model_module_version": "1.5.0",
          "model_name": "FloatProgressModel",
          "state": {
            "_dom_classes": [],
            "_model_module": "@jupyter-widgets/controls",
            "_model_module_version": "1.5.0",
            "_model_name": "FloatProgressModel",
            "_view_count": null,
            "_view_module": "@jupyter-widgets/controls",
            "_view_module_version": "1.5.0",
            "_view_name": "ProgressView",
            "bar_style": "",
            "description": "",
            "description_tooltip": null,
            "layout": "IPY_MODEL_d036739e66a14e6bab48dfa5fffb3a0a",
            "max": 1,
            "min": 0,
            "orientation": "horizontal",
            "style": "IPY_MODEL_2c598d4e4fd84c798dc7c6b26319ddc6",
            "value": 1
          }
        },
        "9ba9b0ce79f04ee89e451ab39d3353e9": {
          "model_module": "@jupyter-widgets/controls",
          "model_module_version": "1.5.0",
          "model_name": "LabelModel",
          "state": {
            "_dom_classes": [],
            "_model_module": "@jupyter-widgets/controls",
            "_model_module_version": "1.5.0",
            "_model_name": "LabelModel",
            "_view_count": null,
            "_view_module": "@jupyter-widgets/controls",
            "_view_module_version": "1.5.0",
            "_view_name": "LabelView",
            "description": "",
            "description_tooltip": null,
            "layout": "IPY_MODEL_4b2d981dcc7e4f98831ba8bf022c7e24",
            "placeholder": "​",
            "style": "IPY_MODEL_d2e8e2d1b6c0459e9a1fc81cf91d835b",
            "value": "0.011 MB of 0.011 MB uploaded\r"
          }
        },
        "ac2456632ee74a10bcce80ee34629038": {
          "model_module": "@jupyter-widgets/controls",
          "model_module_version": "1.5.0",
          "model_name": "VBoxModel",
          "state": {
            "_dom_classes": [],
            "_model_module": "@jupyter-widgets/controls",
            "_model_module_version": "1.5.0",
            "_model_name": "VBoxModel",
            "_view_count": null,
            "_view_module": "@jupyter-widgets/controls",
            "_view_module_version": "1.5.0",
            "_view_name": "VBoxView",
            "box_style": "",
            "children": [
              "IPY_MODEL_9ba9b0ce79f04ee89e451ab39d3353e9",
              "IPY_MODEL_83eb0385f451492d852a0ed6e3e32dac"
            ],
            "layout": "IPY_MODEL_3142aa0349c14eea81be930d288c0fff"
          }
        },
        "d036739e66a14e6bab48dfa5fffb3a0a": {
          "model_module": "@jupyter-widgets/base",
          "model_module_version": "1.2.0",
          "model_name": "LayoutModel",
          "state": {
            "_model_module": "@jupyter-widgets/base",
            "_model_module_version": "1.2.0",
            "_model_name": "LayoutModel",
            "_view_count": null,
            "_view_module": "@jupyter-widgets/base",
            "_view_module_version": "1.2.0",
            "_view_name": "LayoutView",
            "align_content": null,
            "align_items": null,
            "align_self": null,
            "border": null,
            "bottom": null,
            "display": null,
            "flex": null,
            "flex_flow": null,
            "grid_area": null,
            "grid_auto_columns": null,
            "grid_auto_flow": null,
            "grid_auto_rows": null,
            "grid_column": null,
            "grid_gap": null,
            "grid_row": null,
            "grid_template_areas": null,
            "grid_template_columns": null,
            "grid_template_rows": null,
            "height": null,
            "justify_content": null,
            "justify_items": null,
            "left": null,
            "margin": null,
            "max_height": null,
            "max_width": null,
            "min_height": null,
            "min_width": null,
            "object_fit": null,
            "object_position": null,
            "order": null,
            "overflow": null,
            "overflow_x": null,
            "overflow_y": null,
            "padding": null,
            "right": null,
            "top": null,
            "visibility": null,
            "width": null
          }
        },
        "d2e8e2d1b6c0459e9a1fc81cf91d835b": {
          "model_module": "@jupyter-widgets/controls",
          "model_module_version": "1.5.0",
          "model_name": "DescriptionStyleModel",
          "state": {
            "_model_module": "@jupyter-widgets/controls",
            "_model_module_version": "1.5.0",
            "_model_name": "DescriptionStyleModel",
            "_view_count": null,
            "_view_module": "@jupyter-widgets/base",
            "_view_module_version": "1.2.0",
            "_view_name": "StyleView",
            "description_width": ""
          }
        }
      }
    }
  },
  "nbformat": 4,
  "nbformat_minor": 0
}
