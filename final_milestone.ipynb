{
  "cells": [
    {
      "cell_type": "markdown",
      "metadata": {
        "id": "r7IsFFBOIIkc"
      },
      "source": [
        "# **Friend recommendation**"
      ]
    },
    {
      "cell_type": "markdown",
      "metadata": {
        "id": "yqieVsJAJqyr"
      },
      "source": [
        "Related materials:\n",
        "\n",
        "* https://snap.stanford.edu/data/ego-Facebook.html\n",
        "* https://snap.stanford.edu/data/ego-Gplus.html\n",
        "* https://snap.stanford.edu/data/ego-Twitter.html\n",
        "* https://github.com/aditya-grover/node2vec\n",
        "* https://github.com/pyg-team/pytorch_geometric\n",
        "* https://arxiv.org/abs/1607.00653 -> https://arxiv.org/pdf/1607.00653.pdf\n",
        "* https://arxiv.org/abs/1611.07308 -> https://arxiv.org/pdf/1611.07308.pdf\n"
      ]
    },
    {
      "cell_type": "markdown",
      "metadata": {
        "id": "595V_NfZI0Ua"
      },
      "source": [
        "## Imports"
      ]
    },
    {
      "cell_type": "code",
      "execution_count": 12,
      "metadata": {
        "colab": {
          "base_uri": "https://localhost:8080/"
        },
        "id": "hpImoLglOj4R",
        "outputId": "356858ad-761e-4ecc-aceb-6c841b8f602e"
      },
      "outputs": [
        {
          "output_type": "stream",
          "name": "stdout",
          "text": [
            "Requirement already satisfied: fastapi==0.104.1 in /usr/local/lib/python3.10/dist-packages (0.104.1)\n",
            "Requirement already satisfied: typing_extensions==4.8.0 in /usr/local/lib/python3.10/dist-packages (4.8.0)\n",
            "Requirement already satisfied: gradio==3.41.0 in /usr/local/lib/python3.10/dist-packages (3.41.0)\n",
            "Requirement already satisfied: anyio<4.0.0,>=3.7.1 in /usr/local/lib/python3.10/dist-packages (from fastapi==0.104.1) (3.7.1)\n",
            "Requirement already satisfied: pydantic!=1.8,!=1.8.1,!=2.0.0,!=2.0.1,!=2.1.0,<3.0.0,>=1.7.4 in /usr/local/lib/python3.10/dist-packages (from fastapi==0.104.1) (1.10.13)\n",
            "Requirement already satisfied: starlette<0.28.0,>=0.27.0 in /usr/local/lib/python3.10/dist-packages (from fastapi==0.104.1) (0.27.0)\n",
            "Requirement already satisfied: aiofiles<24.0,>=22.0 in /usr/local/lib/python3.10/dist-packages (from gradio==3.41.0) (23.2.1)\n",
            "Requirement already satisfied: altair<6.0,>=4.2.0 in /usr/local/lib/python3.10/dist-packages (from gradio==3.41.0) (4.2.2)\n",
            "Requirement already satisfied: ffmpy in /usr/local/lib/python3.10/dist-packages (from gradio==3.41.0) (0.3.1)\n",
            "Requirement already satisfied: gradio-client==0.5.0 in /usr/local/lib/python3.10/dist-packages (from gradio==3.41.0) (0.5.0)\n",
            "Requirement already satisfied: httpx in /usr/local/lib/python3.10/dist-packages (from gradio==3.41.0) (0.25.2)\n",
            "Requirement already satisfied: huggingface-hub>=0.14.0 in /usr/local/lib/python3.10/dist-packages (from gradio==3.41.0) (0.19.4)\n",
            "Requirement already satisfied: importlib-resources<7.0,>=1.3 in /usr/local/lib/python3.10/dist-packages (from gradio==3.41.0) (6.1.1)\n",
            "Requirement already satisfied: jinja2<4.0 in /usr/local/lib/python3.10/dist-packages (from gradio==3.41.0) (3.1.2)\n",
            "Requirement already satisfied: markupsafe~=2.0 in /usr/local/lib/python3.10/dist-packages (from gradio==3.41.0) (2.1.3)\n",
            "Requirement already satisfied: matplotlib~=3.0 in /usr/local/lib/python3.10/dist-packages (from gradio==3.41.0) (3.7.1)\n",
            "Requirement already satisfied: numpy~=1.0 in /usr/local/lib/python3.10/dist-packages (from gradio==3.41.0) (1.23.5)\n",
            "Requirement already satisfied: orjson~=3.0 in /usr/local/lib/python3.10/dist-packages (from gradio==3.41.0) (3.9.10)\n",
            "Requirement already satisfied: packaging in /usr/local/lib/python3.10/dist-packages (from gradio==3.41.0) (23.2)\n",
            "Requirement already satisfied: pandas<3.0,>=1.0 in /usr/local/lib/python3.10/dist-packages (from gradio==3.41.0) (1.5.3)\n",
            "Requirement already satisfied: pillow<11.0,>=8.0 in /usr/local/lib/python3.10/dist-packages (from gradio==3.41.0) (9.4.0)\n",
            "Requirement already satisfied: pydub in /usr/local/lib/python3.10/dist-packages (from gradio==3.41.0) (0.25.1)\n",
            "Requirement already satisfied: python-multipart in /usr/local/lib/python3.10/dist-packages (from gradio==3.41.0) (0.0.6)\n",
            "Requirement already satisfied: pyyaml<7.0,>=5.0 in /usr/local/lib/python3.10/dist-packages (from gradio==3.41.0) (6.0.1)\n",
            "Requirement already satisfied: requests~=2.0 in /usr/local/lib/python3.10/dist-packages (from gradio==3.41.0) (2.31.0)\n",
            "Requirement already satisfied: semantic-version~=2.0 in /usr/local/lib/python3.10/dist-packages (from gradio==3.41.0) (2.10.0)\n",
            "Requirement already satisfied: uvicorn>=0.14.0 in /usr/local/lib/python3.10/dist-packages (from gradio==3.41.0) (0.24.0.post1)\n",
            "Requirement already satisfied: websockets<12.0,>=10.0 in /usr/local/lib/python3.10/dist-packages (from gradio==3.41.0) (11.0.3)\n",
            "Requirement already satisfied: fsspec in /usr/local/lib/python3.10/dist-packages (from gradio-client==0.5.0->gradio==3.41.0) (2023.6.0)\n",
            "Requirement already satisfied: entrypoints in /usr/local/lib/python3.10/dist-packages (from altair<6.0,>=4.2.0->gradio==3.41.0) (0.4)\n",
            "Requirement already satisfied: jsonschema>=3.0 in /usr/local/lib/python3.10/dist-packages (from altair<6.0,>=4.2.0->gradio==3.41.0) (4.19.2)\n",
            "Requirement already satisfied: toolz in /usr/local/lib/python3.10/dist-packages (from altair<6.0,>=4.2.0->gradio==3.41.0) (0.12.0)\n",
            "Requirement already satisfied: idna>=2.8 in /usr/local/lib/python3.10/dist-packages (from anyio<4.0.0,>=3.7.1->fastapi==0.104.1) (3.6)\n",
            "Requirement already satisfied: sniffio>=1.1 in /usr/local/lib/python3.10/dist-packages (from anyio<4.0.0,>=3.7.1->fastapi==0.104.1) (1.3.0)\n",
            "Requirement already satisfied: exceptiongroup in /usr/local/lib/python3.10/dist-packages (from anyio<4.0.0,>=3.7.1->fastapi==0.104.1) (1.2.0)\n",
            "Requirement already satisfied: filelock in /usr/local/lib/python3.10/dist-packages (from huggingface-hub>=0.14.0->gradio==3.41.0) (3.13.1)\n",
            "Requirement already satisfied: tqdm>=4.42.1 in /usr/local/lib/python3.10/dist-packages (from huggingface-hub>=0.14.0->gradio==3.41.0) (4.66.1)\n",
            "Requirement already satisfied: contourpy>=1.0.1 in /usr/local/lib/python3.10/dist-packages (from matplotlib~=3.0->gradio==3.41.0) (1.2.0)\n",
            "Requirement already satisfied: cycler>=0.10 in /usr/local/lib/python3.10/dist-packages (from matplotlib~=3.0->gradio==3.41.0) (0.12.1)\n",
            "Requirement already satisfied: fonttools>=4.22.0 in /usr/local/lib/python3.10/dist-packages (from matplotlib~=3.0->gradio==3.41.0) (4.45.1)\n",
            "Requirement already satisfied: kiwisolver>=1.0.1 in /usr/local/lib/python3.10/dist-packages (from matplotlib~=3.0->gradio==3.41.0) (1.4.5)\n",
            "Requirement already satisfied: pyparsing>=2.3.1 in /usr/local/lib/python3.10/dist-packages (from matplotlib~=3.0->gradio==3.41.0) (3.1.1)\n",
            "Requirement already satisfied: python-dateutil>=2.7 in /usr/local/lib/python3.10/dist-packages (from matplotlib~=3.0->gradio==3.41.0) (2.8.2)\n",
            "Requirement already satisfied: pytz>=2020.1 in /usr/local/lib/python3.10/dist-packages (from pandas<3.0,>=1.0->gradio==3.41.0) (2023.3.post1)\n",
            "Requirement already satisfied: charset-normalizer<4,>=2 in /usr/local/lib/python3.10/dist-packages (from requests~=2.0->gradio==3.41.0) (3.3.2)\n",
            "Requirement already satisfied: urllib3<3,>=1.21.1 in /usr/local/lib/python3.10/dist-packages (from requests~=2.0->gradio==3.41.0) (2.0.7)\n",
            "Requirement already satisfied: certifi>=2017.4.17 in /usr/local/lib/python3.10/dist-packages (from requests~=2.0->gradio==3.41.0) (2023.11.17)\n",
            "Requirement already satisfied: click>=7.0 in /usr/local/lib/python3.10/dist-packages (from uvicorn>=0.14.0->gradio==3.41.0) (8.1.7)\n",
            "Requirement already satisfied: h11>=0.8 in /usr/local/lib/python3.10/dist-packages (from uvicorn>=0.14.0->gradio==3.41.0) (0.14.0)\n",
            "Requirement already satisfied: httpcore==1.* in /usr/local/lib/python3.10/dist-packages (from httpx->gradio==3.41.0) (1.0.2)\n",
            "Requirement already satisfied: attrs>=22.2.0 in /usr/local/lib/python3.10/dist-packages (from jsonschema>=3.0->altair<6.0,>=4.2.0->gradio==3.41.0) (23.1.0)\n",
            "Requirement already satisfied: jsonschema-specifications>=2023.03.6 in /usr/local/lib/python3.10/dist-packages (from jsonschema>=3.0->altair<6.0,>=4.2.0->gradio==3.41.0) (2023.11.2)\n",
            "Requirement already satisfied: referencing>=0.28.4 in /usr/local/lib/python3.10/dist-packages (from jsonschema>=3.0->altair<6.0,>=4.2.0->gradio==3.41.0) (0.31.1)\n",
            "Requirement already satisfied: rpds-py>=0.7.1 in /usr/local/lib/python3.10/dist-packages (from jsonschema>=3.0->altair<6.0,>=4.2.0->gradio==3.41.0) (0.13.2)\n",
            "Requirement already satisfied: six>=1.5 in /usr/local/lib/python3.10/dist-packages (from python-dateutil>=2.7->matplotlib~=3.0->gradio==3.41.0) (1.16.0)\n",
            "Looking in links: https://pytorch-geometric.com/whl/torch-2.1.0+cu118.html\n",
            "Requirement already satisfied: torch-scatter in /usr/local/lib/python3.10/dist-packages (2.1.2+pt21cu118)\n",
            "Looking in links: https://pytorch-geometric.com/whl/torch-2.1.0+cu118.html\n",
            "Requirement already satisfied: torch-sparse in /usr/local/lib/python3.10/dist-packages (0.6.18+pt21cu118)\n",
            "Requirement already satisfied: scipy in /usr/local/lib/python3.10/dist-packages (from torch-sparse) (1.11.4)\n",
            "Requirement already satisfied: numpy<1.28.0,>=1.21.6 in /usr/local/lib/python3.10/dist-packages (from scipy->torch-sparse) (1.23.5)\n",
            "Looking in links: https://pytorch-geometric.com/whl/torch-2.1.0+cu118.html\n",
            "Requirement already satisfied: torch-cluster in /usr/local/lib/python3.10/dist-packages (1.6.3+pt21cu118)\n",
            "Requirement already satisfied: scipy in /usr/local/lib/python3.10/dist-packages (from torch-cluster) (1.11.4)\n",
            "Requirement already satisfied: numpy<1.28.0,>=1.21.6 in /usr/local/lib/python3.10/dist-packages (from scipy->torch-cluster) (1.23.5)\n",
            "Looking in links: https://pytorch-geometric.com/whl/torch-2.1.0+cu118.html\n",
            "Requirement already satisfied: torch-spline-conv in /usr/local/lib/python3.10/dist-packages (1.2.2+pt21cu118)\n",
            "Looking in links: https://pytorch-geometric.com/whl/torch-2.1.0+cu118.html\n",
            "Requirement already satisfied: pyg-lib in /usr/local/lib/python3.10/dist-packages (0.3.1+pt21cu118)\n",
            "Requirement already satisfied: torch-geometric in /usr/local/lib/python3.10/dist-packages (2.4.0)\n",
            "Requirement already satisfied: tqdm in /usr/local/lib/python3.10/dist-packages (from torch-geometric) (4.66.1)\n",
            "Requirement already satisfied: numpy in /usr/local/lib/python3.10/dist-packages (from torch-geometric) (1.23.5)\n",
            "Requirement already satisfied: scipy in /usr/local/lib/python3.10/dist-packages (from torch-geometric) (1.11.4)\n",
            "Requirement already satisfied: jinja2 in /usr/local/lib/python3.10/dist-packages (from torch-geometric) (3.1.2)\n",
            "Requirement already satisfied: requests in /usr/local/lib/python3.10/dist-packages (from torch-geometric) (2.31.0)\n",
            "Requirement already satisfied: pyparsing in /usr/local/lib/python3.10/dist-packages (from torch-geometric) (3.1.1)\n",
            "Requirement already satisfied: scikit-learn in /usr/local/lib/python3.10/dist-packages (from torch-geometric) (1.2.2)\n",
            "Requirement already satisfied: psutil>=5.8.0 in /usr/local/lib/python3.10/dist-packages (from torch-geometric) (5.9.5)\n",
            "Requirement already satisfied: MarkupSafe>=2.0 in /usr/local/lib/python3.10/dist-packages (from jinja2->torch-geometric) (2.1.3)\n",
            "Requirement already satisfied: charset-normalizer<4,>=2 in /usr/local/lib/python3.10/dist-packages (from requests->torch-geometric) (3.3.2)\n",
            "Requirement already satisfied: idna<4,>=2.5 in /usr/local/lib/python3.10/dist-packages (from requests->torch-geometric) (3.6)\n",
            "Requirement already satisfied: urllib3<3,>=1.21.1 in /usr/local/lib/python3.10/dist-packages (from requests->torch-geometric) (2.0.7)\n",
            "Requirement already satisfied: certifi>=2017.4.17 in /usr/local/lib/python3.10/dist-packages (from requests->torch-geometric) (2023.11.17)\n",
            "Requirement already satisfied: joblib>=1.1.1 in /usr/local/lib/python3.10/dist-packages (from scikit-learn->torch-geometric) (1.3.2)\n",
            "Requirement already satisfied: threadpoolctl>=2.0.0 in /usr/local/lib/python3.10/dist-packages (from scikit-learn->torch-geometric) (3.2.0)\n",
            "Requirement already satisfied: wandb in /usr/local/lib/python3.10/dist-packages (0.16.1)\n",
            "Requirement already satisfied: Click!=8.0.0,>=7.1 in /usr/local/lib/python3.10/dist-packages (from wandb) (8.1.7)\n",
            "Requirement already satisfied: GitPython!=3.1.29,>=1.0.0 in /usr/local/lib/python3.10/dist-packages (from wandb) (3.1.40)\n",
            "Requirement already satisfied: requests<3,>=2.0.0 in /usr/local/lib/python3.10/dist-packages (from wandb) (2.31.0)\n",
            "Requirement already satisfied: psutil>=5.0.0 in /usr/local/lib/python3.10/dist-packages (from wandb) (5.9.5)\n",
            "Requirement already satisfied: sentry-sdk>=1.0.0 in /usr/local/lib/python3.10/dist-packages (from wandb) (1.38.0)\n",
            "Requirement already satisfied: docker-pycreds>=0.4.0 in /usr/local/lib/python3.10/dist-packages (from wandb) (0.4.0)\n",
            "Requirement already satisfied: PyYAML in /usr/local/lib/python3.10/dist-packages (from wandb) (6.0.1)\n",
            "Requirement already satisfied: setproctitle in /usr/local/lib/python3.10/dist-packages (from wandb) (1.3.3)\n",
            "Requirement already satisfied: setuptools in /usr/local/lib/python3.10/dist-packages (from wandb) (67.7.2)\n",
            "Requirement already satisfied: appdirs>=1.4.3 in /usr/local/lib/python3.10/dist-packages (from wandb) (1.4.4)\n",
            "Requirement already satisfied: protobuf!=4.21.0,<5,>=3.19.0 in /usr/local/lib/python3.10/dist-packages (from wandb) (3.20.3)\n",
            "Requirement already satisfied: six>=1.4.0 in /usr/local/lib/python3.10/dist-packages (from docker-pycreds>=0.4.0->wandb) (1.16.0)\n",
            "Requirement already satisfied: gitdb<5,>=4.0.1 in /usr/local/lib/python3.10/dist-packages (from GitPython!=3.1.29,>=1.0.0->wandb) (4.0.11)\n",
            "Requirement already satisfied: charset-normalizer<4,>=2 in /usr/local/lib/python3.10/dist-packages (from requests<3,>=2.0.0->wandb) (3.3.2)\n",
            "Requirement already satisfied: idna<4,>=2.5 in /usr/local/lib/python3.10/dist-packages (from requests<3,>=2.0.0->wandb) (3.6)\n",
            "Requirement already satisfied: urllib3<3,>=1.21.1 in /usr/local/lib/python3.10/dist-packages (from requests<3,>=2.0.0->wandb) (2.0.7)\n",
            "Requirement already satisfied: certifi>=2017.4.17 in /usr/local/lib/python3.10/dist-packages (from requests<3,>=2.0.0->wandb) (2023.11.17)\n",
            "Requirement already satisfied: smmap<6,>=3.0.1 in /usr/local/lib/python3.10/dist-packages (from gitdb<5,>=4.0.1->GitPython!=3.1.29,>=1.0.0->wandb) (5.0.1)\n"
          ]
        }
      ],
      "source": [
        "!pip install fastapi==0.104.1 typing_extensions==4.8.0 gradio==3.41.0\n",
        "import gradio as gr\n",
        "\n",
        "import pandas as pd\n",
        "import numpy as np\n",
        "\n",
        "import networkx as nx\n",
        "\n",
        "from bokeh.plotting import show\n",
        "from bokeh.models import BoxSelectTool, Circle, EdgesAndLinkedNodes, HoverTool, ColumnDataSource, MultiLine, NodesAndLinkedEdges, Plot, Range1d, TapTool, PanTool, WheelZoomTool\n",
        "from bokeh.palettes import Spectral4\n",
        "from bokeh.plotting import from_networkx\n",
        "\n",
        "\n",
        "import torch\n",
        "\n",
        "def format_pytorch_version(version):\n",
        "  return version.split('+')[0]\n",
        "\n",
        "TORCH_version = torch.__version__\n",
        "TORCH = format_pytorch_version(TORCH_version)\n",
        "\n",
        "def format_cuda_version(version):\n",
        "  return 'cu' + version.replace('.', '')\n",
        "\n",
        "CUDA_version = torch.version.cuda\n",
        "CUDA = format_cuda_version(CUDA_version)\n",
        "\n",
        "!pip install torch-scatter -f https://pytorch-geometric.com/whl/torch-{TORCH}+{CUDA}.html\n",
        "!pip install torch-sparse -f https://pytorch-geometric.com/whl/torch-{TORCH}+{CUDA}.html\n",
        "!pip install torch-cluster -f https://pytorch-geometric.com/whl/torch-{TORCH}+{CUDA}.html\n",
        "!pip install torch-spline-conv -f https://pytorch-geometric.com/whl/torch-{TORCH}+{CUDA}.html\n",
        "!pip install pyg-lib -f https://pytorch-geometric.com/whl/torch-{TORCH}+{CUDA}.html\n",
        "!pip install torch-geometric\n",
        "\n",
        "import requests\n",
        "import pandas as pd\n",
        "import io\n",
        "import gzip\n",
        "import random\n",
        "from sklearn.metrics import roc_auc_score\n",
        "from sklearn.metrics import average_precision_score\n",
        "from torch_geometric.data import Data\n",
        "import networkx as nx\n",
        "import numpy as np\n",
        "import torch.nn as nn\n",
        "import torch.nn.functional as F\n",
        "from torch_geometric.nn.models import InnerProductDecoder, VGAE\n",
        "from torch_geometric.nn.conv import GCNConv\n",
        "from torch_geometric.utils import negative_sampling, remove_self_loops, add_self_loops\n",
        "import os\n",
        "from torch.optim import Adam\n",
        "import torch_geometric.transforms as T\n",
        "from torch_geometric.utils import train_test_split_edges\n",
        "from torch_geometric.nn.models import Node2Vec\n",
        "from torch_geometric.transforms import RandomLinkSplit\n",
        "\n",
        "%matplotlib inline\n",
        "import matplotlib.pyplot as plt\n",
        "from sklearn.metrics import roc_curve, roc_auc_score\n",
        "\n",
        "!pip install wandb\n",
        "import wandb\n",
        "\n",
        "!pip freeze > requirements.txt"
      ]
    },
    {
      "cell_type": "markdown",
      "metadata": {
        "id": "d51CqgrSKAVk"
      },
      "source": [
        "## Data acquisition and analysis"
      ]
    },
    {
      "cell_type": "code",
      "execution_count": 13,
      "metadata": {
        "id": "V-dQXwTXj_fG"
      },
      "outputs": [],
      "source": [
        "# Define the URL for the data\n",
        "url = \"https://snap.stanford.edu/data/facebook_combined.txt.gz\"\n",
        "\n",
        "# Send an HTTP GET request to the URL\n",
        "response = requests.get(url)\n",
        "\n",
        "# Check if the request was successful (status code 200)\n",
        "if response.status_code == 200:\n",
        "    # Extract the content from the response\n",
        "    content = response.content\n",
        "\n",
        "    # Decompress the content using gzip\n",
        "    with gzip.open(io.BytesIO(content), 'rt') as f:\n",
        "        # Read the data into a Pandas DataFrame\n",
        "        df = pd.read_csv(f, sep=\" \", header=None, names=[\"source\", \"target\"])\n",
        "\n",
        "else:\n",
        "    print(\"Failed to download the data. Status code:\", response.status_code)"
      ]
    },
    {
      "cell_type": "markdown",
      "metadata": {
        "id": "IWrkui_Qm-aq"
      },
      "source": [
        "## Data cleansing"
      ]
    },
    {
      "cell_type": "code",
      "execution_count": 14,
      "metadata": {
        "id": "WMzsJvyRkAAL"
      },
      "outputs": [],
      "source": [
        "# Remove duplicate edges and self-edges\n",
        "condition = df['source'] > df['target']\n",
        "df.loc[condition, ['source', 'target']] = (df.loc[condition, ['target', 'source']].values)\n",
        "df = df.drop_duplicates()\n",
        "df = df[df['source'] != df['target']]"
      ]
    },
    {
      "cell_type": "markdown",
      "metadata": {
        "id": "9bHdCO5NfM-F"
      },
      "source": [
        "## Baseline Model"
      ]
    },
    {
      "cell_type": "code",
      "execution_count": 15,
      "metadata": {
        "colab": {
          "base_uri": "https://localhost:8080/"
        },
        "id": "PDmmgqoNfP6y",
        "outputId": "32044be8-9804-454d-936d-7a19534a49b4"
      },
      "outputs": [
        {
          "output_type": "stream",
          "name": "stderr",
          "text": [
            "<ipython-input-15-ade907476353>:4: DeprecationWarning: Sampling from a set deprecated\n",
            "since Python 3.9 and will be removed in a subsequent version.\n",
            "  train_edges = random.sample(g.edges(), k = int(0.8 * g.number_of_edges()))\n"
          ]
        },
        {
          "output_type": "stream",
          "name": "stdout",
          "text": [
            "Baseline: Preferential Attachment ROC score:  0.8267615825846976\n",
            "Baseline: Preferential Attachment AP score:  0.8430094541217709\n"
          ]
        }
      ],
      "source": [
        "g = nx.from_pandas_edgelist(df)\n",
        "\n",
        "all_edges = g.edges()\n",
        "train_edges = random.sample(g.edges(), k = int(0.8 * g.number_of_edges()))\n",
        "test_edges = list(all_edges - train_edges)\n",
        "\n",
        "all_negative_edges = list(nx.non_edges(g))\n",
        "test_edges_false = random.sample(all_negative_edges, len(test_edges))\n",
        "\n",
        "g_train = g.copy()\n",
        "g_train.remove_edges_from(test_edges)\n",
        "\n",
        "# Compute Preferential Attachment values from g_train\n",
        "aa_matrix = np.zeros((g.number_of_nodes(), g.number_of_nodes()))\n",
        "for u, v, p in nx.preferential_attachment(g_train): # (u, v) = node indices, p = Preferential Attachment value\n",
        "  aa_matrix[u][v] = p\n",
        "  aa_matrix[v][u] = p # make sure it's symmetric\n",
        "\n",
        "# Normalize array\n",
        "aa_matrix = aa_matrix / aa_matrix.max()\n",
        "\n",
        "adj_sparse = nx.to_scipy_sparse_array(g)\n",
        "\n",
        "def get_baseline_roc_score(edges_pos, edges_neg, score_matrix):\n",
        "  # Store positive edge predictions, actual values\n",
        "  preds_pos = []\n",
        "  pos = []\n",
        "  for edge in edges_pos:\n",
        "    preds_pos.append(score_matrix[edge[0], edge[1]]) # predicted score\n",
        "    pos.append(adj_sparse[edge[0], edge[1]]) # actual value (1 for positive)\n",
        "\n",
        "  # Store negative edge predictions, actual values\n",
        "  preds_neg = []\n",
        "  neg = []\n",
        "  for edge in edges_neg:\n",
        "    preds_neg.append(score_matrix[edge[0], edge[1]]) # predicted score\n",
        "    neg.append(adj_sparse[edge[0], edge[1]]) # actual value (0 for negative)\n",
        "\n",
        "  # Calculate scores\n",
        "  preds_all = np.hstack([preds_pos, preds_neg])\n",
        "  labels_all = np.hstack([np.ones(len(preds_pos)), np.zeros(len(preds_neg))])\n",
        "  roc_score = roc_auc_score(labels_all, preds_all)\n",
        "  ap_score = average_precision_score(labels_all, preds_all)\n",
        "  return roc_score, ap_score\n",
        "\n",
        "# Calculate ROC AUC and Average Precision\n",
        "aa_roc, aa_ap = get_baseline_roc_score(test_edges, test_edges_false, aa_matrix)\n",
        "\n",
        "print('Baseline: Preferential Attachment ROC score: ', str(aa_roc))\n",
        "print('Baseline: Preferential Attachment AP score: ', str(aa_ap))"
      ]
    },
    {
      "cell_type": "markdown",
      "metadata": {
        "id": "Z3aEHuHLmrpX"
      },
      "source": [
        "## Model"
      ]
    },
    {
      "cell_type": "code",
      "execution_count": 16,
      "metadata": {
        "id": "Fli6gQ5SmkJJ"
      },
      "outputs": [],
      "source": [
        "class GCNEncoder(nn.Module):\n",
        "  def __init__(self, in_channels, hidden_channels, out_channels):\n",
        "    super(GCNEncoder, self).__init__()\n",
        "    self.gcn_shared = GCNConv(in_channels, hidden_channels)\n",
        "    self.gcn_mu = GCNConv(hidden_channels, out_channels)\n",
        "    self.gcn_logvar = GCNConv(hidden_channels, out_channels)\n",
        "\n",
        "  def forward(self, x, edge_index):\n",
        "    x = F.relu(self.gcn_shared(x, edge_index))\n",
        "    mu = self.gcn_mu(x, edge_index)\n",
        "    logvar = self.gcn_logvar(x, edge_index)\n",
        "    return mu, logvar\n",
        "\n",
        "\n",
        "class DeepVGAE(VGAE):\n",
        "  def __init__(self, in_channels, hidden_channels, out_channels):\n",
        "    super(DeepVGAE, self).__init__(encoder = GCNEncoder(in_channels, hidden_channels, out_channels), decoder = InnerProductDecoder())\n",
        "\n",
        "  def forward(self, x, edge_index):\n",
        "    z = self.encode(x, edge_index)\n",
        "    adj_pred = self.decoder.forward_all(z)\n",
        "    return adj_pred\n",
        "\n",
        "  def loss(self, x, pos_edge_index, neg_edge_index):\n",
        "    z = self.encode(x, pos_edge_index)\n",
        "\n",
        "    pos_loss = -torch.log(self.decoder(z, pos_edge_index, sigmoid = True) + 1e-15).mean()\n",
        "    neg_loss = -torch.log(1 - self.decoder(z, neg_edge_index, sigmoid = True) + 1e-15).mean()\n",
        "\n",
        "    kl_loss = 1 / x.size(0) * self.kl_loss()\n",
        "\n",
        "    return pos_loss + neg_loss + kl_loss\n",
        "\n",
        "  def single_test(self, x, train_pos_edge_index, test_pos_edge_index, test_neg_edge_index):\n",
        "    with torch.no_grad():\n",
        "      z = self.encode(x, train_pos_edge_index)\n",
        "    roc_auc_score, average_precision_score = self.test(z, test_pos_edge_index, test_neg_edge_index)\n",
        "    return roc_auc_score, average_precision_score"
      ]
    },
    {
      "cell_type": "code",
      "execution_count": 17,
      "metadata": {
        "id": "lc1ZqZV3LhSt"
      },
      "outputs": [],
      "source": [
        "torch.manual_seed(42)\n",
        "device = torch.device('cuda' if torch.cuda.is_available() else 'cpu')\n",
        "\n",
        "def create_input(config):\n",
        "  # Hyperparameters\n",
        "  learning_rate = config[\"learning_rate\"]\n",
        "  num_features = config[\"num_features\"]\n",
        "  num_epoch = config[\"num_epoch\"]\n",
        "  hidden_channels = config[\"hidden_channels\"]\n",
        "  out_channels = config[\"out_channels\"]\n",
        "  walk_length = config[\"walk_length\"]\n",
        "  context_size = config[\"context_size\"]\n",
        "  walks_per_node = config[\"walks_per_node\"]\n",
        "\n",
        "  edge_index = torch.tensor(df[['source', 'target']].values.T, dtype=torch.long)\n",
        "  num_nodes = len(np.unique(np.array(df.values).reshape(1,-1)))\n",
        "  train_n2v_model = Node2Vec(edge_index = edge_index, embedding_dim = num_features, walk_length = walk_length, context_size = context_size, walks_per_node = walks_per_node, sparse = True)\n",
        "  x = train_n2v_model.forward()\n",
        "\n",
        "  # split data before using node2vec\n",
        "  data = Data(edge_index = edge_index, num_nodes = num_nodes)\n",
        "  transform = RandomLinkSplit(is_undirected = True, neg_sampling_ratio = 1, num_test = 0.2, num_val = 0.1)\n",
        "  train_data, val_data, test_data = transform(data)\n",
        "\n",
        "  # use node2vec to create embeddings for train, test and val data seperately\n",
        "  train_positive_edges_mask = (train_data.edge_label == 1)\n",
        "  train_positive_edges = train_data.edge_index[:, train_positive_edges_mask]\n",
        "  train_data = Data(x = x, edge_index = train_positive_edges)\n",
        "  train_neg_edge_index = negative_sampling(train_data.edge_index, num_nodes = train_data.num_nodes, num_neg_samples = train_positive_edges.size(1))\n",
        "  train_data.pos_edge_index = train_data.edge_index\n",
        "  train_data.neg_edge_index = train_neg_edge_index\n",
        "  train_data.edge_index = torch.cat([train_data.pos_edge_index, train_data.neg_edge_index], dim=1)\n",
        "\n",
        "\n",
        "  test_positive_edges_mask = (test_data.edge_label == 1)\n",
        "  test_positive_edges = test_data.edge_label_index[:, test_positive_edges_mask]\n",
        "  test_data = Data(x = x, edge_index = test_positive_edges)\n",
        "  test_neg_edge_index = negative_sampling(test_data.edge_index, num_nodes = test_data.num_nodes, num_neg_samples = test_positive_edges.size(1))\n",
        "  test_data.pos_edge_index = test_data.edge_index\n",
        "  test_data.neg_edge_index = test_neg_edge_index\n",
        "  test_data.edge_index = torch.cat([test_data.pos_edge_index, test_data.neg_edge_index], dim=1)\n",
        "\n",
        "\n",
        "  val_positive_edges_mask = (val_data.edge_label == 1)\n",
        "  val_positive_edges = val_data.edge_label_index[:, val_positive_edges_mask]\n",
        "  val_data = Data(x = x, edge_index = val_positive_edges)\n",
        "  val_neg_edge_index = negative_sampling(val_data.edge_index, num_nodes = val_data.num_nodes, num_neg_samples = val_positive_edges.size(1))\n",
        "  val_data.pos_edge_index = val_data.edge_index\n",
        "  val_data.neg_edge_index = val_neg_edge_index\n",
        "  val_data.edge_index = torch.cat([val_data.pos_edge_index, val_data.neg_edge_index], dim=1)\n",
        "\n",
        "  return train_data, test_data, val_data\n",
        "\n",
        "def train_model(config, train_data, test_data, val_data, log_wandb):\n",
        "  learning_rate = config[\"learning_rate\"]\n",
        "  num_features = config[\"num_features\"]\n",
        "  num_epoch = config[\"num_epoch\"]\n",
        "  hidden_channels = config[\"hidden_channels\"]\n",
        "  out_channels = config[\"out_channels\"]\n",
        "  walk_length = config[\"walk_length\"]\n",
        "  context_size = config[\"context_size\"]\n",
        "  walks_per_node = config[\"walks_per_node\"]\n",
        "\n",
        "  model = DeepVGAE(num_features, hidden_channels, out_channels).to(device)\n",
        "  optimizer = Adam(model.parameters(), lr = learning_rate)\n",
        "\n",
        "  for epoch in range(num_epoch):\n",
        "    model.train()\n",
        "    optimizer.zero_grad()\n",
        "    val_loss = model.loss(val_data.x, val_data.pos_edge_index, val_data.neg_edge_index)\n",
        "    train_loss = model.loss(train_data.x, train_data.pos_edge_index, train_data.neg_edge_index)\n",
        "    train_loss.backward()\n",
        "    optimizer.step()\n",
        "    model.eval()\n",
        "    roc_auc, ap = model.single_test(train_data.x, train_data.pos_edge_index, test_data.pos_edge_index, test_data.neg_edge_index)\n",
        "\n",
        "    if(log_wandb == True):\n",
        "      wandb.log({\"Training Loss\" : train_loss, \"Validation Loss\" : val_loss, \"ROC / AUC\" : roc_auc, \"Precision\" : ap})\n",
        "\n",
        "  return model, roc_auc, ap\n",
        "\n",
        "def wandb_train_model():\n",
        "  wandb.init()\n",
        "\n",
        "  train_data, test_data, val_data = create_input(wandb.config)\n",
        "\n",
        "  train_data = train_data.to(device)\n",
        "  test_data = test_data.to(device)\n",
        "  val_data = val_data.to(device)\n",
        "\n",
        "  model, roc_auc, ap = train_model(wandb.config, train_data, test_data, val_data, True)"
      ]
    },
    {
      "cell_type": "markdown",
      "metadata": {
        "id": "gExs9AQ3KhbL"
      },
      "source": [
        "##  Training the model"
      ]
    },
    {
      "cell_type": "code",
      "execution_count": 18,
      "metadata": {
        "colab": {
          "base_uri": "https://localhost:8080/",
          "height": 628,
          "referenced_widgets": [
            "ac2456632ee74a10bcce80ee34629038",
            "9ba9b0ce79f04ee89e451ab39d3353e9",
            "83eb0385f451492d852a0ed6e3e32dac",
            "3142aa0349c14eea81be930d288c0fff",
            "4b2d981dcc7e4f98831ba8bf022c7e24",
            "d2e8e2d1b6c0459e9a1fc81cf91d835b",
            "d036739e66a14e6bab48dfa5fffb3a0a",
            "2c598d4e4fd84c798dc7c6b26319ddc6"
          ]
        },
        "id": "HM-qQtcAnLKK",
        "outputId": "c07f0bcd-2d48-4daa-afcb-66f84adffbd9"
      },
      "outputs": [
        {
          "output_type": "stream",
          "name": "stdout",
          "text": [
            "Create sweep with ID: vd2ci63h\n",
            "Sweep URL: https://wandb.ai/szabolcsrikli/Deep%20Learning%20Homework/sweeps/vd2ci63h\n"
          ]
        },
        {
          "output_type": "stream",
          "name": "stderr",
          "text": [
            "\u001b[34m\u001b[1mwandb\u001b[0m: Agent Starting Run: v0tbanx9 with config:\n",
            "\u001b[34m\u001b[1mwandb\u001b[0m: \tcontext_size: 5\n",
            "\u001b[34m\u001b[1mwandb\u001b[0m: \thidden_channels: 28\n",
            "\u001b[34m\u001b[1mwandb\u001b[0m: \tlearning_rate: 0.072455359207828\n",
            "\u001b[34m\u001b[1mwandb\u001b[0m: \tnum_epoch: 185\n",
            "\u001b[34m\u001b[1mwandb\u001b[0m: \tnum_features: 103\n",
            "\u001b[34m\u001b[1mwandb\u001b[0m: \tout_channels: 7\n",
            "\u001b[34m\u001b[1mwandb\u001b[0m: \twalk_length: 53\n",
            "\u001b[34m\u001b[1mwandb\u001b[0m: \twalks_per_node: 6\n"
          ]
        },
        {
          "output_type": "display_data",
          "data": {
            "text/plain": [
              "<IPython.core.display.HTML object>"
            ],
            "text/html": [
              "Tracking run with wandb version 0.16.1"
            ]
          },
          "metadata": {}
        },
        {
          "output_type": "display_data",
          "data": {
            "text/plain": [
              "<IPython.core.display.HTML object>"
            ],
            "text/html": [
              "Run data is saved locally in <code>/content/wandb/run-20231210_122251-v0tbanx9</code>"
            ]
          },
          "metadata": {}
        },
        {
          "output_type": "display_data",
          "data": {
            "text/plain": [
              "<IPython.core.display.HTML object>"
            ],
            "text/html": [
              "Syncing run <strong><a href='https://wandb.ai/szabolcsrikli/Deep%20Learning%20Homework/runs/v0tbanx9' target=\"_blank\">eager-sweep-1</a></strong> to <a href='https://wandb.ai/szabolcsrikli/Deep%20Learning%20Homework' target=\"_blank\">Weights & Biases</a> (<a href='https://wandb.me/run' target=\"_blank\">docs</a>)<br/>Sweep page: <a href='https://wandb.ai/szabolcsrikli/Deep%20Learning%20Homework/sweeps/vd2ci63h' target=\"_blank\">https://wandb.ai/szabolcsrikli/Deep%20Learning%20Homework/sweeps/vd2ci63h</a>"
            ]
          },
          "metadata": {}
        },
        {
          "output_type": "display_data",
          "data": {
            "text/plain": [
              "<IPython.core.display.HTML object>"
            ],
            "text/html": [
              " View project at <a href='https://wandb.ai/szabolcsrikli/Deep%20Learning%20Homework' target=\"_blank\">https://wandb.ai/szabolcsrikli/Deep%20Learning%20Homework</a>"
            ]
          },
          "metadata": {}
        },
        {
          "output_type": "display_data",
          "data": {
            "text/plain": [
              "<IPython.core.display.HTML object>"
            ],
            "text/html": [
              " View sweep at <a href='https://wandb.ai/szabolcsrikli/Deep%20Learning%20Homework/sweeps/vd2ci63h' target=\"_blank\">https://wandb.ai/szabolcsrikli/Deep%20Learning%20Homework/sweeps/vd2ci63h</a>"
            ]
          },
          "metadata": {}
        },
        {
          "output_type": "display_data",
          "data": {
            "text/plain": [
              "<IPython.core.display.HTML object>"
            ],
            "text/html": [
              " View run at <a href='https://wandb.ai/szabolcsrikli/Deep%20Learning%20Homework/runs/v0tbanx9' target=\"_blank\">https://wandb.ai/szabolcsrikli/Deep%20Learning%20Homework/runs/v0tbanx9</a>"
            ]
          },
          "metadata": {}
        },
        {
          "output_type": "display_data",
          "data": {
            "text/plain": [
              "VBox(children=(Label(value='0.010 MB of 0.011 MB uploaded\\r'), FloatProgress(value=0.898287758752875, max=1.0)…"
            ],
            "application/vnd.jupyter.widget-view+json": {
              "version_major": 2,
              "version_minor": 0,
              "model_id": "ac2456632ee74a10bcce80ee34629038"
            }
          },
          "metadata": {}
        },
        {
          "output_type": "display_data",
          "data": {
            "text/plain": [
              "<IPython.core.display.HTML object>"
            ],
            "text/html": [
              "<style>\n",
              "    table.wandb td:nth-child(1) { padding: 0 10px; text-align: left ; width: auto;} td:nth-child(2) {text-align: left ; width: 100%}\n",
              "    .wandb-row { display: flex; flex-direction: row; flex-wrap: wrap; justify-content: flex-start; width: 100% }\n",
              "    .wandb-col { display: flex; flex-direction: column; flex-basis: 100%; flex: 1; padding: 10px; }\n",
              "    </style>\n",
              "<div class=\"wandb-row\"><div class=\"wandb-col\"><h3>Run history:</h3><br/><table class=\"wandb\"><tr><td>Precision</td><td>▂▁▁▃▅▅▆▆▆▇▇▇▇▇▇█████████████████████████</td></tr><tr><td>ROC / AUC</td><td>▂▁▃▄▅▅▆▆▇▇▇▇▇▇▇█████████████████████████</td></tr><tr><td>Training Loss</td><td>█▁▁▁▁▁▁▁▁▁▁▁▁▁▁▁▁▁▁▁▁▁▁▁▁▁▁▁▁▁▁▁▁▁▁▁▁▁▁▁</td></tr><tr><td>Validation Loss</td><td>█▂▂▃▃▂▁▁▂▂▁▁▁▁▁▁▁▁▁▁▁▁▁▁▁▁▁▁▁▁▁▁▁▁▁▁▁▁▁▁</td></tr></table><br/></div><div class=\"wandb-col\"><h3>Run summary:</h3><br/><table class=\"wandb\"><tr><td>Precision</td><td>0.95272</td></tr><tr><td>ROC / AUC</td><td>0.95733</td></tr><tr><td>Training Loss</td><td>0.84915</td></tr><tr><td>Validation Loss</td><td>1.79579</td></tr></table><br/></div></div>"
            ]
          },
          "metadata": {}
        },
        {
          "output_type": "display_data",
          "data": {
            "text/plain": [
              "<IPython.core.display.HTML object>"
            ],
            "text/html": [
              " View run <strong style=\"color:#cdcd00\">eager-sweep-1</strong> at: <a href='https://wandb.ai/szabolcsrikli/Deep%20Learning%20Homework/runs/v0tbanx9' target=\"_blank\">https://wandb.ai/szabolcsrikli/Deep%20Learning%20Homework/runs/v0tbanx9</a><br/>Synced 4 W&B file(s), 0 media file(s), 0 artifact file(s) and 0 other file(s)"
            ]
          },
          "metadata": {}
        },
        {
          "output_type": "display_data",
          "data": {
            "text/plain": [
              "<IPython.core.display.HTML object>"
            ],
            "text/html": [
              "Find logs at: <code>./wandb/run-20231210_122251-v0tbanx9/logs</code>"
            ]
          },
          "metadata": {}
        },
        {
          "output_type": "stream",
          "name": "stderr",
          "text": [
            "\u001b[34m\u001b[1mwandb\u001b[0m: Sorting runs by +summary_metrics.Validation Loss\n"
          ]
        }
      ],
      "source": [
        "# Hyperparameter optimalization\n",
        "sweep_configuration = {\n",
        "  \"method\": \"bayes\",\n",
        "  \"name\": \"sweep\",\n",
        "  \"metric\": {\"goal\": \"minimize\", \"name\": \"Validation Loss\"},\n",
        "  \"parameters\": {\n",
        "    \"learning_rate\" : {\"max\" : 0.1, \"min\" : 0.0001},\n",
        "    \"num_features\" : {\"min\" : 2, \"max\" : 128},\n",
        "    \"num_epoch\" : {\"min\" : 25, \"max\" : 200},\n",
        "    \"hidden_channels\" : {\"min\" : 1, \"max\" : 64},\n",
        "    \"out_channels\" : {\"min\" : 1, \"max\" : 16},\n",
        "    \"walk_length\" : {\"min\" : 10, \"max\" : 100},\n",
        "    \"context_size\" : {\"min\" : 1, \"max\" : 10},\n",
        "    \"walks_per_node\" : {\"min\" : 1, \"max\" : 10},\n",
        "  },\n",
        "}\n",
        "\n",
        "#wandb.login()\n",
        "os.environ[\"WANDB_API_KEY\"] = \"858ab781cf5ec123e162cc8cfe304c1a096f76cb\"\n",
        "\n",
        "project = \"Deep Learning Homework\"\n",
        "sweep_id = wandb.sweep(sweep = sweep_configuration, project = project)\n",
        "count = 1\n",
        "wandb.agent(sweep_id, function = wandb_train_model, count = count)\n",
        "\n",
        "sweep = wandb.Api().sweep(f'{os.getenv(\"WANDB_ENTITY\")}/{project}/{sweep_id}')\n",
        "best_run = sweep.best_run()\n",
        "best_parameters = best_run.config\n",
        "\n",
        "wandb.finish()\n",
        "\n",
        "# Training a model with the best parameters\n",
        "train_data, test_data, val_data = create_input(best_parameters)\n",
        "train_data = train_data.to(device)\n",
        "test_data = test_data.to(device)\n",
        "val_data = val_data.to(device)\n",
        "model, roc_auc, ap = train_model(best_parameters, train_data, test_data, val_data, False)"
      ]
    },
    {
      "cell_type": "code",
      "source": [
        "print(roc_auc, ap)"
      ],
      "metadata": {
        "id": "XbkoNPhdAi_5",
        "outputId": "4bed98d4-56bd-47aa-c1a2-c475b7278805",
        "colab": {
          "base_uri": "https://localhost:8080/"
        }
      },
      "execution_count": 19,
      "outputs": [
        {
          "output_type": "stream",
          "name": "stdout",
          "text": [
            "0.9583468248300421 0.9539381822788823\n"
          ]
        }
      ]
    },
    {
      "cell_type": "markdown",
      "metadata": {
        "id": "KvJQLTjhndlE"
      },
      "source": [
        "## Creating and cleansing output"
      ]
    },
    {
      "cell_type": "code",
      "execution_count": 20,
      "metadata": {
        "id": "gMinnVb4oG7X"
      },
      "outputs": [],
      "source": [
        "# Predicting adjacency matrix containing edge probabilities\n",
        "final_edge_index = model.forward(test_data.x, test_data.edge_index)\n",
        "\n",
        "# Creating a pandas dataframe from the adjacency matrix\n",
        "pred_adj_mat = final_edge_index\n",
        "pred_adj_mat_numpy = pred_adj_mat.cpu().detach().numpy()\n",
        "G_pred = nx.from_numpy_array(pred_adj_mat_numpy)\n",
        "df_pred = nx.to_pandas_edgelist(G_pred)\n",
        "\n",
        "# Deleting duplicate edges and self-edges\n",
        "condition = df_pred['source'] > df_pred['target']\n",
        "df_pred.loc[condition, ['source', 'target']] = (df_pred.loc[condition, ['target', 'source']].values)\n",
        "df_pred = df_pred.drop_duplicates()\n",
        "df_pred = df_pred[df_pred['source'] != df_pred['target']]"
      ]
    },
    {
      "cell_type": "code",
      "source": [
        "df_pred['weight'].hist(bins=100)"
      ],
      "metadata": {
        "id": "tgwKKpGTOQA6"
      },
      "execution_count": null,
      "outputs": []
    },
    {
      "cell_type": "code",
      "execution_count": 21,
      "metadata": {
        "colab": {
          "base_uri": "https://localhost:8080/",
          "height": 616
        },
        "id": "T_Vz8nvX6mcG",
        "outputId": "c12291f0-6ba5-452a-922b-3fa0f7ada54b"
      },
      "outputs": [
        {
          "output_type": "stream",
          "name": "stdout",
          "text": [
            "Colab notebook detected. To show errors in colab notebook, set debug=True in launch()\n",
            "Note: opening Chrome Inspector may crash demo inside Colab notebooks.\n",
            "\n",
            "To create a public link, set `share=True` in `launch()`.\n"
          ]
        },
        {
          "output_type": "display_data",
          "data": {
            "text/plain": [
              "<IPython.core.display.Javascript object>"
            ],
            "application/javascript": [
              "(async (port, path, width, height, cache, element) => {\n",
              "                        if (!google.colab.kernel.accessAllowed && !cache) {\n",
              "                            return;\n",
              "                        }\n",
              "                        element.appendChild(document.createTextNode(''));\n",
              "                        const url = await google.colab.kernel.proxyPort(port, {cache});\n",
              "\n",
              "                        const external_link = document.createElement('div');\n",
              "                        external_link.innerHTML = `\n",
              "                            <div style=\"font-family: monospace; margin-bottom: 0.5rem\">\n",
              "                                Running on <a href=${new URL(path, url).toString()} target=\"_blank\">\n",
              "                                    https://localhost:${port}${path}\n",
              "                                </a>\n",
              "                            </div>\n",
              "                        `;\n",
              "                        element.appendChild(external_link);\n",
              "\n",
              "                        const iframe = document.createElement('iframe');\n",
              "                        iframe.src = new URL(path, url).toString();\n",
              "                        iframe.height = height;\n",
              "                        iframe.allow = \"autoplay; camera; microphone; clipboard-read; clipboard-write;\"\n",
              "                        iframe.width = width;\n",
              "                        iframe.style.border = 0;\n",
              "                        element.appendChild(iframe);\n",
              "                    })(7861, \"/\", \"100%\", 500, false, window.element)"
            ]
          },
          "metadata": {}
        }
      ],
      "source": [
        "def update(node_name):\n",
        "  index = int(node_name)\n",
        "\n",
        "  # Retrieving edges of the node with name: index\n",
        "  condition = df_pred['source'] == index\n",
        "  predicted_edges = df_pred.loc[condition, df_pred.columns]\n",
        "  condition = df_pred['target'] == index\n",
        "  predicted_edges = pd.concat([predicted_edges, df_pred.loc[condition, df_pred.columns]])\n",
        "\n",
        "  # Sorting edges by probability\n",
        "  predicted_edges = predicted_edges.sort_values(by = ['weight'], ascending = False)\n",
        "\n",
        "  # Plot\n",
        "  fig = plt.figure()\n",
        "  ax = fig.add_axes([0.1, 0.1, 0.8, 0.8])\n",
        "  ax.hist(x = predicted_edges['weight'], bins = 100, density = True, range = [0.0, 1.0])\n",
        "  plt.grid(color = 'grey', linestyle='--', linewidth=0.5)\n",
        "  plt.title(\"Probability density of edges\")\n",
        "  plt.xlabel(\"x\")\n",
        "  plt.ylabel(\"Density\")\n",
        "\n",
        "  return predicted_edges.head(10), fig;\n",
        "\n",
        "# Displaying the styled dataframe in Gradio\n",
        "with gr.Blocks() as demo:\n",
        "  with gr.Row():\n",
        "    inp = gr.Textbox(placeholder = \"Which node's recommendations do you want to see?\")\n",
        "    out = gr.DataFrame()\n",
        "    out2 = gr.Plot()\n",
        "  btn = gr.Button(\"Run\")\n",
        "  btn.click(fn = update, inputs = [inp], outputs = [out, out2])\n",
        "\n",
        "if __name__ == \"__main__\":\n",
        "  demo.launch(show_api = False, share = False)"
      ]
    }
  ],
  "metadata": {
    "accelerator": "GPU",
    "colab": {
      "collapsed_sections": [
        "9bHdCO5NfM-F"
      ],
      "provenance": [],
      "gpuType": "T4"
    },
    "kernelspec": {
      "display_name": "Python 3",
      "name": "python3"
    },
    "language_info": {
      "name": "python"
    },
    "widgets": {
      "application/vnd.jupyter.widget-state+json": {
        "ac2456632ee74a10bcce80ee34629038": {
          "model_module": "@jupyter-widgets/controls",
          "model_name": "VBoxModel",
          "model_module_version": "1.5.0",
          "state": {
            "_dom_classes": [],
            "_model_module": "@jupyter-widgets/controls",
            "_model_module_version": "1.5.0",
            "_model_name": "VBoxModel",
            "_view_count": null,
            "_view_module": "@jupyter-widgets/controls",
            "_view_module_version": "1.5.0",
            "_view_name": "VBoxView",
            "box_style": "",
            "children": [
              "IPY_MODEL_9ba9b0ce79f04ee89e451ab39d3353e9",
              "IPY_MODEL_83eb0385f451492d852a0ed6e3e32dac"
            ],
            "layout": "IPY_MODEL_3142aa0349c14eea81be930d288c0fff"
          }
        },
        "9ba9b0ce79f04ee89e451ab39d3353e9": {
          "model_module": "@jupyter-widgets/controls",
          "model_name": "LabelModel",
          "model_module_version": "1.5.0",
          "state": {
            "_dom_classes": [],
            "_model_module": "@jupyter-widgets/controls",
            "_model_module_version": "1.5.0",
            "_model_name": "LabelModel",
            "_view_count": null,
            "_view_module": "@jupyter-widgets/controls",
            "_view_module_version": "1.5.0",
            "_view_name": "LabelView",
            "description": "",
            "description_tooltip": null,
            "layout": "IPY_MODEL_4b2d981dcc7e4f98831ba8bf022c7e24",
            "placeholder": "​",
            "style": "IPY_MODEL_d2e8e2d1b6c0459e9a1fc81cf91d835b",
            "value": "0.011 MB of 0.011 MB uploaded\r"
          }
        },
        "83eb0385f451492d852a0ed6e3e32dac": {
          "model_module": "@jupyter-widgets/controls",
          "model_name": "FloatProgressModel",
          "model_module_version": "1.5.0",
          "state": {
            "_dom_classes": [],
            "_model_module": "@jupyter-widgets/controls",
            "_model_module_version": "1.5.0",
            "_model_name": "FloatProgressModel",
            "_view_count": null,
            "_view_module": "@jupyter-widgets/controls",
            "_view_module_version": "1.5.0",
            "_view_name": "ProgressView",
            "bar_style": "",
            "description": "",
            "description_tooltip": null,
            "layout": "IPY_MODEL_d036739e66a14e6bab48dfa5fffb3a0a",
            "max": 1,
            "min": 0,
            "orientation": "horizontal",
            "style": "IPY_MODEL_2c598d4e4fd84c798dc7c6b26319ddc6",
            "value": 1
          }
        },
        "3142aa0349c14eea81be930d288c0fff": {
          "model_module": "@jupyter-widgets/base",
          "model_name": "LayoutModel",
          "model_module_version": "1.2.0",
          "state": {
            "_model_module": "@jupyter-widgets/base",
            "_model_module_version": "1.2.0",
            "_model_name": "LayoutModel",
            "_view_count": null,
            "_view_module": "@jupyter-widgets/base",
            "_view_module_version": "1.2.0",
            "_view_name": "LayoutView",
            "align_content": null,
            "align_items": null,
            "align_self": null,
            "border": null,
            "bottom": null,
            "display": null,
            "flex": null,
            "flex_flow": null,
            "grid_area": null,
            "grid_auto_columns": null,
            "grid_auto_flow": null,
            "grid_auto_rows": null,
            "grid_column": null,
            "grid_gap": null,
            "grid_row": null,
            "grid_template_areas": null,
            "grid_template_columns": null,
            "grid_template_rows": null,
            "height": null,
            "justify_content": null,
            "justify_items": null,
            "left": null,
            "margin": null,
            "max_height": null,
            "max_width": null,
            "min_height": null,
            "min_width": null,
            "object_fit": null,
            "object_position": null,
            "order": null,
            "overflow": null,
            "overflow_x": null,
            "overflow_y": null,
            "padding": null,
            "right": null,
            "top": null,
            "visibility": null,
            "width": null
          }
        },
        "4b2d981dcc7e4f98831ba8bf022c7e24": {
          "model_module": "@jupyter-widgets/base",
          "model_name": "LayoutModel",
          "model_module_version": "1.2.0",
          "state": {
            "_model_module": "@jupyter-widgets/base",
            "_model_module_version": "1.2.0",
            "_model_name": "LayoutModel",
            "_view_count": null,
            "_view_module": "@jupyter-widgets/base",
            "_view_module_version": "1.2.0",
            "_view_name": "LayoutView",
            "align_content": null,
            "align_items": null,
            "align_self": null,
            "border": null,
            "bottom": null,
            "display": null,
            "flex": null,
            "flex_flow": null,
            "grid_area": null,
            "grid_auto_columns": null,
            "grid_auto_flow": null,
            "grid_auto_rows": null,
            "grid_column": null,
            "grid_gap": null,
            "grid_row": null,
            "grid_template_areas": null,
            "grid_template_columns": null,
            "grid_template_rows": null,
            "height": null,
            "justify_content": null,
            "justify_items": null,
            "left": null,
            "margin": null,
            "max_height": null,
            "max_width": null,
            "min_height": null,
            "min_width": null,
            "object_fit": null,
            "object_position": null,
            "order": null,
            "overflow": null,
            "overflow_x": null,
            "overflow_y": null,
            "padding": null,
            "right": null,
            "top": null,
            "visibility": null,
            "width": null
          }
        },
        "d2e8e2d1b6c0459e9a1fc81cf91d835b": {
          "model_module": "@jupyter-widgets/controls",
          "model_name": "DescriptionStyleModel",
          "model_module_version": "1.5.0",
          "state": {
            "_model_module": "@jupyter-widgets/controls",
            "_model_module_version": "1.5.0",
            "_model_name": "DescriptionStyleModel",
            "_view_count": null,
            "_view_module": "@jupyter-widgets/base",
            "_view_module_version": "1.2.0",
            "_view_name": "StyleView",
            "description_width": ""
          }
        },
        "d036739e66a14e6bab48dfa5fffb3a0a": {
          "model_module": "@jupyter-widgets/base",
          "model_name": "LayoutModel",
          "model_module_version": "1.2.0",
          "state": {
            "_model_module": "@jupyter-widgets/base",
            "_model_module_version": "1.2.0",
            "_model_name": "LayoutModel",
            "_view_count": null,
            "_view_module": "@jupyter-widgets/base",
            "_view_module_version": "1.2.0",
            "_view_name": "LayoutView",
            "align_content": null,
            "align_items": null,
            "align_self": null,
            "border": null,
            "bottom": null,
            "display": null,
            "flex": null,
            "flex_flow": null,
            "grid_area": null,
            "grid_auto_columns": null,
            "grid_auto_flow": null,
            "grid_auto_rows": null,
            "grid_column": null,
            "grid_gap": null,
            "grid_row": null,
            "grid_template_areas": null,
            "grid_template_columns": null,
            "grid_template_rows": null,
            "height": null,
            "justify_content": null,
            "justify_items": null,
            "left": null,
            "margin": null,
            "max_height": null,
            "max_width": null,
            "min_height": null,
            "min_width": null,
            "object_fit": null,
            "object_position": null,
            "order": null,
            "overflow": null,
            "overflow_x": null,
            "overflow_y": null,
            "padding": null,
            "right": null,
            "top": null,
            "visibility": null,
            "width": null
          }
        },
        "2c598d4e4fd84c798dc7c6b26319ddc6": {
          "model_module": "@jupyter-widgets/controls",
          "model_name": "ProgressStyleModel",
          "model_module_version": "1.5.0",
          "state": {
            "_model_module": "@jupyter-widgets/controls",
            "_model_module_version": "1.5.0",
            "_model_name": "ProgressStyleModel",
            "_view_count": null,
            "_view_module": "@jupyter-widgets/base",
            "_view_module_version": "1.2.0",
            "_view_name": "StyleView",
            "bar_color": null,
            "description_width": ""
          }
        }
      }
    }
  },
  "nbformat": 4,
  "nbformat_minor": 0
}