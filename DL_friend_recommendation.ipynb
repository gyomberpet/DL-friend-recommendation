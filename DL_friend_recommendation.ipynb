{
  "nbformat": 4,
  "nbformat_minor": 0,
  "metadata": {
    "colab": {
      "provenance": [],
      "authorship_tag": "ABX9TyNnT7tbe9PPcPTSeM3e5PCH",
      "include_colab_link": true
    },
    "kernelspec": {
      "name": "python3",
      "display_name": "Python 3"
    },
    "language_info": {
      "name": "python"
    }
  },
  "cells": [
    {
      "cell_type": "markdown",
      "metadata": {
        "id": "view-in-github",
        "colab_type": "text"
      },
      "source": [
        "<a href=\"https://colab.research.google.com/github/gyomberpet/DL-friend-recommendation/blob/main/DL_friend_recommendation.ipynb\" target=\"_parent\"><img src=\"https://colab.research.google.com/assets/colab-badge.svg\" alt=\"Open In Colab\"/></a>"
      ]
    },
    {
      "cell_type": "markdown",
      "source": [
        "# **Friend recommendation**"
      ],
      "metadata": {
        "id": "r7IsFFBOIIkc"
      }
    },
    {
      "cell_type": "markdown",
      "source": [
        "Related materials:\n",
        "\n",
        "* https://snap.stanford.edu/data/ego-Facebook.html\n",
        "* https://snap.stanford.edu/data/ego-Gplus.html\n",
        "* https://snap.stanford.edu/data/ego-Twitter.html\n",
        "* https://github.com/aditya-grover/node2vec\n",
        "* https://github.com/pyg-team/pytorch_geometric\n",
        "* https://arxiv.org/abs/1607.00653\n",
        "* https://arxiv.org/abs/1611.07308"
      ],
      "metadata": {
        "id": "yqieVsJAJqyr"
      }
    },
    {
      "cell_type": "markdown",
      "source": [
        "## Imports"
      ],
      "metadata": {
        "id": "595V_NfZI0Ua"
      }
    },
    {
      "cell_type": "markdown",
      "source": [
        "## Data acquisition and analysis"
      ],
      "metadata": {
        "id": "d51CqgrSKAVk"
      }
    },
    {
      "cell_type": "markdown",
      "source": [
        "## Data cleansing and preparation"
      ],
      "metadata": {
        "id": "ggaVqdDLKGSf"
      }
    },
    {
      "cell_type": "markdown",
      "source": [
        "##  Evaluation criteria"
      ],
      "metadata": {
        "id": "gExs9AQ3KhbL"
      }
    },
    {
      "cell_type": "markdown",
      "source": [
        "## Baseline model"
      ],
      "metadata": {
        "id": "Lds8aWTGK1pV"
      }
    },
    {
      "cell_type": "markdown",
      "source": [
        "## Train model"
      ],
      "metadata": {
        "id": "PyjpFJfpK7by"
      }
    },
    {
      "cell_type": "markdown",
      "source": [
        "## Evaluate"
      ],
      "metadata": {
        "id": "ZYp_bgZrLHn6"
      }
    }
  ]
}