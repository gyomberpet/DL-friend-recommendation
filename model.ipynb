{
  "nbformat": 4,
  "nbformat_minor": 0,
  "metadata": {
    "colab": {
      "provenance": []
    },
    "kernelspec": {
      "name": "python3",
      "display_name": "Python 3"
    },
    "language_info": {
      "name": "python"
    }
  },
  "cells": [
    {
      "cell_type": "markdown",
      "source": [
        "# **Imports**"
      ],
      "metadata": {
        "id": "iFfEnOXepskP"
      }
    },
    {
      "cell_type": "code",
      "execution_count": 1,
      "metadata": {
        "colab": {
          "base_uri": "https://localhost:8080/"
        },
        "id": "_-gkzaSSIj-W",
        "outputId": "38fb0dd9-732c-4c0f-d6b2-a45dee8a227c"
      },
      "outputs": [
        {
          "output_type": "stream",
          "name": "stdout",
          "text": [
            "Looking in links: https://pytorch-geometric.com/whl/torch-2.1.0+cu118.html\n",
            "Collecting torch-scatter\n",
            "  Downloading https://data.pyg.org/whl/torch-2.1.0%2Bcu118/torch_scatter-2.1.2%2Bpt21cu118-cp310-cp310-linux_x86_64.whl (10.2 MB)\n",
            "\u001b[2K     \u001b[90m━━━━━━━━━━━━━━━━━━━━━━━━━━━━━━━━━━━━━━━━\u001b[0m \u001b[32m10.2/10.2 MB\u001b[0m \u001b[31m23.7 MB/s\u001b[0m eta \u001b[36m0:00:00\u001b[0m\n",
            "\u001b[?25hInstalling collected packages: torch-scatter\n",
            "Successfully installed torch-scatter-2.1.2+pt21cu118\n",
            "Looking in links: https://pytorch-geometric.com/whl/torch-2.1.0+cu118.html\n",
            "Collecting torch-sparse\n",
            "  Downloading https://data.pyg.org/whl/torch-2.1.0%2Bcu118/torch_sparse-0.6.18%2Bpt21cu118-cp310-cp310-linux_x86_64.whl (4.9 MB)\n",
            "\u001b[2K     \u001b[90m━━━━━━━━━━━━━━━━━━━━━━━━━━━━━━━━━━━━━━━━\u001b[0m \u001b[32m4.9/4.9 MB\u001b[0m \u001b[31m24.1 MB/s\u001b[0m eta \u001b[36m0:00:00\u001b[0m\n",
            "\u001b[?25hRequirement already satisfied: scipy in /usr/local/lib/python3.10/dist-packages (from torch-sparse) (1.11.3)\n",
            "Requirement already satisfied: numpy<1.28.0,>=1.21.6 in /usr/local/lib/python3.10/dist-packages (from scipy->torch-sparse) (1.23.5)\n",
            "Installing collected packages: torch-sparse\n",
            "Successfully installed torch-sparse-0.6.18+pt21cu118\n",
            "Looking in links: https://pytorch-geometric.com/whl/torch-2.1.0+cu118.html\n",
            "Collecting torch-cluster\n",
            "  Downloading https://data.pyg.org/whl/torch-2.1.0%2Bcu118/torch_cluster-1.6.3%2Bpt21cu118-cp310-cp310-linux_x86_64.whl (3.3 MB)\n",
            "\u001b[2K     \u001b[90m━━━━━━━━━━━━━━━━━━━━━━━━━━━━━━━━━━━━━━━━\u001b[0m \u001b[32m3.3/3.3 MB\u001b[0m \u001b[31m17.0 MB/s\u001b[0m eta \u001b[36m0:00:00\u001b[0m\n",
            "\u001b[?25hRequirement already satisfied: scipy in /usr/local/lib/python3.10/dist-packages (from torch-cluster) (1.11.3)\n",
            "Requirement already satisfied: numpy<1.28.0,>=1.21.6 in /usr/local/lib/python3.10/dist-packages (from scipy->torch-cluster) (1.23.5)\n",
            "Installing collected packages: torch-cluster\n",
            "Successfully installed torch-cluster-1.6.3+pt21cu118\n",
            "Looking in links: https://pytorch-geometric.com/whl/torch-2.1.0+cu118.html\n",
            "Collecting torch-spline-conv\n",
            "  Downloading https://data.pyg.org/whl/torch-2.1.0%2Bcu118/torch_spline_conv-1.2.2%2Bpt21cu118-cp310-cp310-linux_x86_64.whl (887 kB)\n",
            "\u001b[2K     \u001b[90m━━━━━━━━━━━━━━━━━━━━━━━━━━━━━━━━━━━━━━━━\u001b[0m \u001b[32m887.8/887.8 kB\u001b[0m \u001b[31m6.1 MB/s\u001b[0m eta \u001b[36m0:00:00\u001b[0m\n",
            "\u001b[?25hInstalling collected packages: torch-spline-conv\n",
            "Successfully installed torch-spline-conv-1.2.2+pt21cu118\n",
            "Looking in links: https://pytorch-geometric.com/whl/torch-2.1.0+cu118.html\n",
            "Collecting pyg-lib\n",
            "  Downloading https://data.pyg.org/whl/torch-2.1.0%2Bcu118/pyg_lib-0.3.0%2Bpt21cu118-cp310-cp310-linux_x86_64.whl (2.5 MB)\n",
            "\u001b[2K     \u001b[90m━━━━━━━━━━━━━━━━━━━━━━━━━━━━━━━━━━━━━━━━\u001b[0m \u001b[32m2.5/2.5 MB\u001b[0m \u001b[31m14.5 MB/s\u001b[0m eta \u001b[36m0:00:00\u001b[0m\n",
            "\u001b[?25hInstalling collected packages: pyg-lib\n",
            "Successfully installed pyg-lib-0.3.0+pt21cu118\n",
            "Collecting torch-geometric\n",
            "  Downloading torch_geometric-2.4.0-py3-none-any.whl (1.0 MB)\n",
            "\u001b[2K     \u001b[90m━━━━━━━━━━━━━━━━━━━━━━━━━━━━━━━━━━━━━━━━\u001b[0m \u001b[32m1.0/1.0 MB\u001b[0m \u001b[31m12.0 MB/s\u001b[0m eta \u001b[36m0:00:00\u001b[0m\n",
            "\u001b[?25hRequirement already satisfied: tqdm in /usr/local/lib/python3.10/dist-packages (from torch-geometric) (4.66.1)\n",
            "Requirement already satisfied: numpy in /usr/local/lib/python3.10/dist-packages (from torch-geometric) (1.23.5)\n",
            "Requirement already satisfied: scipy in /usr/local/lib/python3.10/dist-packages (from torch-geometric) (1.11.3)\n",
            "Requirement already satisfied: jinja2 in /usr/local/lib/python3.10/dist-packages (from torch-geometric) (3.1.2)\n",
            "Requirement already satisfied: requests in /usr/local/lib/python3.10/dist-packages (from torch-geometric) (2.31.0)\n",
            "Requirement already satisfied: pyparsing in /usr/local/lib/python3.10/dist-packages (from torch-geometric) (3.1.1)\n",
            "Requirement already satisfied: scikit-learn in /usr/local/lib/python3.10/dist-packages (from torch-geometric) (1.2.2)\n",
            "Requirement already satisfied: psutil>=5.8.0 in /usr/local/lib/python3.10/dist-packages (from torch-geometric) (5.9.5)\n",
            "Requirement already satisfied: MarkupSafe>=2.0 in /usr/local/lib/python3.10/dist-packages (from jinja2->torch-geometric) (2.1.3)\n",
            "Requirement already satisfied: charset-normalizer<4,>=2 in /usr/local/lib/python3.10/dist-packages (from requests->torch-geometric) (3.3.0)\n",
            "Requirement already satisfied: idna<4,>=2.5 in /usr/local/lib/python3.10/dist-packages (from requests->torch-geometric) (3.4)\n",
            "Requirement already satisfied: urllib3<3,>=1.21.1 in /usr/local/lib/python3.10/dist-packages (from requests->torch-geometric) (2.0.7)\n",
            "Requirement already satisfied: certifi>=2017.4.17 in /usr/local/lib/python3.10/dist-packages (from requests->torch-geometric) (2023.7.22)\n",
            "Requirement already satisfied: joblib>=1.1.1 in /usr/local/lib/python3.10/dist-packages (from scikit-learn->torch-geometric) (1.3.2)\n",
            "Requirement already satisfied: threadpoolctl>=2.0.0 in /usr/local/lib/python3.10/dist-packages (from scikit-learn->torch-geometric) (3.2.0)\n",
            "Installing collected packages: torch-geometric\n",
            "Successfully installed torch-geometric-2.4.0\n"
          ]
        }
      ],
      "source": [
        "import torch\n",
        "\n",
        "def format_pytorch_version(version):\n",
        "  return version.split('+')[0]\n",
        "\n",
        "TORCH_version = torch.__version__\n",
        "TORCH = format_pytorch_version(TORCH_version)\n",
        "\n",
        "def format_cuda_version(version):\n",
        "  return 'cu' + version.replace('.', '')\n",
        "\n",
        "CUDA_version = torch.version.cuda\n",
        "CUDA = format_cuda_version(CUDA_version)\n",
        "\n",
        "!pip install torch-scatter -f https://pytorch-geometric.com/whl/torch-{TORCH}+{CUDA}.html\n",
        "!pip install torch-sparse -f https://pytorch-geometric.com/whl/torch-{TORCH}+{CUDA}.html\n",
        "!pip install torch-cluster -f https://pytorch-geometric.com/whl/torch-{TORCH}+{CUDA}.html\n",
        "!pip install torch-spline-conv -f https://pytorch-geometric.com/whl/torch-{TORCH}+{CUDA}.html\n",
        "!pip install pyg-lib -f https://pytorch-geometric.com/whl/torch-{TORCH}+{CUDA}.html\n",
        "!pip install torch-geometric\n",
        "\n",
        "import requests\n",
        "import pandas as pd\n",
        "import io\n",
        "import gzip\n",
        "from torch_geometric.data import Data\n",
        "import networkx as nx\n",
        "import numpy as np\n",
        "import torch.nn as nn\n",
        "import torch.nn.functional as F\n",
        "from torch_geometric.nn.models import InnerProductDecoder, VGAE\n",
        "from torch_geometric.nn.conv import GCNConv\n",
        "from torch_geometric.utils import negative_sampling, remove_self_loops, add_self_loops\n",
        "import os\n",
        "from torch.optim import Adam\n",
        "import torch_geometric.transforms as T\n",
        "from torch_geometric.utils import train_test_split_edges\n",
        "from torch_geometric.nn.models import Node2Vec\n",
        "\n",
        "!pip freeze > requirements.txt"
      ]
    },
    {
      "cell_type": "markdown",
      "source": [
        "# **Data acquisition**"
      ],
      "metadata": {
        "id": "P08Y_wsep5H-"
      }
    },
    {
      "cell_type": "code",
      "source": [
        "# Define the URL for the data\n",
        "url = \"https://snap.stanford.edu/data/facebook_combined.txt.gz\"\n",
        "\n",
        "# Send an HTTP GET request to the URL\n",
        "response = requests.get(url)\n",
        "\n",
        "# Check if the request was successful (status code 200)\n",
        "if response.status_code == 200:\n",
        "    # Extract the content from the response\n",
        "    content = response.content\n",
        "\n",
        "    # Decompress the content using gzip\n",
        "    with gzip.open(io.BytesIO(content), 'rt') as f:\n",
        "        # Read the data into a Pandas DataFrame\n",
        "        df = pd.read_csv(f, sep=\" \", header=None, names=[\"source\", \"target\"])\n",
        "\n",
        "else:\n",
        "    print(\"Failed to download the data. Status code:\", response.status_code)"
      ],
      "metadata": {
        "id": "ZXhUhd7mIs1c"
      },
      "execution_count": 2,
      "outputs": []
    },
    {
      "cell_type": "markdown",
      "source": [
        "# **Data cleansing**"
      ],
      "metadata": {
        "id": "wrPn2u7uqA8w"
      }
    },
    {
      "cell_type": "code",
      "source": [
        "# Remove duplicate edges and self-edges\n",
        "condition = df['source'] > df['target']\n",
        "df.loc[condition, ['source', 'target']] = (df.loc[condition, ['target', 'source']].values)\n",
        "df = df.drop_duplicates()\n",
        "df = df[df['source'] != df['target']]"
      ],
      "metadata": {
        "id": "vLkbY5t6IuL_"
      },
      "execution_count": 3,
      "outputs": []
    },
    {
      "cell_type": "markdown",
      "source": [
        "# **Data preparation**"
      ],
      "metadata": {
        "id": "cyvQoougqT_U"
      }
    },
    {
      "cell_type": "code",
      "source": [
        "device = torch.device('cuda' if torch.cuda.is_available() else 'cpu')\n",
        "\n",
        "# Hyperparameters\n",
        "learning_rate = 0.01\n",
        "num_features = 128\n",
        "epoch = 100\n",
        "hidden_channels = 32\n",
        "out_channels = 16\n",
        "\n",
        "# Generating node feature matrix using node2vec\n",
        "edge_index = torch.tensor(df[['source', 'target']].values.T, dtype=torch.long)\n",
        "n2v_model = Node2Vec(edge_index = edge_index, embedding_dim = num_features, walk_length = 80, context_size = 10, walks_per_node = 10, sparse = True)\n",
        "data = Data(x=n2v_model.forward(), edge_index=edge_index)\n",
        "\n",
        "# Splitting data into train, test and validation datasets\n",
        "all_edge_index = data.edge_index.to(device)\n",
        "all_edge_x = data.x.to(device)\n",
        "data = train_test_split_edges(data, 0.05, 0.1).to(device)"
      ],
      "metadata": {
        "colab": {
          "base_uri": "https://localhost:8080/"
        },
        "id": "1nNUJ9ZWIvQl",
        "outputId": "c9b33487-066a-4e62-8866-f1bf6dd491dc"
      },
      "execution_count": 4,
      "outputs": [
        {
          "output_type": "stream",
          "name": "stderr",
          "text": [
            "/usr/local/lib/python3.10/dist-packages/torch_geometric/deprecation.py:22: UserWarning: 'train_test_split_edges' is deprecated, use 'transforms.RandomLinkSplit' instead\n",
            "  warnings.warn(out)\n"
          ]
        }
      ]
    },
    {
      "cell_type": "markdown",
      "source": [
        "# **Model**"
      ],
      "metadata": {
        "id": "mAJkWXgoqJfO"
      }
    },
    {
      "cell_type": "code",
      "source": [
        "class GCNEncoder(nn.Module):\n",
        "    def __init__(self, in_channels, hidden_channels, out_channels):\n",
        "        super(GCNEncoder, self).__init__()\n",
        "        self.gcn_shared = GCNConv(in_channels, hidden_channels)\n",
        "        self.gcn_mu = GCNConv(hidden_channels, out_channels)\n",
        "        self.gcn_logvar = GCNConv(hidden_channels, out_channels)\n",
        "\n",
        "    def forward(self, x, edge_index):\n",
        "        x = F.relu(self.gcn_shared(x, edge_index))\n",
        "        mu = self.gcn_mu(x, edge_index)\n",
        "        logvar = self.gcn_logvar(x, edge_index)\n",
        "        return mu, logvar\n",
        "\n",
        "\n",
        "class DeepVGAE(VGAE):\n",
        "    def __init__(self, in_channels, hidden_channels, out_channels):\n",
        "        super(DeepVGAE, self).__init__(encoder=GCNEncoder(in_channels, hidden_channels, out_channels), decoder=InnerProductDecoder())\n",
        "\n",
        "    def forward(self, x, edge_index):\n",
        "        z = self.encode(x, edge_index)\n",
        "        adj_pred = self.decoder.forward_all(z)\n",
        "        return adj_pred\n",
        "\n",
        "    def loss(self, x, pos_edge_index, all_edge_index):\n",
        "        z = self.encode(x, pos_edge_index)\n",
        "\n",
        "        pos_loss = -torch.log(self.decoder(z, pos_edge_index, sigmoid=True) + 1e-15).mean()\n",
        "\n",
        "        # Do not include self-loops in negative samples\n",
        "        all_edge_index_tmp, _ = remove_self_loops(all_edge_index)\n",
        "        all_edge_index_tmp, _ = add_self_loops(all_edge_index_tmp)\n",
        "\n",
        "        neg_edge_index = negative_sampling(all_edge_index_tmp, z.size(0), pos_edge_index.size(1))\n",
        "        neg_loss = -torch.log(1 - self.decoder(z, neg_edge_index, sigmoid=True) + 1e-15).mean()\n",
        "\n",
        "        kl_loss = 1 / x.size(0) * self.kl_loss()\n",
        "\n",
        "        return pos_loss + neg_loss + kl_loss\n",
        "\n",
        "    def single_test(self, x, train_pos_edge_index, test_pos_edge_index, test_neg_edge_index):\n",
        "        with torch.no_grad():\n",
        "            z = self.encode(x, train_pos_edge_index)\n",
        "        roc_auc_score, average_precision_score = self.test(z, test_pos_edge_index, test_neg_edge_index)\n",
        "        return roc_auc_score, average_precision_score"
      ],
      "metadata": {
        "id": "5UaGTDM0Iwr-"
      },
      "execution_count": 5,
      "outputs": []
    },
    {
      "cell_type": "markdown",
      "source": [
        "# **Training the model**"
      ],
      "metadata": {
        "id": "RMMZcoufqx2b"
      }
    },
    {
      "cell_type": "code",
      "source": [
        "model = DeepVGAE(num_features, hidden_channels, out_channels).to(device)\n",
        "optimizer = Adam(model.parameters(), lr=learning_rate)\n",
        "\n",
        "for epoch in range(epoch):\n",
        "    model.train()\n",
        "    optimizer.zero_grad()\n",
        "    loss = model.loss(data.x, data.train_pos_edge_index, all_edge_index)\n",
        "    loss.backward()\n",
        "    optimizer.step()\n",
        "    if epoch % 10 == 0:\n",
        "        model.eval()\n",
        "        roc_auc, ap = model.single_test(data.x, data.train_pos_edge_index, data.test_pos_edge_index, data.test_neg_edge_index)\n",
        "        print(\"Epoch {} - Loss: {}, ROC_AUC: {}, Precision: {}\".format(epoch, loss.cpu().item(), roc_auc, ap))"
      ],
      "metadata": {
        "colab": {
          "base_uri": "https://localhost:8080/"
        },
        "id": "MfqJaLCgIx49",
        "outputId": "b86d58cc-bca7-4907-9342-93ab3daf7763"
      },
      "execution_count": 6,
      "outputs": [
        {
          "output_type": "stream",
          "name": "stdout",
          "text": [
            "Epoch 0 - Loss: 3.924163818359375, ROC_AUC: 0.6216437533458173, Precision: 0.6050489138251236\n",
            "Epoch 10 - Loss: 1.6789708137512207, ROC_AUC: 0.8545113156371913, Precision: 0.8531428814885837\n",
            "Epoch 20 - Loss: 1.0720899105072021, ROC_AUC: 0.9153736892807016, Precision: 0.9223609925239534\n",
            "Epoch 30 - Loss: 0.9463952779769897, ROC_AUC: 0.9479439222358478, Precision: 0.9534321881881312\n",
            "Epoch 40 - Loss: 0.9039803743362427, ROC_AUC: 0.9635856828352539, Precision: 0.9675877484824094\n",
            "Epoch 50 - Loss: 0.8764693140983582, ROC_AUC: 0.972062768210537, Precision: 0.9748295972379923\n",
            "Epoch 60 - Loss: 0.8628825545310974, ROC_AUC: 0.9767731985563322, Precision: 0.9789714756479917\n",
            "Epoch 70 - Loss: 0.8531568646430969, ROC_AUC: 0.9794014808518569, Precision: 0.9812859756241361\n",
            "Epoch 80 - Loss: 0.8440874218940735, ROC_AUC: 0.9813807839388796, Precision: 0.9829957876245667\n",
            "Epoch 90 - Loss: 0.8338752388954163, ROC_AUC: 0.9832693044434304, Precision: 0.9845983666216247\n"
          ]
        }
      ]
    },
    {
      "cell_type": "markdown",
      "source": [
        "# **Creating and cleansing output**"
      ],
      "metadata": {
        "id": "2JeMTHzgrR7i"
      }
    },
    {
      "cell_type": "code",
      "source": [
        "# Predicting adjacency matrix containing edge probabilities\n",
        "final_edge_index = model.forward(all_edge_x, all_edge_index)\n",
        "\n",
        "# Creating a pandas dataframe from the adjacency matrix\n",
        "pred_adj_mat = final_edge_index\n",
        "pred_adj_mat_numpy = pred_adj_mat.cpu().detach().numpy()\n",
        "G_pred = nx.from_numpy_array(pred_adj_mat_numpy)\n",
        "df_pred = nx.to_pandas_edgelist(G_pred)\n",
        "\n",
        "# Deleting duplicate edges and self-edges\n",
        "condition = df_pred['source'] > df_pred['target']\n",
        "df_pred.loc[condition, ['source', 'target']] = (df_pred.loc[condition, ['target', 'source']].values)\n",
        "df_pred = df_pred.drop_duplicates()\n",
        "df_pred = df_pred[df_pred['source'] != df_pred['target']]"
      ],
      "metadata": {
        "id": "nTfvgGNTyV_L"
      },
      "execution_count": 7,
      "outputs": []
    },
    {
      "cell_type": "markdown",
      "source": [
        "# **Retrieving predictions for a single node**"
      ],
      "metadata": {
        "id": "zh0AWvZRrXgf"
      }
    },
    {
      "cell_type": "code",
      "source": [
        "# Retrieving edges of the node with name: index\n",
        "index = 3987\n",
        "condition = df_pred['source'] == index\n",
        "predicted_edges = df_pred.loc[condition, df_pred.columns]\n",
        "condition = df_pred['target'] == index\n",
        "predicted_edges = pd.concat([predicted_edges, df_pred.loc[condition, df_pred.columns]])\n",
        "\n",
        "# Sorting edges by probability\n",
        "predicted_edges = predicted_edges.sort_values(by=['weight'], ascending=False)\n",
        "\n",
        "# Dropping every edge contained in the input graph thus retaining new edges only\n",
        "predicted_edges = predicted_edges.merge(df, indicator=True, how='outer')\n",
        "print(predicted_edges[predicted_edges['_merge'] == 'left_only'])\n",
        "\n",
        "# Displaying histogram of edge probabilities of node: index\n",
        "hist = predicted_edges['weight'].hist(bins=50)"
      ],
      "metadata": {
        "colab": {
          "base_uri": "https://localhost:8080/",
          "height": 673
        },
        "id": "YXY73X53FkWU",
        "outputId": "1b3ac42b-d406-4100-97c1-1595c977aac1"
      },
      "execution_count": 8,
      "outputs": [
        {
          "output_type": "stream",
          "name": "stdout",
          "text": [
            "      source  target    weight     _merge\n",
            "0     3987.0  4007.0  1.000000  left_only\n",
            "1     3987.0  4016.0  1.000000  left_only\n",
            "2     3987.0  4025.0  1.000000  left_only\n",
            "3     3987.0  4015.0  1.000000  left_only\n",
            "4     3987.0  4008.0  0.999997  left_only\n",
            "...      ...     ...       ...        ...\n",
            "4033  3262.0  3987.0  0.000057  left_only\n",
            "4034  2364.0  3987.0  0.000053  left_only\n",
            "4035  2657.0  3987.0  0.000039  left_only\n",
            "4036  2648.0  3987.0  0.000028  left_only\n",
            "4037  3830.0  3987.0  0.000006  left_only\n",
            "\n",
            "[4036 rows x 4 columns]\n"
          ]
        },
        {
          "output_type": "display_data",
          "data": {
            "text/plain": [
              "<Figure size 640x480 with 1 Axes>"
            ],
            "image/png": "[encoded data removed]"
          },
          "metadata": {}
        }
      ]
    }
  ]
}